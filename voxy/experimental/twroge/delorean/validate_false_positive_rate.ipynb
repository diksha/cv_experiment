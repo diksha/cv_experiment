{
 "cells": [
  {
   "cell_type": "markdown",
   "id": "e0294ddc",
   "metadata": {},
   "source": [
    "# Merged Incidents Validation\n",
    "\n",
    "This notebook is just a simple reference to perform the statistical tests described in:\n",
    "https://docs.google.com/document/d/1egVnAQx9SLDSf9lgf-L4RLSyUyfmB48VqPxU59nghm0\n",
    "\n"
   ]
  },
  {
   "attachments": {},
   "cell_type": "markdown",
   "id": "6eb5b79b",
   "metadata": {},
   "source": [
    "# Two Sample Proportion Z Test\n",
    "\n",
    "This describes the two porportion z test: https://vitalflux.com/two-sample-z-test-for-proportions-formula-examples/#:~:text=A%20two%2Dproportion%20Z%2Dtest,the%20two%20proportions%20are%20equal.\n"
   ]
  },
  {
   "cell_type": "code",
   "execution_count": 6,
   "id": "9b891048",
   "metadata": {},
   "outputs": [],
   "source": [
    "from dataclasses import dataclass\n",
    "import numpy as np\n",
    "import scipy.stats\n",
    "from math import sqrt\n",
    "\n",
    "\n",
    "@dataclass\n",
    "class ProportionTestSample:\n",
    "    false_positive_rate: float\n",
    "    n: int\n",
    "\n",
    "\n",
    "@dataclass\n",
    "class ZTestResult:\n",
    "    p_value: float\n",
    "    z_score: float\n",
    "\n",
    "\n",
    "def two_tailed_test_z_score_to_p_value(z_score: float) -> float:\n",
    "    return scipy.stats.norm.sf(abs(z_score)) * 2\n",
    "\n",
    "\n",
    "def two_proportion_z_test(\n",
    "    observed_sample: ProportionTestSample, merged_sample: ProportionTestSample\n",
    "):\n",
    "    p1_hat = observed_sample.false_positive_rate\n",
    "    p2_hat = merged_sample.false_positive_rate\n",
    "\n",
    "    n1 = observed_sample.n\n",
    "    n2 = merged_sample.n\n",
    "\n",
    "    p_hat = (p1_hat * n1 + p2_hat * n2) / (n1 + n2)\n",
    "    z_score = (p1_hat - p2_hat) / sqrt(p_hat * (1 - p_hat) * (1 / n1 + 1 / n2))\n",
    "    return ZTestResult(\n",
    "        p_value=two_tailed_test_z_score_to_p_value(z_score), z_score=z_score\n",
    "    )"
   ]
  },
  {
   "cell_type": "code",
   "execution_count": 8,
   "id": "b7017b9b",
   "metadata": {},
   "outputs": [
    {
     "name": "stdout",
     "output_type": "stream",
     "text": [
      "ZTestResult(p_value=0.6588772543001226, z_score=0.4414638119680947)\n"
     ]
    }
   ],
   "source": [
    "example_sample_1 = ProportionTestSample(false_positive_rate=0.5, n=1000)\n",
    "example_sample_2 = ProportionTestSample(false_positive_rate=0.49, n=950)\n",
    "\n",
    "print(\n",
    "    two_proportion_z_test(\n",
    "        observed_sample=example_sample_1, merged_sample=example_sample_2\n",
    "    )\n",
    ")"
   ]
  },
  {
   "cell_type": "code",
   "execution_count": 9,
   "id": "2b4105cf",
   "metadata": {},
   "outputs": [
    {
     "name": "stdout",
     "output_type": "stream",
     "text": [
      "ZTestResult(p_value=2.2280473322885796e-19, z_score=9.001425946102922)\n"
     ]
    }
   ],
   "source": [
    "example_sample_1 = ProportionTestSample(false_positive_rate=0.5, n=1000)\n",
    "example_sample_2 = ProportionTestSample(false_positive_rate=0.3, n=950)\n",
    "\n",
    "print(\n",
    "    two_proportion_z_test(\n",
    "        observed_sample=example_sample_1, merged_sample=example_sample_2\n",
    "    )\n",
    ")"
   ]
  },
  {
   "cell_type": "code",
   "execution_count": null,
   "id": "dc6e2edf",
   "metadata": {},
   "outputs": [],
   "source": []
  }
 ],
 "metadata": {
  "kernelspec": {
   "display_name": "Python 3 (ipykernel)",
   "language": "python",
   "name": "python3"
  },
  "language_info": {
   "codemirror_mode": {
    "name": "ipython",
    "version": 3
   },
   "file_extension": ".py",
   "mimetype": "text/x-python",
   "name": "python",
   "nbconvert_exporter": "python",
   "pygments_lexer": "ipython3",
   "version": "3.9.13"
  }
 },
 "nbformat": 4,
 "nbformat_minor": 5
}
