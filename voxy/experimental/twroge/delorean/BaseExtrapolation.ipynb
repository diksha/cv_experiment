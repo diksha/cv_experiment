{
 "cells": [
  {
   "cell_type": "markdown",
   "id": "d7e8b242",
   "metadata": {},
   "source": [
    "# Connect to DB"
   ]
  },
  {
   "cell_type": "code",
   "execution_count": 1,
   "id": "a3d1be85",
   "metadata": {},
   "outputs": [],
   "source": [
    "import pandas as pd\n",
    "import matplotlib.pyplot as plt\n",
    "import time\n",
    "import numpy as np\n",
    "import datetime\n",
    "import copy\n",
    "import seaborn as sns\n",
    "import scipy\n",
    "import psycopg2"
   ]
  },
  {
   "cell_type": "code",
   "execution_count": 2,
   "id": "70c71463",
   "metadata": {},
   "outputs": [],
   "source": [
    "username = input(\"Username: \")\n",
    "password = input(\"Password: \")\n",
    "\n",
    "# Clear output\n",
    "from IPython.display import clear_output\n",
    "\n",
    "clear_output()"
   ]
  },
  {
   "cell_type": "code",
   "execution_count": null,
   "id": "5cd4773e",
   "metadata": {},
   "outputs": [],
   "source": [
    "conn = psycopg2.connect(\n",
    "    user=username,\n",
    "    password=password,\n",
    "    host=\"portal-production-postgres.c1trxszive18.us-west-2.rds.amazonaws.com\",\n",
    "    port=\"5432\",\n",
    "    database=\"portal_production_postgres\",\n",
    ")\n",
    "\n",
    "cursor = conn.cursor()"
   ]
  },
  {
   "cell_type": "markdown",
   "id": "30267f46",
   "metadata": {},
   "source": [
    "# Extracting Delorean Incidents"
   ]
  },
  {
   "cell_type": "code",
   "execution_count": null,
   "id": "96fc1bcd",
   "metadata": {},
   "outputs": [],
   "source": [
    "# Query the review database\n",
    "sql = \"\"\"\n",
    "SELECT\n",
    "*\n",
    "FROM api_incident\n",
    "WHERE \n",
    "data->>'cooldown_tag' = 'True'\n",
    "\"\"\"\n",
    "\n",
    "delorean_incidents = pd.read_sql(sql, conn)"
   ]
  },
  {
   "cell_type": "code",
   "execution_count": null,
   "id": "7ad4ebf0",
   "metadata": {},
   "outputs": [],
   "source": [
    "import plotly.express as px\n",
    "\n",
    "\n",
    "fig = px.histogram(\n",
    "    delorean_incidents, x=\"title\", color=\"title\", barmode=\"group\", height=400\n",
    ")\n",
    "fig.show()"
   ]
  },
  {
   "cell_type": "code",
   "execution_count": null,
   "id": "3412f816",
   "metadata": {},
   "outputs": [],
   "source": [
    "from enum import Enum, unique\n",
    "\n",
    "\n",
    "@unique\n",
    "class ReviewType(Enum):\n",
    "    DEFAULT_UNKNOWN = 0\n",
    "    TRUE_POSITIVE = 1\n",
    "    FALSE_POSITIVE = 2\n",
    "    UNSURE = 3\n",
    "\n",
    "\n",
    "def positive_negative_to_type(valid_count, invalid_count, unsure_count):\n",
    "    if valid_count > 0 and invalid_count == 0:\n",
    "        return ReviewType.TRUE_POSITIVE\n",
    "    if invalid_count > 0 and valid_count == 0:\n",
    "        return ReviewType.FALSE_POSITIVE\n",
    "    return ReviewType.UNSURE\n",
    "\n",
    "\n",
    "delorean_incidents[\"review_category\"] = delorean_incidents.apply(\n",
    "    lambda row: positive_negative_to_type(\n",
    "        row[\"valid_feedback_count\"],\n",
    "        row[\"invalid_feedback_count\"],\n",
    "        row[\"unsure_feedback_count\"],\n",
    "    ),\n",
    "    axis=1,\n",
    ")"
   ]
  },
  {
   "cell_type": "markdown",
   "id": "d6ff48c8",
   "metadata": {},
   "source": [
    "So the origin of the data will always be the true regular incident counts. So let's get those"
   ]
  },
  {
   "cell_type": "code",
   "execution_count": null,
   "id": "66c2ed17",
   "metadata": {},
   "outputs": [],
   "source": [
    "# Query the review database\n",
    "sql = \"\"\"\n",
    "SELECT\n",
    "data->>'camera_uuid' as c_uuid\n",
    "FROM api_incident\n",
    "WHERE \n",
    "data->>'cooldown_tag' = 'True'\n",
    "group by\n",
    "c_uuid\n",
    "\"\"\"\n",
    "\n",
    "camera_uuids = pd.read_sql(sql, conn)"
   ]
  },
  {
   "cell_type": "code",
   "execution_count": null,
   "id": "4289be39",
   "metadata": {
    "scrolled": true
   },
   "outputs": [],
   "source": [
    "sql = \"\"\"\n",
    "SELECT *,\n",
    "data->>'camera_uuid' as c_uuid\n",
    "from api_incident\n",
    "where\n",
    "data->>'camera_uuid' in (\n",
    "SELECT\n",
    "data->>'camera_uuid' as c_uuid\n",
    "FROM api_incident\n",
    "WHERE \n",
    "data->>'cooldown_tag' = 'True'\n",
    "group by\n",
    "c_uuid \n",
    ") and created_at >\n",
    "(\n",
    "SELECT\n",
    "MIN(created_at)\n",
    "FROM api_incident\n",
    "WHERE \n",
    "data->>'cooldown_tag' = 'True'\n",
    ")\n",
    "and \n",
    "data->>'cooldown_tag' = 'False'\n",
    "\"\"\"\n",
    "\n",
    "all_non_delorean_incidents = pd.read_sql(sql, conn)"
   ]
  },
  {
   "cell_type": "code",
   "execution_count": null,
   "id": "6b795c5b",
   "metadata": {},
   "outputs": [],
   "source": [
    "all_non_delorean_incidents[\n",
    "    \"review_category\"\n",
    "] = all_non_delorean_incidents.apply(\n",
    "    lambda row: positive_negative_to_type(\n",
    "        row[\"valid_feedback_count\"],\n",
    "        row[\"invalid_feedback_count\"],\n",
    "        row[\"unsure_feedback_count\"],\n",
    "    ),\n",
    "    axis=1,\n",
    ")"
   ]
  },
  {
   "cell_type": "code",
   "execution_count": null,
   "id": "d858b541",
   "metadata": {},
   "outputs": [],
   "source": [
    "def incident_data_to_camera_uuid(data):\n",
    "    return data[\"camera_uuid\"]"
   ]
  },
  {
   "cell_type": "code",
   "execution_count": null,
   "id": "51b6a450",
   "metadata": {},
   "outputs": [],
   "source": [
    "all_non_delorean_incidents[\"camera_uuid\"] = all_non_delorean_incidents.apply(\n",
    "    lambda row: incident_data_to_camera_uuid(row[\"data\"]),\n",
    "    axis=1,\n",
    ")\n",
    "delorean_incidents[\"camera_uuid\"] = delorean_incidents.apply(\n",
    "    lambda row: incident_data_to_camera_uuid(row[\"data\"]),\n",
    "    axis=1,\n",
    ")"
   ]
  },
  {
   "cell_type": "code",
   "execution_count": null,
   "id": "747e6844",
   "metadata": {},
   "outputs": [],
   "source": [
    "def evaluate_fp_rate(rows):\n",
    "    n = len(rows)\n",
    "    tp = len(rows[rows[\"review_category\"] == ReviewType.TRUE_POSITIVE])\n",
    "    fp = len(rows[rows[\"review_category\"] == ReviewType.FALSE_POSITIVE])\n",
    "    u_count = len(rows[rows[\"review_category\"] == ReviewType.UNSURE])\n",
    "    return (fp / n, u_count / n)\n",
    "\n",
    "\n",
    "grouped_non_delorean_results = all_non_delorean_incidents.groupby(\n",
    "    [\"camera_uuid\", \"title\"]\n",
    ").apply(evaluate_fp_rate)"
   ]
  },
  {
   "cell_type": "code",
   "execution_count": null,
   "id": "c530f7e9",
   "metadata": {},
   "outputs": [],
   "source": [
    "def incident_group_results(grouping_generator):\n",
    "    grouped_delorean_results = []\n",
    "    for grouping_key, df in grouping_generator:\n",
    "        new_item = {}\n",
    "        new_item[\"GroupKey\"] = str(grouping_key)\n",
    "        fp_rate, unsure_rate = evaluate_fp_rate(df)\n",
    "        count = len(df)\n",
    "        new_item[\"count\"] = count\n",
    "        new_item[\"fp_rate\"] = fp_rate\n",
    "        new_item[\"unsure_rate\"] = unsure_rate\n",
    "        grouped_delorean_results.append(new_item)\n",
    "\n",
    "    return pd.DataFrame.from_dict(grouped_delorean_results)\n",
    "\n",
    "\n",
    "g_delorean_results = incident_group_results(\n",
    "    delorean_incidents.groupby([\"camera_uuid\", \"title\"])\n",
    ")"
   ]
  },
  {
   "cell_type": "code",
   "execution_count": null,
   "id": "ae1b0491",
   "metadata": {},
   "outputs": [],
   "source": [
    "fig = px.bar(g_delorean_results, x=\"GroupKey\", y=\"fp_rate\", height=1000)\n",
    "fig.show()"
   ]
  },
  {
   "cell_type": "code",
   "execution_count": null,
   "id": "0632421f",
   "metadata": {},
   "outputs": [],
   "source": [
    "g_non_delorean_results = incident_group_results(\n",
    "    all_non_delorean_incidents.groupby([\"camera_uuid\", \"title\"])\n",
    ")"
   ]
  },
  {
   "cell_type": "code",
   "execution_count": null,
   "id": "37dbb1f6",
   "metadata": {},
   "outputs": [],
   "source": [
    "fig = px.bar(g_non_delorean_results, x=\"GroupKey\", y=\"fp_rate\", height=1000)\n",
    "fig.show()"
   ]
  },
  {
   "cell_type": "code",
   "execution_count": null,
   "id": "83440a31",
   "metadata": {},
   "outputs": [],
   "source": [
    "g_non_delorean_results[\"origin\"] = g_non_delorean_results.apply(\n",
    "    lambda x: \"non_delorean\", axis=1\n",
    ")\n",
    "g_delorean_results[\"origin\"] = g_delorean_results.apply(\n",
    "    lambda x: \"delorean\", axis=1\n",
    ")"
   ]
  },
  {
   "cell_type": "code",
   "execution_count": null,
   "id": "a7c59b8b",
   "metadata": {},
   "outputs": [],
   "source": [
    "merged = g_delorean_results.append(g_non_delorean_results)"
   ]
  },
  {
   "cell_type": "code",
   "execution_count": null,
   "id": "197c3324",
   "metadata": {},
   "outputs": [],
   "source": [
    "fig = px.bar(\n",
    "    merged,\n",
    "    x=\"GroupKey\",\n",
    "    y=\"fp_rate\",\n",
    "    height=1000,\n",
    "    color=\"origin\",\n",
    "    barmode=\"group\",\n",
    ")\n",
    "fig.show()"
   ]
  },
  {
   "cell_type": "code",
   "execution_count": null,
   "id": "820c8c0c",
   "metadata": {},
   "outputs": [],
   "source": [
    "def grouper_flat(merged_df_grouper):\n",
    "    new_df = []\n",
    "    for (group_id, items) in merged_df_grouper:\n",
    "        if len(items) < 2:\n",
    "            # just ignore for now\n",
    "            continue\n",
    "        new_item = {}\n",
    "        for _, item in items.iterrows():\n",
    "            if item[\"origin\"] == \"delorean\":\n",
    "                new_item[\"delorean_fp_rate\"] = item[\"fp_rate\"]\n",
    "                new_item[\"delorean_count\"] = item[\"count\"]\n",
    "            else:\n",
    "                new_item[\"regular_fp_rate\"] = item[\"fp_rate\"]\n",
    "                new_item[\"regular_count\"] = item[\"count\"]\n",
    "            new_item[\"GroupKey\"] = item[\"GroupKey\"]\n",
    "        new_df.append(new_item)\n",
    "    return pd.DataFrame.from_dict(new_df)\n",
    "\n",
    "\n",
    "flat_merged = grouper_flat(merged.groupby(\"GroupKey\"))"
   ]
  },
  {
   "cell_type": "code",
   "execution_count": null,
   "id": "255b0a4c",
   "metadata": {},
   "outputs": [],
   "source": []
  },
  {
   "cell_type": "code",
   "execution_count": null,
   "id": "1e25f390",
   "metadata": {},
   "outputs": [],
   "source": [
    "fig = px.scatter(\n",
    "    flat_merged,\n",
    "    x=\"regular_fp_rate\",\n",
    "    y=\"delorean_fp_rate\",\n",
    "    color=\"GroupKey\",\n",
    "    hover_data=[\"delorean_count\", \"regular_count\"],\n",
    ")\n",
    "fig.add_scatter(x=[0, 1], y=[0, 1], line={\"dash\": \"dot\", \"color\": \"black\"})\n",
    "fig.show()"
   ]
  },
  {
   "cell_type": "code",
   "execution_count": null,
   "id": "c2f9ddcd",
   "metadata": {},
   "outputs": [],
   "source": [
    "flat_merged[\"extrapolation_error\"] = flat_merged.apply(\n",
    "    lambda row: abs(row[\"delorean_fp_rate\"] - row[\"regular_fp_rate\"]), axis=1\n",
    ")"
   ]
  },
  {
   "cell_type": "code",
   "execution_count": null,
   "id": "b82562e4",
   "metadata": {},
   "outputs": [],
   "source": [
    "fig = px.histogram(flat_merged, x=\"extrapolation_error\", histnorm=\"percent\")\n",
    "from scipy.stats import binomtest\n",
    "\n",
    "fig.show()"
   ]
  },
  {
   "cell_type": "code",
   "execution_count": null,
   "id": "8a8ef952",
   "metadata": {},
   "outputs": [],
   "source": [
    "from scipy.stats import binomtest\n",
    "\n",
    "\n",
    "def calculate_error(false_positives, n, extrapolated_rate):\n",
    "    binomial_test = binomtest(false_positives, n=n, p=extrapolated_rate)\n",
    "    confidence_interval = binomial_test.proportion_ci(confidence_level=0.95)\n",
    "    low_error = false_positives / n - confidence_interval.low\n",
    "    high_error = confidence_interval.high - false_positives / n\n",
    "    return (low_error, high_error), binomial_test.pvalue\n",
    "\n",
    "\n",
    "def calculate_error_for_row(row):\n",
    "    extrapolated = row[\"regular_fp_rate\"]\n",
    "    delorean = row[\"delorean_fp_rate\"]\n",
    "    fp_count = int(row[\"delorean_count\"] * delorean)\n",
    "    n = row[\"delorean_count\"]\n",
    "    return calculate_error(fp_count, n, extrapolated)\n",
    "\n",
    "\n",
    "def evaluate_group(delorean_grouper, regular_grouper):\n",
    "    g_non_delorean_results = incident_group_results(regular_grouper)\n",
    "    g_delorean_results = incident_group_results(delorean_grouper)\n",
    "    g_non_delorean_results[\"origin\"] = g_non_delorean_results.apply(\n",
    "        lambda x: \"non_delorean\", axis=1\n",
    "    )\n",
    "    g_delorean_results[\"origin\"] = g_delorean_results.apply(\n",
    "        lambda x: \"delorean\", axis=1\n",
    "    )\n",
    "    merged = g_delorean_results.append(g_non_delorean_results)\n",
    "    flat_merged = grouper_flat(merged.groupby(\"GroupKey\"))\n",
    "    error_rates = flat_merged.apply(calculate_error_for_row, axis=1)\n",
    "    # add error bars\n",
    "    flat_merged[\"e_minus\"] = error_rates.apply(lambda x: x[0][0])\n",
    "    flat_merged[\"e_plus\"] = error_rates.apply(lambda x: x[0][1])\n",
    "    flat_merged[\"p_value\"] = error_rates.apply(lambda x: x[1])\n",
    "\n",
    "    fig = px.scatter(\n",
    "        flat_merged,\n",
    "        x=\"regular_fp_rate\",\n",
    "        y=\"delorean_fp_rate\",\n",
    "        color=\"GroupKey\",\n",
    "        error_y=\"e_plus\",\n",
    "        error_y_minus=\"e_minus\",\n",
    "        hover_data=[\"delorean_count\", \"regular_count\", \"p_value\"],\n",
    "    )\n",
    "    fig.add_scatter(x=[0, 1], y=[0, 1], line={\"dash\": \"dot\", \"color\": \"black\"})\n",
    "    fig.show()\n",
    "\n",
    "    fig = px.scatter(\n",
    "        flat_merged,\n",
    "        x=\"regular_fp_rate\",\n",
    "        y=\"delorean_fp_rate\",\n",
    "        color=\"GroupKey\",\n",
    "        hover_data=[\"delorean_count\", \"regular_count\", \"p_value\"],\n",
    "    )\n",
    "    fig.add_scatter(x=[0, 1], y=[0, 1], line={\"dash\": \"dot\", \"color\": \"black\"})\n",
    "    fig.show()\n",
    "\n",
    "    flat_merged[\"extrapolation_error\"] = flat_merged.apply(\n",
    "        lambda row: abs(row[\"delorean_fp_rate\"] - row[\"regular_fp_rate\"]),\n",
    "        axis=1,\n",
    "    )\n",
    "    fig = px.histogram(\n",
    "        flat_merged, x=\"extrapolation_error\", histnorm=\"percent\"\n",
    "    )\n",
    "    fig.show()\n",
    "\n",
    "    fig = px.ecdf(flat_merged, x=\"extrapolation_error\")\n",
    "    fig.show()"
   ]
  },
  {
   "cell_type": "code",
   "execution_count": null,
   "id": "d6620516",
   "metadata": {},
   "outputs": [],
   "source": [
    "evaluate_group(\n",
    "    delorean_incidents.groupby([\"title\"]),\n",
    "    all_non_delorean_incidents.groupby([\"title\"]),\n",
    ")"
   ]
  },
  {
   "cell_type": "code",
   "execution_count": null,
   "id": "025b2618",
   "metadata": {},
   "outputs": [],
   "source": [
    "evaluate_group(\n",
    "    delorean_incidents.groupby([\"title\", \"camera_uuid\"]),\n",
    "    all_non_delorean_incidents.groupby([\"title\", \"camera_uuid\"]),\n",
    ")"
   ]
  },
  {
   "cell_type": "code",
   "execution_count": null,
   "id": "fba57599",
   "metadata": {},
   "outputs": [],
   "source": [
    "delorean_incidents[\"day_of_week\"] = delorean_incidents.apply(\n",
    "    lambda row: row[\"created_at\"].weekday(), axis=1\n",
    ")\n",
    "all_non_delorean_incidents[\"day_of_week\"] = all_non_delorean_incidents.apply(\n",
    "    lambda row: row[\"created_at\"].weekday(), axis=1\n",
    ")"
   ]
  },
  {
   "cell_type": "code",
   "execution_count": null,
   "id": "e46639ec",
   "metadata": {},
   "outputs": [],
   "source": [
    "evaluate_group(\n",
    "    delorean_incidents.groupby([\"title\", \"day_of_week\"]),\n",
    "    all_non_delorean_incidents.groupby([\"title\", \"day_of_week\"]),\n",
    ")"
   ]
  },
  {
   "cell_type": "code",
   "execution_count": null,
   "id": "f25dfe30",
   "metadata": {},
   "outputs": [],
   "source": [
    "evaluate_group(\n",
    "    delorean_incidents.groupby([\"title\", \"day_of_week\", \"camera_uuid\"]),\n",
    "    all_non_delorean_incidents.groupby(\n",
    "        [\"title\", \"day_of_week\", \"camera_uuid\"]\n",
    "    ),\n",
    ")"
   ]
  },
  {
   "cell_type": "code",
   "execution_count": null,
   "id": "43060773",
   "metadata": {},
   "outputs": [],
   "source": [
    "# add the organization too\n",
    "delorean_incidents[\"organization_location\"] = delorean_incidents.apply(\n",
    "    lambda row: \"\".join(row[\"data\"][\"camera_uuid\"].split(\"/\")[:2]), axis=1\n",
    ")\n",
    "all_non_delorean_incidents[\n",
    "    \"organization_location\"\n",
    "] = all_non_delorean_incidents.apply(\n",
    "    lambda row: \"\".join(row[\"data\"][\"camera_uuid\"].split(\"/\")[:2]), axis=1\n",
    ")"
   ]
  },
  {
   "cell_type": "code",
   "execution_count": null,
   "id": "afa4dff3",
   "metadata": {},
   "outputs": [],
   "source": [
    "evaluate_group(\n",
    "    delorean_incidents.groupby([\"title\", \"organization_location\"]),\n",
    "    all_non_delorean_incidents.groupby([\"title\", \"organization_location\"]),\n",
    ")"
   ]
  },
  {
   "cell_type": "code",
   "execution_count": null,
   "id": "6953007e",
   "metadata": {},
   "outputs": [],
   "source": [
    "# add the organization too\n",
    "delorean_incidents[\"organization_name\"] = delorean_incidents.apply(\n",
    "    lambda row: \"\".join(row[\"data\"][\"camera_uuid\"].split(\"/\")[:1]), axis=1\n",
    ")\n",
    "all_non_delorean_incidents[\n",
    "    \"organization_name\"\n",
    "] = all_non_delorean_incidents.apply(\n",
    "    lambda row: \"\".join(row[\"data\"][\"camera_uuid\"].split(\"/\")[:1]), axis=1\n",
    ")"
   ]
  },
  {
   "cell_type": "code",
   "execution_count": null,
   "id": "e3c52229",
   "metadata": {},
   "outputs": [],
   "source": [
    "evaluate_group(\n",
    "    delorean_incidents.groupby([\"title\", \"organization_name\"]),\n",
    "    all_non_delorean_incidents.groupby([\"title\", \"organization_name\"]),\n",
    ")"
   ]
  },
  {
   "cell_type": "code",
   "execution_count": null,
   "id": "cca591dd",
   "metadata": {},
   "outputs": [],
   "source": []
  },
  {
   "cell_type": "code",
   "execution_count": null,
   "id": "fad0e226",
   "metadata": {},
   "outputs": [],
   "source": []
  }
 ],
 "metadata": {
  "kernelspec": {
   "display_name": "Python 3 (ipykernel)",
   "language": "python",
   "name": "python3"
  },
  "language_info": {
   "codemirror_mode": {
    "name": "ipython",
    "version": 3
   },
   "file_extension": ".py",
   "mimetype": "text/x-python",
   "name": "python",
   "nbconvert_exporter": "python",
   "pygments_lexer": "ipython3",
   "version": "3.9.13"
  }
 },
 "nbformat": 4,
 "nbformat_minor": 5
}
