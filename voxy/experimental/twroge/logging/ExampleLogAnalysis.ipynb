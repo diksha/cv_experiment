{
 "cells": [
  {
   "cell_type": "markdown",
   "id": "d20e1732",
   "metadata": {},
   "source": [
    "# Example Log Analysis"
   ]
  },
  {
   "cell_type": "code",
   "execution_count": 1,
   "id": "071aef07",
   "metadata": {},
   "outputs": [],
   "source": [
    "import sys\n",
    "\n",
    "sys.path.append(\"/home/tim_voxelai_com/ws/voxel\")"
   ]
  },
  {
   "cell_type": "code",
   "execution_count": 2,
   "id": "f918f74a",
   "metadata": {},
   "outputs": [],
   "source": [
    "from core.structs.frame import Frame\n",
    "LOG_PATH = \"gs://voxel-temp/logs/tim/temporal_decorator_2/americold/modesto/e_dock_north/ch22_1/scenarios/PARKING_DURATION/positive/42309/TemporalNode.json\""
   ]
  },
  {
   "cell_type": "code",
   "execution_count": 3,
   "id": "fc3d5a30",
   "metadata": {},
   "outputs": [],
   "source": [
    "def frame_generator(log: list):\n",
    "    for item in log:\n",
    "        yield (item[\"epoch_timestamp_ms\"], Frame.from_dict(item))"
   ]
  },
  {
   "cell_type": "code",
   "execution_count": 4,
   "id": "c4818eb1",
   "metadata": {},
   "outputs": [],
   "source": [
    "from core.infra.cloud.gcs_utils import read_from_gcs, does_gcs_blob_exists\n",
    "import json\n",
    "log_exists = does_gcs_blob_exists(LOG_PATH)\n",
    "if log_exists:\n",
    "    log =json.loads(read_from_gcs(LOG_PATH))"
   ]
  },
  {
   "cell_type": "code",
   "execution_count": 5,
   "id": "64f60873",
   "metadata": {},
   "outputs": [
    {
     "data": {
      "text/plain": [
       "True"
      ]
     },
     "execution_count": 5,
     "metadata": {},
     "output_type": "execute_result"
    }
   ],
   "source": [
    "log_exists"
   ]
  },
  {
   "cell_type": "code",
   "execution_count": 6,
   "id": "5675b2cb",
   "metadata": {},
   "outputs": [],
   "source": [
    "frames = list(frame_generator(log))"
   ]
  },
  {
   "cell_type": "markdown",
   "id": "440539f1",
   "metadata": {},
   "source": [
    "# Example analysis\n",
    "\n",
    "This just shows a basic example of how you may analyze the frame. For this, we are choosing to print out the velocity of track 106."
   ]
  },
  {
   "cell_type": "code",
   "execution_count": 7,
   "id": "e31081ac",
   "metadata": {},
   "outputs": [],
   "source": [
    "import pandas as pd"
   ]
  },
  {
   "cell_type": "code",
   "execution_count": 8,
   "id": "314750e0",
   "metadata": {},
   "outputs": [],
   "source": [
    "df = pd.DataFrame(frames, columns=[\"time\", \"frame\"])"
   ]
  },
  {
   "cell_type": "code",
   "execution_count": 9,
   "id": "a04c252a",
   "metadata": {},
   "outputs": [],
   "source": [
    "def filter_actor(frame, track_id=108):\n",
    "    actors = frame.actors\n",
    "    for actor in actors:\n",
    "        if actor.track_id == track_id:\n",
    "            return actor.x_velocity_pixel_per_sec\n",
    "    return None\n",
    "\n",
    "actor_106 = df[\"frame\"].apply(lambda x: filter_actor(x, 106))\n",
    "actor_108 = df[\"frame\"].apply(lambda x: filter_actor(x, 108))"
   ]
  },
  {
   "cell_type": "code",
   "execution_count": 10,
   "id": "bffeb495",
   "metadata": {},
   "outputs": [],
   "source": [
    "time = df[\"time\"]"
   ]
  },
  {
   "cell_type": "code",
   "execution_count": 11,
   "id": "9584d4b3",
   "metadata": {
    "scrolled": true
   },
   "outputs": [
    {
     "data": {
      "text/plain": [
       "<matplotlib.legend.Legend at 0x7faf4af67fa0>"
      ]
     },
     "execution_count": 11,
     "metadata": {},
     "output_type": "execute_result"
    },
    {
     "data": {
      "image/png": "[encoded data removed]",
      "text/plain": [
       "<Figure size 432x288 with 1 Axes>"
      ]
     },
     "metadata": {
      "needs_background": "light"
     },
     "output_type": "display_data"
    }
   ],
   "source": [
    "import matplotlib.pyplot as plt\n",
    "plt.plot(time, actor_106, label=\"moving (106)\")\n",
    "plt.plot(time, actor_108, label=\"stationary (108)\")\n",
    "\n",
    "plt.xlabel(\"Time (ms)\")\n",
    "plt.ylabel(\"Velocity (pixel per second)\")\n",
    "plt.title(\"Velocity vs. Time\")\n",
    "plt.legend()"
   ]
  },
  {
   "cell_type": "code",
   "execution_count": null,
   "id": "b5b32e62",
   "metadata": {},
   "outputs": [],
   "source": []
  }
 ],
 "metadata": {
  "kernelspec": {
   "display_name": "Python 3 (ipykernel)",
   "language": "python",
   "name": "python3"
  },
  "language_info": {
   "codemirror_mode": {
    "name": "ipython",
    "version": 3
   },
   "file_extension": ".py",
   "mimetype": "text/x-python",
   "name": "python",
   "nbconvert_exporter": "python",
   "pygments_lexer": "ipython3",
   "version": "3.8.10"
  }
 },
 "nbformat": 4,
 "nbformat_minor": 5
}
