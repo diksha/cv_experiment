{
 "cells": [
  {
   "cell_type": "markdown",
   "id": "d7e8b242",
   "metadata": {},
   "source": [
    "# Connect to DB"
   ]
  },
  {
   "cell_type": "code",
   "execution_count": 2,
   "id": "a3d1be85",
   "metadata": {},
   "outputs": [],
   "source": [
    "import pandas as pd\n",
    "import matplotlib.pyplot as plt\n",
    "import time\n",
    "import numpy as np\n",
    "import datetime\n",
    "import copy\n",
    "import seaborn as sns\n",
    "import scipy\n",
    "import psycopg2"
   ]
  },
  {
   "cell_type": "code",
   "execution_count": 3,
   "id": "c2452096",
   "metadata": {},
   "outputs": [],
   "source": [
    "# Set params for all queries\n",
    "start_date = datetime.datetime(2022, 9, 1)\n",
    "end_date = datetime.datetime(2022, 9, 8)\n",
    "REVIEWER_TIMEOUT = 300"
   ]
  },
  {
   "cell_type": "code",
   "execution_count": 4,
   "id": "70c71463",
   "metadata": {},
   "outputs": [],
   "source": [
    "username = input(\"Username: \")\n",
    "password = input(\"Password: \")\n",
    "\n",
    "# Clear output\n",
    "from IPython. display import clear_output\n",
    "clear_output()"
   ]
  },
  {
   "cell_type": "code",
   "execution_count": 5,
   "id": "5cd4773e",
   "metadata": {},
   "outputs": [],
   "source": [
    "conn = psycopg2.connect(\n",
    "   user = username,\n",
    "   password = password,\n",
    "   host = '172.16.0.213',\n",
    "   port = '5432',\n",
    "   database = 'portal-production'\n",
    ")\n",
    "cursor = conn.cursor()"
   ]
  },
  {
   "cell_type": "markdown",
   "id": "30267f46",
   "metadata": {},
   "source": [
    "# Estimating Reviewer Capacity"
   ]
  },
  {
   "cell_type": "code",
   "execution_count": 6,
   "id": "96fc1bcd",
   "metadata": {},
   "outputs": [
    {
     "data": {
      "text/html": [
       "<div>\n",
       "<style scoped>\n",
       "    .dataframe tbody tr th:only-of-type {\n",
       "        vertical-align: middle;\n",
       "    }\n",
       "\n",
       "    .dataframe tbody tr th {\n",
       "        vertical-align: top;\n",
       "    }\n",
       "\n",
       "    .dataframe thead th {\n",
       "        text-align: right;\n",
       "    }\n",
       "</style>\n",
       "<table border=\"1\" class=\"dataframe\">\n",
       "  <thead>\n",
       "    <tr style=\"text-align: right;\">\n",
       "      <th></th>\n",
       "      <th>created_at</th>\n",
       "      <th>user_id</th>\n",
       "      <th>date_part</th>\n",
       "    </tr>\n",
       "  </thead>\n",
       "  <tbody>\n",
       "    <tr>\n",
       "      <th>0</th>\n",
       "      <td>2022-09-01 11:40:17.969122+00:00</td>\n",
       "      <td>14</td>\n",
       "      <td>NaN</td>\n",
       "    </tr>\n",
       "    <tr>\n",
       "      <th>1</th>\n",
       "      <td>2022-09-01 11:40:20.455246+00:00</td>\n",
       "      <td>14</td>\n",
       "      <td>2.486124</td>\n",
       "    </tr>\n",
       "    <tr>\n",
       "      <th>2</th>\n",
       "      <td>2022-09-01 11:40:24.302483+00:00</td>\n",
       "      <td>14</td>\n",
       "      <td>3.847237</td>\n",
       "    </tr>\n",
       "    <tr>\n",
       "      <th>3</th>\n",
       "      <td>2022-09-01 11:40:27.957033+00:00</td>\n",
       "      <td>14</td>\n",
       "      <td>3.654550</td>\n",
       "    </tr>\n",
       "    <tr>\n",
       "      <th>4</th>\n",
       "      <td>2022-09-01 11:40:30.198742+00:00</td>\n",
       "      <td>14</td>\n",
       "      <td>2.241709</td>\n",
       "    </tr>\n",
       "    <tr>\n",
       "      <th>...</th>\n",
       "      <td>...</td>\n",
       "      <td>...</td>\n",
       "      <td>...</td>\n",
       "    </tr>\n",
       "    <tr>\n",
       "      <th>57393</th>\n",
       "      <td>2022-09-07 16:00:12.301924+00:00</td>\n",
       "      <td>208</td>\n",
       "      <td>47.986531</td>\n",
       "    </tr>\n",
       "    <tr>\n",
       "      <th>57394</th>\n",
       "      <td>2022-09-07 16:00:50.738009+00:00</td>\n",
       "      <td>208</td>\n",
       "      <td>38.436085</td>\n",
       "    </tr>\n",
       "    <tr>\n",
       "      <th>57395</th>\n",
       "      <td>2022-09-07 16:01:39.806836+00:00</td>\n",
       "      <td>208</td>\n",
       "      <td>49.068827</td>\n",
       "    </tr>\n",
       "    <tr>\n",
       "      <th>57396</th>\n",
       "      <td>2022-09-07 16:02:21.022883+00:00</td>\n",
       "      <td>208</td>\n",
       "      <td>41.216047</td>\n",
       "    </tr>\n",
       "    <tr>\n",
       "      <th>57397</th>\n",
       "      <td>2022-09-07 16:29:35.428470+00:00</td>\n",
       "      <td>211</td>\n",
       "      <td>1634.405587</td>\n",
       "    </tr>\n",
       "  </tbody>\n",
       "</table>\n",
       "<p>57398 rows × 3 columns</p>\n",
       "</div>"
      ],
      "text/plain": [
       "                            created_at  user_id    date_part\n",
       "0     2022-09-01 11:40:17.969122+00:00       14          NaN\n",
       "1     2022-09-01 11:40:20.455246+00:00       14     2.486124\n",
       "2     2022-09-01 11:40:24.302483+00:00       14     3.847237\n",
       "3     2022-09-01 11:40:27.957033+00:00       14     3.654550\n",
       "4     2022-09-01 11:40:30.198742+00:00       14     2.241709\n",
       "...                                ...      ...          ...\n",
       "57393 2022-09-07 16:00:12.301924+00:00      208    47.986531\n",
       "57394 2022-09-07 16:00:50.738009+00:00      208    38.436085\n",
       "57395 2022-09-07 16:01:39.806836+00:00      208    49.068827\n",
       "57396 2022-09-07 16:02:21.022883+00:00      208    41.216047\n",
       "57397 2022-09-07 16:29:35.428470+00:00      211  1634.405587\n",
       "\n",
       "[57398 rows x 3 columns]"
      ]
     },
     "execution_count": 6,
     "metadata": {},
     "output_type": "execute_result"
    }
   ],
   "source": [
    "# Query the review database\n",
    "sql = \"\"\"\n",
    "SELECT\n",
    "created_at,\n",
    "user_id,\n",
    "EXTRACT(epoch FROM time_diff)\n",
    "FROM (SELECT \n",
    "*,\n",
    "(created_at - LAG(created_at) OVER (ORDER BY user_id, created_at)) as time_diff\n",
    "FROM api_incidentfeedback\n",
    "WHERE created_at >= %s and created_at < %s\n",
    "ORDER BY user_id, created_at) as x\n",
    "\"\"\"\n",
    "\n",
    "review_time_diff_df = pd.read_sql(sql, conn, params=[start_date, end_date]);\n",
    "review_time_diff_df"
   ]
  },
  {
   "cell_type": "code",
   "execution_count": 7,
   "id": "857b1189",
   "metadata": {},
   "outputs": [
    {
     "name": "stdout",
     "output_type": "stream",
     "text": [
      "Index(['created_at', 'user_id', 'date_part'], dtype='object')\n"
     ]
    },
    {
     "data": {
      "text/plain": [
       "1         2.486124\n",
       "2         3.847237\n",
       "3         3.654550\n",
       "4         2.241709\n",
       "5         4.401962\n",
       "           ...    \n",
       "57392    81.849425\n",
       "57393    47.986531\n",
       "57394    38.436085\n",
       "57395    49.068827\n",
       "57396    41.216047\n",
       "Name: date_part, Length: 56495, dtype: float64"
      ]
     },
     "execution_count": 7,
     "metadata": {},
     "output_type": "execute_result"
    }
   ],
   "source": [
    "# Remove outliers and NaNs\n",
    "review_time_diff_df = review_time_diff_df.dropna()\n",
    "review_time_diff_df = review_time_diff_df[review_time_diff_df['date_part'] > 0]\n",
    "review_time_diff_df = review_time_diff_df[review_time_diff_df['date_part'] < REVIEWER_TIMEOUT]\n",
    "print(review_time_diff_df.columns)\n",
    "review_time_diff_df.date_part"
   ]
  },
  {
   "cell_type": "code",
   "execution_count": 8,
   "id": "4a3fefa9",
   "metadata": {},
   "outputs": [
    {
     "data": {
      "image/png": "[encoded data removed]",
      "text/plain": [
       "<Figure size 432x288 with 1 Axes>"
      ]
     },
     "metadata": {
      "needs_background": "light"
     },
     "output_type": "display_data"
    },
    {
     "data": {
      "image/png": "[encoded data removed]",
      "text/plain": [
       "<Figure size 432x288 with 1 Axes>"
      ]
     },
     "metadata": {
      "needs_background": "light"
     },
     "output_type": "display_data"
    }
   ],
   "source": [
    "sns.histplot(review_time_diff_df.date_part,stat='percent').set(title='Histogram of Time Between Reviews', xlabel='Time between reviews (s)')\n",
    "plt.show()\n",
    "\n",
    "sns.histplot(review_time_diff_df.date_part, cumulative=True, stat='percent')\n",
    "plt.show()"
   ]
  },
  {
   "cell_type": "code",
   "execution_count": 9,
   "id": "5ed80d6e",
   "metadata": {},
   "outputs": [
    {
     "data": {
      "image/png": "[encoded data removed]",
      "text/plain": [
       "<Figure size 432x288 with 1 Axes>"
      ]
     },
     "metadata": {
      "needs_background": "light"
     },
     "output_type": "display_data"
    },
    {
     "name": "stdout",
     "output_type": "stream",
     "text": [
      "80% of incidents are reviewed in 62.51 seconds       \n",
      "Approx. 57.59 incidents reviewed per reviewer per hour\n"
     ]
    }
   ],
   "source": [
    "sns.ecdfplot(review_time_diff_df.date_part).set(title='CDF of Time Between Reviews', xlabel='Time between reviews (s)')\n",
    "plt.show()\n",
    "\n",
    "PERCENTILE_THRESH = 80\n",
    "\n",
    "percentile = np.percentile(review_time_diff_df.date_part, [PERCENTILE_THRESH])[0]\n",
    "capacity = 60*60/percentile\n",
    "\n",
    "                              \n",
    "print(f\"{PERCENTILE_THRESH}% of incidents are reviewed in {percentile:.2f} seconds \\\n",
    "      \\nApprox. {capacity:.2f} incidents reviewed per reviewer per hour\")\n"
   ]
  },
  {
   "cell_type": "markdown",
   "id": "1cdac302",
   "metadata": {},
   "source": [
    "## Conclusions\n",
    "\n",
    "A good way to measure reviewer capacity is to look at the distribution of the review rates. We can define the hourlycapacity of an individual reviewer as the amount of time it takes to review 80% of incidents (80th percentile). Our statistical analysis shows that this capacity is ~56 incidents reviewed per reviewer per hour.\n",
    "\n",
    "In the next sections, we will use this peak capacity to analyze the current reviewer utilization and estimate the futrue demand for reviewers."
   ]
  },
  {
   "cell_type": "markdown",
   "id": "ac5cbd19",
   "metadata": {},
   "source": [
    "# Estimating Reviewer Utilization"
   ]
  },
  {
   "cell_type": "code",
   "execution_count": 10,
   "id": "dd7923d2",
   "metadata": {},
   "outputs": [
    {
     "data": {
      "text/html": [
       "<div>\n",
       "<style scoped>\n",
       "    .dataframe tbody tr th:only-of-type {\n",
       "        vertical-align: middle;\n",
       "    }\n",
       "\n",
       "    .dataframe tbody tr th {\n",
       "        vertical-align: top;\n",
       "    }\n",
       "\n",
       "    .dataframe thead th {\n",
       "        text-align: right;\n",
       "    }\n",
       "</style>\n",
       "<table border=\"1\" class=\"dataframe\">\n",
       "  <thead>\n",
       "    <tr style=\"text-align: right;\">\n",
       "      <th></th>\n",
       "      <th>hour_group</th>\n",
       "      <th>reviews_per_reviewer</th>\n",
       "    </tr>\n",
       "  </thead>\n",
       "  <tbody>\n",
       "    <tr>\n",
       "      <th>0</th>\n",
       "      <td>22-09-01:00</td>\n",
       "      <td>57</td>\n",
       "    </tr>\n",
       "    <tr>\n",
       "      <th>1</th>\n",
       "      <td>22-09-01:01</td>\n",
       "      <td>83</td>\n",
       "    </tr>\n",
       "    <tr>\n",
       "      <th>2</th>\n",
       "      <td>22-09-01:02</td>\n",
       "      <td>89</td>\n",
       "    </tr>\n",
       "    <tr>\n",
       "      <th>3</th>\n",
       "      <td>22-09-01:03</td>\n",
       "      <td>58</td>\n",
       "    </tr>\n",
       "    <tr>\n",
       "      <th>4</th>\n",
       "      <td>22-09-01:04</td>\n",
       "      <td>67</td>\n",
       "    </tr>\n",
       "    <tr>\n",
       "      <th>...</th>\n",
       "      <td>...</td>\n",
       "      <td>...</td>\n",
       "    </tr>\n",
       "    <tr>\n",
       "      <th>163</th>\n",
       "      <td>22-09-07:19</td>\n",
       "      <td>70</td>\n",
       "    </tr>\n",
       "    <tr>\n",
       "      <th>164</th>\n",
       "      <td>22-09-07:20</td>\n",
       "      <td>67</td>\n",
       "    </tr>\n",
       "    <tr>\n",
       "      <th>165</th>\n",
       "      <td>22-09-07:21</td>\n",
       "      <td>55</td>\n",
       "    </tr>\n",
       "    <tr>\n",
       "      <th>166</th>\n",
       "      <td>22-09-07:22</td>\n",
       "      <td>66</td>\n",
       "    </tr>\n",
       "    <tr>\n",
       "      <th>167</th>\n",
       "      <td>22-09-07:23</td>\n",
       "      <td>95</td>\n",
       "    </tr>\n",
       "  </tbody>\n",
       "</table>\n",
       "<p>168 rows × 2 columns</p>\n",
       "</div>"
      ],
      "text/plain": [
       "      hour_group  reviews_per_reviewer\n",
       "0    22-09-01:00                    57\n",
       "1    22-09-01:01                    83\n",
       "2    22-09-01:02                    89\n",
       "3    22-09-01:03                    58\n",
       "4    22-09-01:04                    67\n",
       "..           ...                   ...\n",
       "163  22-09-07:19                    70\n",
       "164  22-09-07:20                    67\n",
       "165  22-09-07:21                    55\n",
       "166  22-09-07:22                    66\n",
       "167  22-09-07:23                    95\n",
       "\n",
       "[168 rows x 2 columns]"
      ]
     },
     "execution_count": 10,
     "metadata": {},
     "output_type": "execute_result"
    }
   ],
   "source": [
    "# Query TODO check reviewers\n",
    "sql = \"\"\"\n",
    "SELECT \n",
    "a.hour_group,\n",
    "num_reviews / active_reviewers as reviews_per_reviewer\n",
    "FROM (SELECT\n",
    "TO_CHAR(\n",
    "        created_at,\n",
    "        'YY-MM-DD:HH24'\n",
    "    ) hour_group,\n",
    "COUNT(id) AS num_reviews\n",
    "FROM api_incidentfeedback\n",
    "WHERE created_at >= %s and created_at < %s\n",
    "GROUP BY hour_group) as a\n",
    "inner join (SELECT\n",
    "TO_CHAR(\n",
    "        created_at,\n",
    "        'YY-MM-DD:HH24'\n",
    "    ) hour_group,\n",
    "  count(distinct user_id) as active_reviewers\n",
    "FROM api_incidentfeedback\n",
    "GROUP BY 1\n",
    "ORDER BY 1) as b\n",
    "ON a.hour_group = b.hour_group\n",
    "order by 1\n",
    "\"\"\"\n",
    "df = pd.read_sql(sql, conn, params=[start_date, end_date]);\n",
    "df # prints in a better format\n"
   ]
  },
  {
   "cell_type": "code",
   "execution_count": 11,
   "id": "c20b89a8",
   "metadata": {},
   "outputs": [
    {
     "data": {
      "image/png": "[encoded data removed]",
      "text/plain": [
       "<Figure size 432x288 with 1 Axes>"
      ]
     },
     "metadata": {
      "needs_background": "light"
     },
     "output_type": "display_data"
    },
    {
     "data": {
      "image/png": "[encoded data removed]",
      "text/plain": [
       "<Figure size 432x288 with 1 Axes>"
      ]
     },
     "metadata": {
      "needs_background": "light"
     },
     "output_type": "display_data"
    }
   ],
   "source": [
    "sns.histplot(df.reviews_per_reviewer,stat='percent').set(title='Histogram of Reviews per Reviewer per Hour', xlabel='reviews / reviewer / hour')\n",
    "plt.show()\n",
    "\n",
    "sns.histplot(df.reviews_per_reviewer, cumulative=True, stat='percent')\n",
    "plt.show()"
   ]
  },
  {
   "cell_type": "code",
   "execution_count": 12,
   "id": "619479fc",
   "metadata": {},
   "outputs": [
    {
     "name": "stdout",
     "output_type": "stream",
     "text": [
      "Reviewers are below capacity 41.67% of the time\n"
     ]
    },
    {
     "data": {
      "image/png": "[encoded data removed]",
      "text/plain": [
       "<Figure size 432x288 with 1 Axes>"
      ]
     },
     "metadata": {
      "needs_background": "light"
     },
     "output_type": "display_data"
    },
    {
     "data": {
      "image/png": "[encoded data removed]",
      "text/plain": [
       "<Figure size 432x288 with 1 Axes>"
      ]
     },
     "metadata": {
      "needs_background": "light"
     },
     "output_type": "display_data"
    }
   ],
   "source": [
    "percent_below_capacity = scipy.stats.percentileofscore(df.reviews_per_reviewer, [capacity])\n",
    "print(f\"Reviewers are below capacity {percent_below_capacity:.2f}% of the time\")\n",
    "\n",
    "sns.ecdfplot(df.reviews_per_reviewer)\n",
    "plt.show()\n",
    "\n",
    "sns.violinplot(df.reviews_per_reviewer)\n",
    "plt.show()"
   ]
  },
  {
   "cell_type": "markdown",
   "id": "331d8d02",
   "metadata": {},
   "source": [
    "# Incident Generation Analysis"
   ]
  },
  {
   "cell_type": "code",
   "execution_count": 13,
   "id": "265482bd",
   "metadata": {},
   "outputs": [],
   "source": [
    "from scipy.stats import f_oneway\n",
    "\n",
    "\n",
    "def plot_partition(df, partition_name):\n",
    "    unique_partitions = np.unique(df[partition_name])\n",
    "    for i in unique_partitions:\n",
    "        partition = df[df[partition_name] == i].num_incidents\n",
    "        sns.histplot(partition, alpha=0.25, stat='density')\n",
    "\n",
    "    plt.show()\n",
    "\n",
    "    # We can use an F-test to analuze the variance to determine if the distribution of n-incidents are the same\n",
    "    # https://en.wikipedia.org/wiki/F-test\n",
    "    # https://en.wikipedia.org/wiki/Analysis_of_variance\n",
    "    income_groups = [df.loc[df[partition_name]==arm, 'num_incidents'].values for arm in df[partition_name].dropna().unique()]\n",
    "    stat, p_value = f_oneway(*income_groups)\n",
    "    print(f\"F Test: statistic={stat:.4f}, p-value={p_value:.4f}\")"
   ]
  },
  {
   "cell_type": "code",
   "execution_count": 14,
   "id": "0548d929",
   "metadata": {},
   "outputs": [
    {
     "data": {
      "text/html": [
       "<div>\n",
       "<style scoped>\n",
       "    .dataframe tbody tr th:only-of-type {\n",
       "        vertical-align: middle;\n",
       "    }\n",
       "\n",
       "    .dataframe tbody tr th {\n",
       "        vertical-align: top;\n",
       "    }\n",
       "\n",
       "    .dataframe thead th {\n",
       "        text-align: right;\n",
       "    }\n",
       "</style>\n",
       "<table border=\"1\" class=\"dataframe\">\n",
       "  <thead>\n",
       "    <tr style=\"text-align: right;\">\n",
       "      <th></th>\n",
       "      <th>hour_group</th>\n",
       "      <th>num_incidents</th>\n",
       "      <th>organization_id</th>\n",
       "    </tr>\n",
       "  </thead>\n",
       "  <tbody>\n",
       "    <tr>\n",
       "      <th>0</th>\n",
       "      <td>22-09-01:00</td>\n",
       "      <td>135</td>\n",
       "      <td>3</td>\n",
       "    </tr>\n",
       "    <tr>\n",
       "      <th>1</th>\n",
       "      <td>22-09-01:00</td>\n",
       "      <td>46</td>\n",
       "      <td>4</td>\n",
       "    </tr>\n",
       "    <tr>\n",
       "      <th>2</th>\n",
       "      <td>22-09-01:00</td>\n",
       "      <td>28</td>\n",
       "      <td>7</td>\n",
       "    </tr>\n",
       "    <tr>\n",
       "      <th>3</th>\n",
       "      <td>22-09-01:01</td>\n",
       "      <td>137</td>\n",
       "      <td>3</td>\n",
       "    </tr>\n",
       "    <tr>\n",
       "      <th>4</th>\n",
       "      <td>22-09-01:01</td>\n",
       "      <td>38</td>\n",
       "      <td>4</td>\n",
       "    </tr>\n",
       "    <tr>\n",
       "      <th>...</th>\n",
       "      <td>...</td>\n",
       "      <td>...</td>\n",
       "      <td>...</td>\n",
       "    </tr>\n",
       "    <tr>\n",
       "      <th>665</th>\n",
       "      <td>22-09-07:22</td>\n",
       "      <td>49</td>\n",
       "      <td>8</td>\n",
       "    </tr>\n",
       "    <tr>\n",
       "      <th>666</th>\n",
       "      <td>22-09-07:23</td>\n",
       "      <td>138</td>\n",
       "      <td>3</td>\n",
       "    </tr>\n",
       "    <tr>\n",
       "      <th>667</th>\n",
       "      <td>22-09-07:23</td>\n",
       "      <td>36</td>\n",
       "      <td>4</td>\n",
       "    </tr>\n",
       "    <tr>\n",
       "      <th>668</th>\n",
       "      <td>22-09-07:23</td>\n",
       "      <td>34</td>\n",
       "      <td>7</td>\n",
       "    </tr>\n",
       "    <tr>\n",
       "      <th>669</th>\n",
       "      <td>22-09-07:23</td>\n",
       "      <td>30</td>\n",
       "      <td>8</td>\n",
       "    </tr>\n",
       "  </tbody>\n",
       "</table>\n",
       "<p>670 rows × 3 columns</p>\n",
       "</div>"
      ],
      "text/plain": [
       "      hour_group  num_incidents  organization_id\n",
       "0    22-09-01:00            135                3\n",
       "1    22-09-01:00             46                4\n",
       "2    22-09-01:00             28                7\n",
       "3    22-09-01:01            137                3\n",
       "4    22-09-01:01             38                4\n",
       "..           ...            ...              ...\n",
       "665  22-09-07:22             49                8\n",
       "666  22-09-07:23            138                3\n",
       "667  22-09-07:23             36                4\n",
       "668  22-09-07:23             34                7\n",
       "669  22-09-07:23             30                8\n",
       "\n",
       "[670 rows x 3 columns]"
      ]
     },
     "execution_count": 14,
     "metadata": {},
     "output_type": "execute_result"
    }
   ],
   "source": [
    "# Query the incidents database, group by org\n",
    "organization_query = \"\"\"\n",
    "SELECT \n",
    "*\n",
    "FROM (SELECT\n",
    "TO_CHAR(\n",
    "        created_at,\n",
    "        'YY-MM-DD:HH24'\n",
    "    ) hour_group,\n",
    "COUNT(id) AS num_incidents,\n",
    "organization_id\n",
    "FROM api_incident\n",
    "WHERE created_at >= %s and created_at < %s\n",
    "GROUP BY hour_group, organization_id) as a\n",
    "order by 1\n",
    "\"\"\"\n",
    "\n",
    "incidents_organization_df = pd.read_sql(organization_query, conn, params=[start_date, end_date]);\n",
    "incidents_organization_df"
   ]
  },
  {
   "cell_type": "code",
   "execution_count": 15,
   "id": "ebd9ad6f",
   "metadata": {},
   "outputs": [
    {
     "data": {
      "image/png": "[encoded data removed]",
      "text/plain": [
       "<Figure size 432x288 with 1 Axes>"
      ]
     },
     "metadata": {
      "needs_background": "light"
     },
     "output_type": "display_data"
    },
    {
     "name": "stdout",
     "output_type": "stream",
     "text": [
      "F Test: statistic=282.7481, p-value=0.0000\n"
     ]
    }
   ],
   "source": [
    "plot_partition(incidents_organization_df, 'organization_id')"
   ]
  },
  {
   "cell_type": "code",
   "execution_count": 16,
   "id": "5488abc5",
   "metadata": {},
   "outputs": [
    {
     "data": {
      "text/html": [
       "<div>\n",
       "<style scoped>\n",
       "    .dataframe tbody tr th:only-of-type {\n",
       "        vertical-align: middle;\n",
       "    }\n",
       "\n",
       "    .dataframe tbody tr th {\n",
       "        vertical-align: top;\n",
       "    }\n",
       "\n",
       "    .dataframe thead th {\n",
       "        text-align: right;\n",
       "    }\n",
       "</style>\n",
       "<table border=\"1\" class=\"dataframe\">\n",
       "  <thead>\n",
       "    <tr style=\"text-align: right;\">\n",
       "      <th></th>\n",
       "      <th>hour_group</th>\n",
       "      <th>num_incidents</th>\n",
       "      <th>zone_id</th>\n",
       "    </tr>\n",
       "  </thead>\n",
       "  <tbody>\n",
       "    <tr>\n",
       "      <th>0</th>\n",
       "      <td>22-09-01:00</td>\n",
       "      <td>30</td>\n",
       "      <td>1</td>\n",
       "    </tr>\n",
       "    <tr>\n",
       "      <th>1</th>\n",
       "      <td>22-09-01:00</td>\n",
       "      <td>19</td>\n",
       "      <td>2</td>\n",
       "    </tr>\n",
       "    <tr>\n",
       "      <th>2</th>\n",
       "      <td>22-09-01:00</td>\n",
       "      <td>17</td>\n",
       "      <td>4</td>\n",
       "    </tr>\n",
       "    <tr>\n",
       "      <th>3</th>\n",
       "      <td>22-09-01:00</td>\n",
       "      <td>75</td>\n",
       "      <td>12</td>\n",
       "    </tr>\n",
       "    <tr>\n",
       "      <th>4</th>\n",
       "      <td>22-09-01:00</td>\n",
       "      <td>1</td>\n",
       "      <td>14</td>\n",
       "    </tr>\n",
       "    <tr>\n",
       "      <th>...</th>\n",
       "      <td>...</td>\n",
       "      <td>...</td>\n",
       "      <td>...</td>\n",
       "    </tr>\n",
       "    <tr>\n",
       "      <th>1657</th>\n",
       "      <td>22-09-07:23</td>\n",
       "      <td>32</td>\n",
       "      <td>15</td>\n",
       "    </tr>\n",
       "    <tr>\n",
       "      <th>1658</th>\n",
       "      <td>22-09-07:23</td>\n",
       "      <td>25</td>\n",
       "      <td>16</td>\n",
       "    </tr>\n",
       "    <tr>\n",
       "      <th>1659</th>\n",
       "      <td>22-09-07:23</td>\n",
       "      <td>26</td>\n",
       "      <td>17</td>\n",
       "    </tr>\n",
       "    <tr>\n",
       "      <th>1660</th>\n",
       "      <td>22-09-07:23</td>\n",
       "      <td>8</td>\n",
       "      <td>18</td>\n",
       "    </tr>\n",
       "    <tr>\n",
       "      <th>1661</th>\n",
       "      <td>22-09-07:23</td>\n",
       "      <td>30</td>\n",
       "      <td>19</td>\n",
       "    </tr>\n",
       "  </tbody>\n",
       "</table>\n",
       "<p>1662 rows × 3 columns</p>\n",
       "</div>"
      ],
      "text/plain": [
       "       hour_group  num_incidents  zone_id\n",
       "0     22-09-01:00             30        1\n",
       "1     22-09-01:00             19        2\n",
       "2     22-09-01:00             17        4\n",
       "3     22-09-01:00             75       12\n",
       "4     22-09-01:00              1       14\n",
       "...           ...            ...      ...\n",
       "1657  22-09-07:23             32       15\n",
       "1658  22-09-07:23             25       16\n",
       "1659  22-09-07:23             26       17\n",
       "1660  22-09-07:23              8       18\n",
       "1661  22-09-07:23             30       19\n",
       "\n",
       "[1662 rows x 3 columns]"
      ]
     },
     "execution_count": 16,
     "metadata": {},
     "output_type": "execute_result"
    }
   ],
   "source": [
    "# Query the incidents database, group by org\n",
    "zone_query = \"\"\"\n",
    "SELECT \n",
    "*\n",
    "FROM (SELECT\n",
    "TO_CHAR(\n",
    "        created_at,\n",
    "        'YY-MM-DD:HH24'\n",
    "    ) hour_group,\n",
    "COUNT(id) AS num_incidents,\n",
    "zone_id\n",
    "FROM api_incident\n",
    "WHERE created_at >= %s and created_at < %s\n",
    "GROUP BY hour_group, zone_id) as a\n",
    "order by 1\n",
    "\"\"\"\n",
    "\n",
    "incidents_zone_df = pd.read_sql(zone_query, conn, params=[start_date, end_date]);\n",
    "incidents_zone_df"
   ]
  },
  {
   "cell_type": "code",
   "execution_count": 17,
   "id": "8937e7d3",
   "metadata": {},
   "outputs": [
    {
     "data": {
      "image/png": "[encoded data removed]",
      "text/plain": [
       "<Figure size 432x288 with 1 Axes>"
      ]
     },
     "metadata": {
      "needs_background": "light"
     },
     "output_type": "display_data"
    },
    {
     "name": "stdout",
     "output_type": "stream",
     "text": [
      "F Test: statistic=81.2279, p-value=0.0000\n"
     ]
    }
   ],
   "source": [
    "plot_partition(incidents_zone_df, 'zone_id')"
   ]
  },
  {
   "cell_type": "code",
   "execution_count": 18,
   "id": "57ece5cc",
   "metadata": {},
   "outputs": [
    {
     "data": {
      "text/html": [
       "<div>\n",
       "<style scoped>\n",
       "    .dataframe tbody tr th:only-of-type {\n",
       "        vertical-align: middle;\n",
       "    }\n",
       "\n",
       "    .dataframe tbody tr th {\n",
       "        vertical-align: top;\n",
       "    }\n",
       "\n",
       "    .dataframe thead th {\n",
       "        text-align: right;\n",
       "    }\n",
       "</style>\n",
       "<table border=\"1\" class=\"dataframe\">\n",
       "  <thead>\n",
       "    <tr style=\"text-align: right;\">\n",
       "      <th></th>\n",
       "      <th>hour_group</th>\n",
       "      <th>num_incidents</th>\n",
       "      <th>camera_id</th>\n",
       "    </tr>\n",
       "  </thead>\n",
       "  <tbody>\n",
       "    <tr>\n",
       "      <th>0</th>\n",
       "      <td>22-09-01:00</td>\n",
       "      <td>1</td>\n",
       "      <td>22</td>\n",
       "    </tr>\n",
       "    <tr>\n",
       "      <th>1</th>\n",
       "      <td>22-09-01:00</td>\n",
       "      <td>4</td>\n",
       "      <td>23</td>\n",
       "    </tr>\n",
       "    <tr>\n",
       "      <th>2</th>\n",
       "      <td>22-09-01:00</td>\n",
       "      <td>1</td>\n",
       "      <td>24</td>\n",
       "    </tr>\n",
       "    <tr>\n",
       "      <th>3</th>\n",
       "      <td>22-09-01:00</td>\n",
       "      <td>5</td>\n",
       "      <td>27</td>\n",
       "    </tr>\n",
       "    <tr>\n",
       "      <th>4</th>\n",
       "      <td>22-09-01:00</td>\n",
       "      <td>2</td>\n",
       "      <td>30</td>\n",
       "    </tr>\n",
       "    <tr>\n",
       "      <th>...</th>\n",
       "      <td>...</td>\n",
       "      <td>...</td>\n",
       "      <td>...</td>\n",
       "    </tr>\n",
       "    <tr>\n",
       "      <th>11175</th>\n",
       "      <td>22-09-07:23</td>\n",
       "      <td>1</td>\n",
       "      <td>145</td>\n",
       "    </tr>\n",
       "    <tr>\n",
       "      <th>11176</th>\n",
       "      <td>22-09-07:23</td>\n",
       "      <td>1</td>\n",
       "      <td>146</td>\n",
       "    </tr>\n",
       "    <tr>\n",
       "      <th>11177</th>\n",
       "      <td>22-09-07:23</td>\n",
       "      <td>5</td>\n",
       "      <td>147</td>\n",
       "    </tr>\n",
       "    <tr>\n",
       "      <th>11178</th>\n",
       "      <td>22-09-07:23</td>\n",
       "      <td>2</td>\n",
       "      <td>148</td>\n",
       "    </tr>\n",
       "    <tr>\n",
       "      <th>11179</th>\n",
       "      <td>22-09-07:23</td>\n",
       "      <td>3</td>\n",
       "      <td>149</td>\n",
       "    </tr>\n",
       "  </tbody>\n",
       "</table>\n",
       "<p>11180 rows × 3 columns</p>\n",
       "</div>"
      ],
      "text/plain": [
       "        hour_group  num_incidents  camera_id\n",
       "0      22-09-01:00              1         22\n",
       "1      22-09-01:00              4         23\n",
       "2      22-09-01:00              1         24\n",
       "3      22-09-01:00              5         27\n",
       "4      22-09-01:00              2         30\n",
       "...            ...            ...        ...\n",
       "11175  22-09-07:23              1        145\n",
       "11176  22-09-07:23              1        146\n",
       "11177  22-09-07:23              5        147\n",
       "11178  22-09-07:23              2        148\n",
       "11179  22-09-07:23              3        149\n",
       "\n",
       "[11180 rows x 3 columns]"
      ]
     },
     "execution_count": 18,
     "metadata": {},
     "output_type": "execute_result"
    }
   ],
   "source": [
    "# Query the incidents database, group by camera\n",
    "camera_query = \"\"\"\n",
    "SELECT \n",
    "*\n",
    "FROM (SELECT\n",
    "TO_CHAR(\n",
    "        created_at,\n",
    "        'YY-MM-DD:HH24'\n",
    "    ) hour_group,\n",
    "COUNT(id) AS num_incidents,\n",
    "camera_id\n",
    "FROM api_incident\n",
    "WHERE created_at >= %s and created_at < %s\n",
    "GROUP BY hour_group, camera_id) as a\n",
    "order by 1\n",
    "\"\"\"\n",
    "\n",
    "incidents_camera_df = pd.read_sql(camera_query, conn, params=[start_date, end_date]);\n",
    "incidents_camera_df"
   ]
  },
  {
   "cell_type": "code",
   "execution_count": 19,
   "id": "8d957119",
   "metadata": {},
   "outputs": [
    {
     "data": {
      "image/png": "[encoded data removed]",
      "text/plain": [
       "<Figure size 432x288 with 1 Axes>"
      ]
     },
     "metadata": {
      "needs_background": "light"
     },
     "output_type": "display_data"
    },
    {
     "name": "stdout",
     "output_type": "stream",
     "text": [
      "F Test: statistic=67.4938, p-value=0.0000\n"
     ]
    }
   ],
   "source": [
    "plot_partition(incidents_camera_df, 'camera_id')"
   ]
  },
  {
   "cell_type": "code",
   "execution_count": 20,
   "id": "f8c5f287",
   "metadata": {},
   "outputs": [
    {
     "data": {
      "text/html": [
       "<div>\n",
       "<style scoped>\n",
       "    .dataframe tbody tr th:only-of-type {\n",
       "        vertical-align: middle;\n",
       "    }\n",
       "\n",
       "    .dataframe tbody tr th {\n",
       "        vertical-align: top;\n",
       "    }\n",
       "\n",
       "    .dataframe thead th {\n",
       "        text-align: right;\n",
       "    }\n",
       "</style>\n",
       "<table border=\"1\" class=\"dataframe\">\n",
       "  <thead>\n",
       "    <tr style=\"text-align: right;\">\n",
       "      <th></th>\n",
       "      <th>hour_group</th>\n",
       "      <th>num_incidents</th>\n",
       "      <th>camera_id</th>\n",
       "      <th>incident_type_id</th>\n",
       "      <th>camera_incident</th>\n",
       "    </tr>\n",
       "  </thead>\n",
       "  <tbody>\n",
       "    <tr>\n",
       "      <th>0</th>\n",
       "      <td>22-09-01:00</td>\n",
       "      <td>1</td>\n",
       "      <td>22</td>\n",
       "      <td>13</td>\n",
       "      <td>22013</td>\n",
       "    </tr>\n",
       "    <tr>\n",
       "      <th>1</th>\n",
       "      <td>22-09-01:00</td>\n",
       "      <td>2</td>\n",
       "      <td>23</td>\n",
       "      <td>8</td>\n",
       "      <td>23008</td>\n",
       "    </tr>\n",
       "    <tr>\n",
       "      <th>2</th>\n",
       "      <td>22-09-01:00</td>\n",
       "      <td>1</td>\n",
       "      <td>23</td>\n",
       "      <td>11</td>\n",
       "      <td>23011</td>\n",
       "    </tr>\n",
       "    <tr>\n",
       "      <th>3</th>\n",
       "      <td>22-09-01:00</td>\n",
       "      <td>1</td>\n",
       "      <td>23</td>\n",
       "      <td>13</td>\n",
       "      <td>23013</td>\n",
       "    </tr>\n",
       "    <tr>\n",
       "      <th>4</th>\n",
       "      <td>22-09-01:00</td>\n",
       "      <td>1</td>\n",
       "      <td>24</td>\n",
       "      <td>13</td>\n",
       "      <td>24013</td>\n",
       "    </tr>\n",
       "    <tr>\n",
       "      <th>...</th>\n",
       "      <td>...</td>\n",
       "      <td>...</td>\n",
       "      <td>...</td>\n",
       "      <td>...</td>\n",
       "      <td>...</td>\n",
       "    </tr>\n",
       "    <tr>\n",
       "      <th>18943</th>\n",
       "      <td>22-09-07:23</td>\n",
       "      <td>1</td>\n",
       "      <td>147</td>\n",
       "      <td>15</td>\n",
       "      <td>147015</td>\n",
       "    </tr>\n",
       "    <tr>\n",
       "      <th>18944</th>\n",
       "      <td>22-09-07:23</td>\n",
       "      <td>1</td>\n",
       "      <td>148</td>\n",
       "      <td>8</td>\n",
       "      <td>148008</td>\n",
       "    </tr>\n",
       "    <tr>\n",
       "      <th>18945</th>\n",
       "      <td>22-09-07:23</td>\n",
       "      <td>1</td>\n",
       "      <td>148</td>\n",
       "      <td>13</td>\n",
       "      <td>148013</td>\n",
       "    </tr>\n",
       "    <tr>\n",
       "      <th>18946</th>\n",
       "      <td>22-09-07:23</td>\n",
       "      <td>2</td>\n",
       "      <td>149</td>\n",
       "      <td>12</td>\n",
       "      <td>149012</td>\n",
       "    </tr>\n",
       "    <tr>\n",
       "      <th>18947</th>\n",
       "      <td>22-09-07:23</td>\n",
       "      <td>1</td>\n",
       "      <td>149</td>\n",
       "      <td>13</td>\n",
       "      <td>149013</td>\n",
       "    </tr>\n",
       "  </tbody>\n",
       "</table>\n",
       "<p>18948 rows × 5 columns</p>\n",
       "</div>"
      ],
      "text/plain": [
       "        hour_group  num_incidents  camera_id  incident_type_id  \\\n",
       "0      22-09-01:00              1         22                13   \n",
       "1      22-09-01:00              2         23                 8   \n",
       "2      22-09-01:00              1         23                11   \n",
       "3      22-09-01:00              1         23                13   \n",
       "4      22-09-01:00              1         24                13   \n",
       "...            ...            ...        ...               ...   \n",
       "18943  22-09-07:23              1        147                15   \n",
       "18944  22-09-07:23              1        148                 8   \n",
       "18945  22-09-07:23              1        148                13   \n",
       "18946  22-09-07:23              2        149                12   \n",
       "18947  22-09-07:23              1        149                13   \n",
       "\n",
       "       camera_incident  \n",
       "0                22013  \n",
       "1                23008  \n",
       "2                23011  \n",
       "3                23013  \n",
       "4                24013  \n",
       "...                ...  \n",
       "18943           147015  \n",
       "18944           148008  \n",
       "18945           148013  \n",
       "18946           149012  \n",
       "18947           149013  \n",
       "\n",
       "[18948 rows x 5 columns]"
      ]
     },
     "execution_count": 20,
     "metadata": {},
     "output_type": "execute_result"
    }
   ],
   "source": [
    "# Query the incidents database, group by camera & incident_type\n",
    "camera_incident_query = \"\"\"\n",
    "SELECT \n",
    "*,\n",
    "camera_id * 1000 + incident_type_id as camera_incident\n",
    "FROM (SELECT\n",
    "TO_CHAR(\n",
    "        created_at,\n",
    "        'YY-MM-DD:HH24'\n",
    "    ) hour_group,\n",
    "COUNT(id) AS num_incidents,\n",
    "camera_id,\n",
    "incident_type_id\n",
    "FROM api_incident\n",
    "WHERE created_at >= %s and created_at < %s\n",
    "GROUP BY hour_group, camera_id, incident_type_id) as a\n",
    "order by 1\n",
    "\"\"\"\n",
    "\n",
    "incidents_camera_incident_df = pd.read_sql(camera_incident_query, conn, params=[start_date, end_date]);\n",
    "incidents_camera_incident_df"
   ]
  },
  {
   "cell_type": "code",
   "execution_count": 21,
   "id": "f4fd32a5",
   "metadata": {},
   "outputs": [
    {
     "data": {
      "image/png": "[encoded data removed]",
      "text/plain": [
       "<Figure size 432x288 with 1 Axes>"
      ]
     },
     "metadata": {
      "needs_background": "light"
     },
     "output_type": "display_data"
    },
    {
     "name": "stdout",
     "output_type": "stream",
     "text": [
      "F Test: statistic=37.6129, p-value=0.0000\n"
     ]
    }
   ],
   "source": [
    "plot_partition(incidents_camera_incident_df, 'camera_incident')"
   ]
  },
  {
   "cell_type": "code",
   "execution_count": 22,
   "id": "5adf37cd",
   "metadata": {},
   "outputs": [
    {
     "data": {
      "text/plain": [
       "\"\\nIt's likely that the F-test will perform better when slicing by the specific incident type id. We will save this analysis for the futuere if we find it relevant.\\n\""
      ]
     },
     "execution_count": 22,
     "metadata": {},
     "output_type": "execute_result"
    }
   ],
   "source": [
    "\"\"\"\n",
    "It's likely that the F-test will perform better when slicing by the specific incident type id. We will save this analysis for the futuere if we find it relevant.\n",
    "\"\"\""
   ]
  },
  {
   "cell_type": "markdown",
   "id": "e834144e",
   "metadata": {},
   "source": [
    "## Analysis\n",
    "\n",
    "We performed an F-test for Analysis of Variance (ANOVA) for similarity in distributions of the number of incidents generated per hour. We see that we have the least variance between distributions when we group by both the camera and incident_type_id.\n",
    "\n",
    "Therefore, we can use this grouping to estimate the number of incidents generated for each camera-incident_type for all future site deployments."
   ]
  },
  {
   "cell_type": "code",
   "execution_count": 23,
   "id": "025c8000",
   "metadata": {},
   "outputs": [
    {
     "data": {
      "image/png": "[encoded data removed]",
      "text/plain": [
       "<Figure size 432x288 with 1 Axes>"
      ]
     },
     "metadata": {
      "needs_background": "light"
     },
     "output_type": "display_data"
    },
    {
     "data": {
      "image/png": "[encoded data removed]",
      "text/plain": [
       "<Figure size 432x288 with 1 Axes>"
      ]
     },
     "metadata": {
      "needs_background": "light"
     },
     "output_type": "display_data"
    },
    {
     "data": {
      "image/png": "[encoded data removed]",
      "text/plain": [
       "<Figure size 432x288 with 1 Axes>"
      ]
     },
     "metadata": {
      "needs_background": "light"
     },
     "output_type": "display_data"
    },
    {
     "name": "stdout",
     "output_type": "stream",
     "text": [
      "There are 3.00 incidents generated per camera per incident type per hour 90% of the time\n"
     ]
    }
   ],
   "source": [
    "df = incidents_camera_incident_df\n",
    "\n",
    "sns.violinplot(df.num_incidents).set(title='Violin Plot')\n",
    "plt.show()\n",
    "sns.ecdfplot(df.num_incidents).set(title='eCDF Plot')\n",
    "plt.show()\n",
    "sns.kdeplot(df.num_incidents).set(title='KDE Plot')\n",
    "plt.show()\n",
    "\n",
    "PERCENTILE_THRESH = 90\n",
    "\n",
    "percentile = np.percentile(df.num_incidents, [PERCENTILE_THRESH])[0]\n",
    "                              \n",
    "print(f\"There are {percentile:.2f} incidents generated per camera per incident type per hour {PERCENTILE_THRESH}% of the time\")"
   ]
  },
  {
   "cell_type": "markdown",
   "id": "81f7cf30",
   "metadata": {},
   "source": [
    "# Queue Theory\n",
    "\n",
    "The review queue can be modeled as an [M/M/c Queue](https://en.wikipedia.org/wiki/M/M/c_queue). This is a type of well-studied queue where the arrivals (incidents) occur in a Poisson distribution, the service time (time to review) have an exponential distribution, and there are \"c\" servers (reviewers).\n",
    "\n",
    "Since M/M/c queues are well-studied, we can easily measure many parameters such as response time, stability of the system, number of needed reviewers, probability of idle reviewers, etc. We can do this analysis in the future when we need the results, but we will not do it now for the sake of time."
   ]
  }
 ],
 "metadata": {
  "kernelspec": {
   "display_name": "Python 3 (ipykernel)",
   "language": "python",
   "name": "python3"
  },
  "language_info": {
   "codemirror_mode": {
    "name": "ipython",
    "version": 3
   },
   "file_extension": ".py",
   "mimetype": "text/x-python",
   "name": "python",
   "nbconvert_exporter": "python",
   "pygments_lexer": "ipython3",
   "version": "3.9.13"
  }
 },
 "nbformat": 4,
 "nbformat_minor": 5
}
