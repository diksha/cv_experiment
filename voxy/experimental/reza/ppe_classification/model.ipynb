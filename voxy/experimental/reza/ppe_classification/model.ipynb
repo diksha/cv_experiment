{
 "cells": [
  {
   "cell_type": "code",
   "execution_count": 1,
   "id": "2ec66823",
   "metadata": {},
   "outputs": [
    {
     "ename": "ModuleNotFoundError",
     "evalue": "No module named 'autoaugment'",
     "output_type": "error",
     "traceback": [
      "\u001b[0;31m---------------------------------------------------------------------------\u001b[0m",
      "\u001b[0;31mModuleNotFoundError\u001b[0m                       Traceback (most recent call last)",
      "\u001b[0;32m/tmp/ipykernel_24067/788114844.py\u001b[0m in \u001b[0;36m<module>\u001b[0;34m\u001b[0m\n\u001b[1;32m     22\u001b[0m \u001b[0;32mimport\u001b[0m \u001b[0mwandb\u001b[0m\u001b[0;34m\u001b[0m\u001b[0;34m\u001b[0m\u001b[0m\n\u001b[1;32m     23\u001b[0m \u001b[0;32mfrom\u001b[0m \u001b[0mtorch\u001b[0m\u001b[0;34m.\u001b[0m\u001b[0mutils\u001b[0m\u001b[0;34m.\u001b[0m\u001b[0mdata\u001b[0m \u001b[0;32mimport\u001b[0m \u001b[0mWeightedRandomSampler\u001b[0m\u001b[0;34m\u001b[0m\u001b[0;34m\u001b[0m\u001b[0m\n\u001b[0;32m---> 24\u001b[0;31m \u001b[0;32mfrom\u001b[0m \u001b[0mautoaugment\u001b[0m\u001b[0;34m.\u001b[0m\u001b[0mautoaugment\u001b[0m \u001b[0;32mimport\u001b[0m \u001b[0mImageNetPolicy\u001b[0m\u001b[0;34m\u001b[0m\u001b[0;34m\u001b[0m\u001b[0m\n\u001b[0m",
      "\u001b[0;31mModuleNotFoundError\u001b[0m: No module named 'autoaugment'"
     ]
    }
   ],
   "source": [
    "import sys\n",
    "import os\n",
    "sys.path.append(os.environ[\"BUILD_WORKSPACE_DIRECTORY\"])\n",
    "from torch import nn\n",
    "import torchvision.models as models\n",
    "import torch\n",
    "torch.manual_seed(0)\n",
    "import torch.optim as optim\n",
    "from torch.optim import lr_scheduler\n",
    "import numpy as np\n",
    "import torchvision\n",
    "from torchvision import datasets, transforms\n",
    "import matplotlib.pyplot as plt\n",
    "import time\n",
    "import os\n",
    "import copy\n",
    "from datetime import datetime\n",
    "from torch.utils.data import Dataset, DataLoader, random_split\n",
    "import os\n",
    "from PIL import Image\n",
    "import json\n",
    "import wandb\n",
    "from torch.utils.data import WeightedRandomSampler\n",
    "from autoaugment.autoaugment import ImageNetPolicy"
   ]
  },
  {
   "cell_type": "code",
   "execution_count": 2,
   "id": "14cbdcdc",
   "metadata": {},
   "outputs": [],
   "source": [
    "def imshow(inp, title=None):\n",
    "    inp = inp.numpy().transpose((1, 2, 0))\n",
    "    mean = np.array([0.485, 0.456, 0.406])\n",
    "    std = np.array([0.229, 0.224, 0.225])\n",
    "    inp = std * inp + mean\n",
    "    inp = np.clip(inp, 0, 1)\n",
    "    plt.imshow(inp)\n",
    "    if title is not None:\n",
    "        plt.title(title)\n",
    "    plt.pause(0.001)  # pause a bit so that plots are updated"
   ]
  },
  {
   "cell_type": "code",
   "execution_count": 3,
   "id": "c91f3eec",
   "metadata": {},
   "outputs": [],
   "source": [
    "def get_class_distribution(dataset_obj):\n",
    "    count_dict = {k:0 for k,v in dataset_obj.class_to_idx.items()}\n",
    "    for element in dataset_obj:\n",
    "        y_lbl = element[1]\n",
    "        y_lbl = idx2class[y_lbl]\n",
    "        count_dict[y_lbl] += 1\n",
    "            \n",
    "    return count_dict\n",
    "\n",
    "\n",
    "def get_class_distribution_loaders(dataloader_obj, dataset_obj):\n",
    "    count_dict = {k:0 for k,v in dataset_obj.class_to_idx.items()}\n",
    "    \n",
    "    for _,j in dataloader_obj:\n",
    "        y_idx = j.item()\n",
    "        y_lbl = idx2class[y_idx]\n",
    "        count_dict[str(y_lbl)] += 1\n",
    "            \n",
    "    return count_dict\n",
    "def get_class_target_list_loaders(dataloader_obj, dataset_obj):\n",
    "    count_dict = {k:0 for k,v in dataset_obj.class_to_idx.items()}\n",
    "    target = []\n",
    "    for _,j in dataloader_obj:\n",
    "        y_idx = j.item()\n",
    "        target.append(y_idx)\n",
    "            \n",
    "    return target"
   ]
  },
  {
   "cell_type": "code",
   "execution_count": 4,
   "id": "2f3fee4b",
   "metadata": {},
   "outputs": [],
   "source": [
    "class SelfAttention(nn.Module):\n",
    "    \n",
    "    def __init__(self,input_dim):\n",
    "        super(SelfAttention,self).__init__()\n",
    "        self.to_query = nn.Conv2d(in_channels = input_dim , out_channels = input_dim//8 , kernel_size= 1)\n",
    "        self.to_key = nn.Conv2d(in_channels = input_dim , out_channels = input_dim//8 , kernel_size= 1)\n",
    "        self.to_value = nn.Conv2d(in_channels = input_dim , out_channels = input_dim , kernel_size= 1)\n",
    "        self.gamma = nn.Parameter(torch.zeros(1))\n",
    "        self.softmax  = nn.Softmax(dim=-1) #\n",
    "    \n",
    "    def forward(self,x):\n",
    "        bs, c, w, h = x.size()\n",
    "        Q  = self.to_query(x).view(bs, -1, w * h).permute(0,2,1) \n",
    "        K =  self.to_key(x).view(bs,-1,w * h)\n",
    "        E =  torch.bmm(Q,K) \n",
    "        A = self.softmax(E) \n",
    "        V = self.to_value(x).view(bs, -1, w * h) \n",
    "        Y = torch.bmm(V, A.permute(0,2,1))\n",
    "        Y = Y.view(bs, c, w, h)\n",
    "        out = self.gamma * Y + x\n",
    "        return out, A\n",
    "    \n",
    "class AttentionResnet50(nn.Module):\n",
    "    \n",
    "    def __init__(self, num_classes):\n",
    "        super(AttentionResnet50,self).__init__()\n",
    "        self.resnet = models.resnet50(pretrained=True)\n",
    "        self.att_1 = SelfAttention(512)\n",
    "        self.att_2 = SelfAttention(1024)\n",
    "        self.att_3 = SelfAttention(2048)\n",
    "        self.dropout=nn.Dropout(0.2)\n",
    "        self.resnet.fc = nn.Linear(self.resnet.fc.in_features, num_classes)\n",
    "    \n",
    "    def forward(self,x):\n",
    "        x = self.resnet.conv1(x)\n",
    "        x = self.resnet.bn1(x)\n",
    "        x = self.resnet.relu(x)\n",
    "        x = self.resnet.maxpool(x)\n",
    "        x = self.resnet.layer1(x)\n",
    "        x = self.resnet.layer2(x)\n",
    "        x, _ = self.att_1(x)\n",
    "        x = self.dropout(x)\n",
    "        x = self.resnet.layer3(x)\n",
    "        x, _ = self.att_2(x)\n",
    "        x = self.dropout(x)\n",
    "        x = self.resnet.layer4(x)\n",
    "        x, _ = self.att_3(x)\n",
    "        x = self.dropout(x)\n",
    "        x = self.resnet.avgpool(x)\n",
    "        x = x.view(x.size(0),-1)\n",
    "        x = self.resnet.fc(x)\n",
    "        return x"
   ]
  },
  {
   "cell_type": "code",
   "execution_count": 5,
   "id": "4d4297a9",
   "metadata": {},
   "outputs": [],
   "source": [
    "class MapDataset(Dataset):\n",
    "\n",
    "    def __init__(self, dataset, map_fn):\n",
    "        self.dataset = dataset\n",
    "        self.map = map_fn\n",
    "\n",
    "    def __getitem__(self, index):\n",
    "        if self.map:     \n",
    "            x = self.map(self.dataset[index][0]) \n",
    "        else:     \n",
    "            x = self.dataset[index][0]  # image\n",
    "        y = self.dataset[index][1]   # label      \n",
    "        return x, y\n",
    "\n",
    "    def __len__(self):\n",
    "        return len(self.dataset)"
   ]
  },
  {
   "cell_type": "markdown",
   "id": "e879db5f",
   "metadata": {},
   "source": [
    "#### Focal loss based on https://github.com/kornia/kornia/blob/master/kornia/losses/focal.py"
   ]
  },
  {
   "cell_type": "code",
   "execution_count": 3,
   "id": "561ee515",
   "metadata": {},
   "outputs": [],
   "source": [
    "import torch\n",
    "import torch.nn as nn\n",
    "import torch.nn.functional as F\n",
    "from torch.autograd import Variable\n",
    "from typing import Optional\n",
    "\n",
    "def one_hot(\n",
    "    labels: torch.Tensor,\n",
    "    num_classes: int,\n",
    "    device: Optional[torch.device] = None,\n",
    "    dtype: Optional[torch.dtype] = None,\n",
    "    eps: float = 1e-6,\n",
    ") -> torch.Tensor:\n",
    "    if not isinstance(labels, torch.Tensor):\n",
    "        raise TypeError(f\"Input labels type is not a torch.Tensor. Got {type(labels)}\")\n",
    "\n",
    "    if not labels.dtype == torch.int64:\n",
    "        raise ValueError(f\"labels must be of the same dtype torch.int64. Got: {labels.dtype}\")\n",
    "\n",
    "    if num_classes < 1:\n",
    "        raise ValueError(\"The number of classes must be bigger than one.\" \" Got: {}\".format(num_classes))\n",
    "\n",
    "    shape = labels.shape\n",
    "    one_hot = torch.zeros((shape[0], num_classes) + shape[1:], device=device, dtype=dtype)\n",
    "\n",
    "    return one_hot.scatter_(1, labels.unsqueeze(1), 1.0) + eps\n",
    "\n",
    "\n",
    "def focal_loss(\n",
    "    input: torch.Tensor,\n",
    "    target: torch.Tensor,\n",
    "    alpha: float,\n",
    "    gamma: float = 2.0,\n",
    "    reduction: str = 'none',\n",
    "    eps: Optional[float] = None,\n",
    ") -> torch.Tensor:\n",
    "    if eps is not None and not torch.jit.is_scripting():\n",
    "        warnings.warn(\n",
    "            \"`focal_loss` has been reworked for improved numerical stability \"\n",
    "            \"and the `eps` argument is no longer necessary\",\n",
    "            DeprecationWarning,\n",
    "            stacklevel=2,\n",
    "        )\n",
    "\n",
    "    if not isinstance(input, torch.Tensor):\n",
    "        raise TypeError(f\"Input type is not a torch.Tensor. Got {type(input)}\")\n",
    "\n",
    "    if not len(input.shape) >= 2:\n",
    "        raise ValueError(f\"Invalid input shape, we expect BxCx*. Got: {input.shape}\")\n",
    "\n",
    "    if input.size(0) != target.size(0):\n",
    "        raise ValueError(f'Expected input batch_size ({input.size(0)}) to match target batch_size ({target.size(0)}).')\n",
    "\n",
    "    n = input.size(0)\n",
    "    out_size = (n,) + input.size()[2:]\n",
    "    if target.size()[1:] != input.size()[2:]:\n",
    "        raise ValueError(f'Expected target size {out_size}, got {target.size()}')\n",
    "\n",
    "    if not input.device == target.device:\n",
    "        raise ValueError(f\"input and target must be in the same device. Got: {input.device} and {target.device}\")\n",
    "\n",
    "    # compute softmax over the classes axis\n",
    "    input_soft: torch.Tensor = F.softmax(input, dim=1)\n",
    "    log_input_soft: torch.Tensor = F.log_softmax(input, dim=1)\n",
    "\n",
    "    # create the labels one hot tensor\n",
    "    target_one_hot: torch.Tensor = one_hot(target, num_classes=input.shape[1], device=input.device, dtype=input.dtype)\n",
    "\n",
    "    # compute the actual focal loss\n",
    "    weight = torch.pow(-input_soft + 1.0, gamma)\n",
    "\n",
    "    focal = -alpha * weight * log_input_soft\n",
    "    loss_tmp = torch.einsum('bc...,bc...->b...', (target_one_hot, focal))\n",
    "\n",
    "    if reduction == 'none':\n",
    "        loss = loss_tmp\n",
    "    elif reduction == 'mean':\n",
    "        loss = torch.mean(loss_tmp)\n",
    "    elif reduction == 'sum':\n",
    "        loss = torch.sum(loss_tmp)\n",
    "    else:\n",
    "        raise NotImplementedError(f\"Invalid reduction mode: {reduction}\")\n",
    "    return loss\n",
    "\n",
    "class FocalLoss(nn.Module):\n",
    "\n",
    "    def __init__(self, alpha: float, gamma: float = 2.0, reduction: str = 'none', eps: Optional[float] = None) -> None:\n",
    "        super().__init__()\n",
    "        self.alpha: float = alpha\n",
    "        self.gamma: float = gamma\n",
    "        self.reduction: str = reduction\n",
    "        self.eps: Optional[float] = eps\n",
    "\n",
    "    def forward(self, input: torch.Tensor, target: torch.Tensor) -> torch.Tensor:\n",
    "        return focal_loss(input, target, self.alpha, self.gamma, self.reduction, self.eps)"
   ]
  },
  {
   "cell_type": "markdown",
   "id": "26294eee",
   "metadata": {},
   "source": [
    "## Please Change the optimizer learning parameters below"
   ]
  },
  {
   "cell_type": "code",
   "execution_count": 7,
   "id": "8d610883",
   "metadata": {},
   "outputs": [],
   "source": [
    "def train_model(model, config, dataloaders, dataset_sizes, optimizer):\n",
    "    device = torch.device('cuda' if torch.cuda.is_available() else 'cpu')\n",
    "    criterion = FocalLoss(alpha = 0.25, gamma = 1.5, reduction = 'mean') # nn.CrossEntropyLoss() #FocalLoss(alpha = 0.25, gamma = 1.5, reduction = 'mean') #nn.CrossEntropyLoss()\n",
    "    model_path = './models'\n",
    "#     optimizer = torch.optim.Adam([{'params': [param for name, param in model.named_parameters() if 'att' not in name]},\n",
    "#                               {'params': model.att_1.parameters(), 'lr': 1 * config['learning_rate']}, \n",
    "#                               {'params': model.att_2.parameters(), 'lr': 1 * config['learning_rate']}, \n",
    "#                               {'params': model.att_3.parameters(), 'lr': 1 * config['learning_rate']}], lr=config['learning_rate'])\n",
    "    \n",
    "    wandb.init(project =  \"attention_ppe_classification\", entity = \"voxel-wandb\", config = config, tags = [config['tags']])\n",
    "    config = wandb.config\n",
    "    scheduler = lr_scheduler.StepLR(optimizer, step_size=config['step'], gamma=0.1)\n",
    "    since = time.time()\n",
    "    best_model_wts = copy.deepcopy(model.state_dict())   \n",
    "    best_f1 = 0\n",
    "    model.to(device)\n",
    "    for epoch in range(config.num_epochs):\n",
    "        print('Epoch {}/{}'.format(epoch, config.num_epochs - 1))\n",
    "        print('-' * 10)\n",
    "\n",
    "        # Each epoch has a training and validation phase\n",
    "        for phase in ['train', 'val']:\n",
    "            if phase == 'train':\n",
    "                model.train()  # Set model to training mode\n",
    "            else:\n",
    "                model.eval()   # Set model to evaluate mode\n",
    "\n",
    "            running_loss = 0.0\n",
    "            running_corrects = 0\n",
    "            running_tp = 0\n",
    "            running_fp = 0\n",
    "            running_fn = 0\n",
    "            #running_tn = 0\n",
    "\n",
    "            # Iterate over data.\n",
    "            for inputs, labels in dataloaders[phase]:\n",
    "                inputs = inputs.to(device)\n",
    "                labels = labels.to(device).view(-1)\n",
    "\n",
    "                # zero the parameter gradients\n",
    "                optimizer.zero_grad()\n",
    "\n",
    "                # forward\n",
    "                # track history if only in train\n",
    "                with torch.set_grad_enabled(phase == 'train'):\n",
    "                    outputs = model(inputs)\n",
    "                    _, preds = torch.max(outputs, 1)\n",
    "                    loss = criterion(outputs, labels)\n",
    "\n",
    "                    # backward + optimize only if in training phase\n",
    "                    if phase == 'train':\n",
    "                        loss.backward()\n",
    "                        optimizer.step()\n",
    "                # statistics\n",
    "                running_loss += loss.item() * inputs.size(0)\n",
    "                running_corrects += torch.sum(preds == labels.data)\n",
    "                running_tp += torch.sum(np.logical_and(preds.cpu(),labels.data.cpu())).cuda()\n",
    "                running_fp += torch.sum(np.greater(preds.cpu(),labels.data.cpu())).cuda()\n",
    "                running_fn += torch.sum(np.less(preds.cpu(),labels.data.cpu())).cuda()                \n",
    "\n",
    "            if phase == 'train':\n",
    "                scheduler.step()\n",
    "\n",
    "            epoch_loss = running_loss / dataset_sizes[phase]\n",
    "            epoch_acc = running_corrects.double() / dataset_sizes[phase] \n",
    "\n",
    "            epoch_precision = running_tp/(running_tp+running_fp)\n",
    "            epoch_recall = running_tp/(running_tp+running_fn)\n",
    "            epoch_f1 = 2*(epoch_precision*epoch_recall)/(epoch_precision+epoch_recall)\n",
    "            if phase == 'val':\n",
    "                print(\"val loss\", epoch_loss)\n",
    "                print(\"val_f1\", epoch_f1)\n",
    "                wandb.log({\"val loss\":epoch_loss})\n",
    "                wandb.log({\"val_f1\":epoch_f1})\n",
    "            if phase == 'train':\n",
    "                print(\"train loss\", epoch_loss)\n",
    "                wandb.log({\"train loss\":epoch_loss})\n",
    "\n",
    "            print('{} Loss: {:.4f} Acc: {:.4f} Precision: {:.4f} Recall: {:.4f} F1: {:.4f}'.format(\n",
    "                phase, epoch_loss, epoch_acc,epoch_precision,epoch_recall, epoch_f1))\n",
    "\n",
    "            # deep copy the model\n",
    "            if phase == 'val' and epoch_f1 > best_f1:\n",
    "                best_f1 = epoch_f1\n",
    "                best_model_wts = copy.deepcopy(model.state_dict())\n",
    "                \n",
    "    time_elapsed = time.time() - since\n",
    "    print('Training complete in {:.0f}m {:.0f}s'.format(\n",
    "        time_elapsed // 60, time_elapsed % 60))\n",
    "    print('Best val Acc: {:4f}'.format(best_f1))\n",
    "\n",
    "\n",
    "    with open(\"./best_f1.txt\",\"w\") as f:\n",
    "        f.write(str(float(best_f1)))\n",
    "    f.close()\n",
    "    # load best model weights\n",
    "    model.load_state_dict(best_model_wts)\n",
    "\n",
    "    #save this model\n",
    "    example_input = torch.randn(1, 3, 224, 224, requires_grad=False).to(device)\n",
    "    traced_model = torch.jit.trace(model, example_input)\n",
    "    today_date = datetime.today().strftime('%Y-%m-%d')\n",
    "    traced_model.save(f'{model_path}/voxel_classifier_resnet50_{config.tags}_{today_date}.pth')\n",
    "    wandb.join()\n",
    "    return model\n"
   ]
  },
  {
   "cell_type": "markdown",
   "id": "5a4609fd",
   "metadata": {},
   "source": [
    "## Running on dataset V2 Without Samling"
   ]
  },
  {
   "cell_type": "code",
   "execution_count": null,
   "id": "494ccd93",
   "metadata": {},
   "outputs": [],
   "source": [
    "data_transforms = transforms.Compose([\n",
    "                transforms.Resize(256),\n",
    "                transforms.CenterCrop(224),\n",
    "                transforms.ToTensor(),\n",
    "                transforms.Normalize([0.485, 0.456, 0.406], [0.229, 0.224, 0.225])])\n",
    "dataset = datasets.ImageFolder('/home/reza_voxelsafety_com/experiments/ppe_classifaction/data/v2/vestdataset',\n",
    "transform=data_transforms)\n",
    "class_names = dataset.classes"
   ]
  },
  {
   "cell_type": "code",
   "execution_count": null,
   "id": "abe081c0",
   "metadata": {},
   "outputs": [],
   "source": [
    "dataloader = torch.utils.data.DataLoader(dataset, batch_size=128, shuffle=True)"
   ]
  },
  {
   "cell_type": "code",
   "execution_count": null,
   "id": "029ee482",
   "metadata": {},
   "outputs": [],
   "source": [
    "\n",
    "# Get a batch of training data\n",
    "inputs, classes = next(iter(dataloader))\n",
    "\n",
    "# Make a grid from batch\n",
    "out = torchvision.utils.make_grid(inputs[0:4])\n",
    "\n",
    "imshow(out, title=[class_names[x] for x in classes[0:4]])"
   ]
  },
  {
   "cell_type": "code",
   "execution_count": null,
   "id": "a32649fd",
   "metadata": {},
   "outputs": [],
   "source": [
    "num_val= int(len(dataset) * 0.2)\n",
    "num_train = len(dataset) - num_val\n",
    "train, val = random_split(dataset, [num_train, num_val])\n",
    "batch_size = 128\n",
    "dataloaders = {\n",
    "    'train': DataLoader(train, batch_size=batch_size, shuffle=True, num_workers=8),\n",
    "    'val': DataLoader(val, batch_size=batch_size, shuffle=False, num_workers=8),\n",
    "}\n",
    "dataset_sizes = {}\n",
    "dataset_sizes['train'] = len(train)\n",
    "dataset_sizes['val'] = len(val)\n",
    "print(dataset_sizes)"
   ]
  },
  {
   "cell_type": "markdown",
   "id": "a55c0661",
   "metadata": {},
   "source": [
    "### Define model and optimizer"
   ]
  },
  {
   "cell_type": "code",
   "execution_count": null,
   "id": "f0564de7",
   "metadata": {},
   "outputs": [],
   "source": [
    "model = AttentionResnet50(2)\n",
    "\n",
    "config = {\n",
    "        'num_epochs': 15,\n",
    "        'learning_rate': 1e-2,\n",
    "        'step':7,\n",
    "        'tags': \"AttentionV2\"\n",
    "}\n",
    "optimizer = torch.optim.SGD(model.parameters(), lr=config['learning_rate'], momentum=0.9)\n",
    "train_model(model, config, dataloaders, dataset_sizes, optimizer)"
   ]
  },
  {
   "cell_type": "markdown",
   "id": "3ce2cdaa",
   "metadata": {},
   "source": [
    "## Running on dataset V2 With Samling"
   ]
  },
  {
   "cell_type": "code",
   "execution_count": 8,
   "id": "0e6ee59a",
   "metadata": {},
   "outputs": [],
   "source": [
    "np.random.seed(0)\n",
    "data_transforms = {\n",
    "            'train': transforms.Compose([\n",
    "                transforms.RandomResizedCrop((224,224),scale=(0.7,1.0)),\n",
    "                transforms.RandomHorizontalFlip(),\n",
    "                transforms.ToTensor(),\n",
    "                transforms.Normalize([0.485, 0.456, 0.406], [0.229, 0.224, 0.225])\n",
    "            ]),\n",
    "            'val': transforms.Compose([\n",
    "                transforms.Resize(256),\n",
    "                transforms.CenterCrop(224),\n",
    "                transforms.ToTensor(),\n",
    "                transforms.Normalize([0.485, 0.456, 0.406], [0.229, 0.224, 0.225])\n",
    "            ]),\n",
    "        }\n",
    "\n",
    "dataset = datasets.ImageFolder('/home/reza_voxelsafety_com/experiments/ppe_classifaction/data/v2/vestdataset')\n",
    "class_names = dataset.classes\n",
    "num_train = len(dataset)\n",
    "indices = list(range(num_train))\n",
    "np.random.shuffle(indices)\n",
    "split = int(np.floor(0.2 * num_train))\n",
    "train_idx, valid_idx = indices[split:], indices[:split]\n",
    "train = torch.utils.data.Subset(dataset, train_idx)\n",
    "val = torch.utils.data.Subset(dataset, valid_idx)\n",
    "train = MapDataset(train, data_transforms['train'])\n",
    "val =  MapDataset(val, data_transforms['val'])\n",
    "dataloaders = {             \n",
    "    'train': DataLoader(train, batch_size=1, shuffle=False, num_workers=8),\n",
    "    'val': DataLoader(val, batch_size=1, shuffle=False, num_workers=8),\n",
    "}"
   ]
  },
  {
   "cell_type": "code",
   "execution_count": 9,
   "id": "57cdb0af",
   "metadata": {},
   "outputs": [
    {
     "name": "stdout",
     "output_type": "stream",
     "text": [
      "{0: 'no_vest', 1: 'vest'}\n"
     ]
    }
   ],
   "source": [
    "dataset.class_to_idx\n",
    "idx2class = {v: k for k, v in dataset.class_to_idx.items()}\n",
    "print(idx2class)"
   ]
  },
  {
   "cell_type": "code",
   "execution_count": 10,
   "id": "fd9fc09a",
   "metadata": {},
   "outputs": [],
   "source": [
    "class_count =  get_class_distribution(dataset)"
   ]
  },
  {
   "cell_type": "code",
   "execution_count": 11,
   "id": "4b2e9384",
   "metadata": {},
   "outputs": [],
   "source": [
    "val_count = get_class_distribution_loaders(dataloaders['val'], dataset)"
   ]
  },
  {
   "cell_type": "code",
   "execution_count": 12,
   "id": "3841d671",
   "metadata": {},
   "outputs": [],
   "source": [
    "train_count = get_class_distribution_loaders(dataloaders['train'], dataset)\n"
   ]
  },
  {
   "cell_type": "code",
   "execution_count": 13,
   "id": "d13187a5",
   "metadata": {
    "scrolled": true
   },
   "outputs": [
    {
     "data": {
      "text/plain": [
       "Text(0.5, 1.0, 'Val')"
      ]
     },
     "execution_count": 13,
     "metadata": {},
     "output_type": "execute_result"
    },
    {
     "data": {
      "image/png": "[encoded data removed]",
      "text/plain": [
       "<Figure size 1080x216 with 3 Axes>"
      ]
     },
     "metadata": {
      "needs_background": "light"
     },
     "output_type": "display_data"
    }
   ],
   "source": [
    "f = plt.figure(figsize=(15,3))\n",
    "ax0 = f.add_subplot(131)\n",
    "ax1 = f.add_subplot(132)\n",
    "ax2 = f.add_subplot(133)\n",
    "ax0.bar(class_count.keys(), class_count.values(), width = 0.2, color=['purple', 'yellow'])\n",
    "ax0.set_title(\"All\")\n",
    "ax1.bar(train_count.keys(), train_count.values(), width = 0.2, color=['purple', 'yellow'])\n",
    "ax1.set_title(\"Train\")\n",
    "ax2.bar(val_count.keys(), val_count.values(), width = 0.2, color=['purple', 'yellow'])\n",
    "ax2.set_title(\"Val\")"
   ]
  },
  {
   "cell_type": "markdown",
   "id": "37e2eb55",
   "metadata": {},
   "source": [
    "### Train Sampler"
   ]
  },
  {
   "cell_type": "code",
   "execution_count": 14,
   "id": "30ab8a6b",
   "metadata": {},
   "outputs": [
    {
     "name": "stdout",
     "output_type": "stream",
     "text": [
      "tensor([5.1440e-04, 4.2560e-05])\n",
      "25440\n"
     ]
    }
   ],
   "source": [
    "target_list_train = torch.tensor(get_class_target_list_loaders(dataloaders['train'], dataset))\n",
    "class_count_train = [i for i in get_class_distribution_loaders(dataloaders['train'], dataset).values()]\n",
    "class_weights_train = 1./torch.tensor(class_count_train, dtype=torch.float) \n",
    "print(class_weights_train)\n",
    "class_weights_train_all = class_weights_train[target_list_train]\n",
    "print(len(class_weights_train_all))\n"
   ]
  },
  {
   "cell_type": "code",
   "execution_count": 15,
   "id": "cc3eae16",
   "metadata": {},
   "outputs": [],
   "source": [
    "weighted_sampler_train = WeightedRandomSampler(\n",
    "    weights=class_weights_train_all,\n",
    "    num_samples=len(class_weights_train_all),\n",
    "    replacement=True\n",
    ")"
   ]
  },
  {
   "cell_type": "markdown",
   "id": "6bf8c105",
   "metadata": {},
   "source": [
    "### Val Sampler not needed"
   ]
  },
  {
   "cell_type": "code",
   "execution_count": 33,
   "id": "3bd88c42",
   "metadata": {},
   "outputs": [
    {
     "name": "stdout",
     "output_type": "stream",
     "text": [
      "tensor([1, 1, 1,  ..., 1, 1, 1])\n",
      "tensor([0.0020, 0.0002])\n",
      "6359\n"
     ]
    }
   ],
   "source": [
    "target_list_val = torch.tensor(get_class_target_list_loaders(dataloaders['val'], dataset))\n",
    "print(target_list_val)\n",
    "class_count_val = [i for i in get_class_distribution_loaders(dataloaders['val'], dataset).values()]\n",
    "class_weights_val = 1./torch.tensor(class_count_val, dtype=torch.float) \n",
    "print(class_weights_val)\n",
    "class_weights_val_all = class_weights_val[target_list_val]\n",
    "print(len(class_weights_val_all))\n",
    "weighted_sampler_val = WeightedRandomSampler(\n",
    "    weights=class_weights_val_all,\n",
    "    num_samples=len(class_weights_val_all),\n",
    "    replacement=True\n",
    ")"
   ]
  },
  {
   "cell_type": "code",
   "execution_count": 16,
   "id": "31384016",
   "metadata": {},
   "outputs": [],
   "source": [
    "batch_size = 128\n",
    "dataloaders = {\n",
    "    'train': DataLoader(train, batch_size=batch_size, num_workers=8, sampler=weighted_sampler_train),\n",
    "    'val': DataLoader(val, batch_size=batch_size, num_workers=8),\n",
    "}"
   ]
  },
  {
   "cell_type": "code",
   "execution_count": 17,
   "id": "eced8017",
   "metadata": {},
   "outputs": [
    {
     "data": {
      "image/png": "[encoded data removed]",
      "text/plain": [
       "<Figure size 432x288 with 1 Axes>"
      ]
     },
     "metadata": {
      "needs_background": "light"
     },
     "output_type": "display_data"
    }
   ],
   "source": [
    "inputs, classes = next(iter(dataloaders['train']))\n",
    "out = torchvision.utils.make_grid(inputs[0:16])\n",
    "imshow(out, title=[class_names[x] for x in classes[0:16]])"
   ]
  },
  {
   "cell_type": "code",
   "execution_count": 19,
   "id": "5477fc4d",
   "metadata": {},
   "outputs": [
    {
     "data": {
      "text/plain": [
       "{'train': 25440, 'val': 6359}"
      ]
     },
     "execution_count": 19,
     "metadata": {},
     "output_type": "execute_result"
    }
   ],
   "source": [
    "dataset_sizes = {}\n",
    "dataset_sizes['train'] = len(train)\n",
    "dataset_sizes['val'] = len(val)\n",
    "dataset_sizes"
   ]
  },
  {
   "cell_type": "code",
   "execution_count": 20,
   "id": "75e397f9",
   "metadata": {
    "scrolled": true
   },
   "outputs": [
    {
     "name": "stderr",
     "output_type": "stream",
     "text": [
      "\u001b[34m\u001b[1mwandb\u001b[0m: Currently logged in as: \u001b[33mvoxel-wandb\u001b[0m (use `wandb login --relogin` to force relogin)\n",
      "\u001b[34m\u001b[1mwandb\u001b[0m: wandb version 0.12.10 is available!  To upgrade, please run:\n",
      "\u001b[34m\u001b[1mwandb\u001b[0m:  $ pip install wandb --upgrade\n"
     ]
    },
    {
     "data": {
      "text/html": [
       "\n",
       "                    Syncing run <strong><a href=\"https://wandb.ai/voxel-wandb/attention_ppe_classification/runs/1d8a9qiw\" target=\"_blank\">sparkling-salad-29</a></strong> to <a href=\"https://wandb.ai/voxel-wandb/attention_ppe_classification\" target=\"_blank\">Weights & Biases</a> (<a href=\"https://docs.wandb.com/integrations/jupyter.html\" target=\"_blank\">docs</a>).<br/>\n",
       "\n",
       "                "
      ],
      "text/plain": [
       "<IPython.core.display.HTML object>"
      ]
     },
     "metadata": {},
     "output_type": "display_data"
    },
    {
     "name": "stdout",
     "output_type": "stream",
     "text": [
      "Epoch 0/14\n",
      "----------\n"
     ]
    },
    {
     "name": "stderr",
     "output_type": "stream",
     "text": [
      "/home/reza_voxelsafety_com/.cache/bazel/_bazel_reza_voxelsafety_com/d620f0b6d4b41da06538aa48e57dfab6/execroot/voxel/bazel-out/k8-fastbuild/bin/third_party/jupyter/jupyter.runfiles/pip_deps_torch/torch/nn/functional.py:718: UserWarning: Named tensors and all their associated APIs are an experimental feature and subject to change. Please do not use them for anything important until they are released as stable. (Triggered internally at  /pytorch/c10/core/TensorImpl.h:1156.)\n",
      "  return torch.max_pool2d(input, kernel_size, stride, padding, dilation, ceil_mode)\n"
     ]
    },
    {
     "name": "stdout",
     "output_type": "stream",
     "text": [
      "train loss 0.009533048863669142\n",
      "train Loss: 0.0095 Acc: 0.9607 Precision: 0.9603 Recall: 0.9602 F1: 0.9603\n",
      "val loss 0.012163208961020496\n",
      "val_f1 tensor(0.9730, device='cuda:0')\n",
      "val Loss: 0.0122 Acc: 0.9514 Precision: 0.9984 Recall: 0.9488 F1: 0.9730\n",
      "Epoch 1/14\n",
      "----------\n",
      "train loss 0.002929166893463043\n",
      "train Loss: 0.0029 Acc: 0.9908 Precision: 0.9937 Recall: 0.9882 F1: 0.9909\n",
      "val loss 0.013591895247691691\n",
      "val_f1 tensor(0.9736, device='cuda:0')\n",
      "val Loss: 0.0136 Acc: 0.9525 Precision: 0.9987 Recall: 0.9497 F1: 0.9736\n",
      "Epoch 2/14\n",
      "----------\n",
      "train loss 0.0018174785307210244\n",
      "train Loss: 0.0018 Acc: 0.9946 Precision: 0.9968 Recall: 0.9924 F1: 0.9946\n",
      "val loss 0.008576107379818697\n",
      "val_f1 tensor(0.9822, device='cuda:0')\n",
      "val Loss: 0.0086 Acc: 0.9676 Precision: 0.9982 Recall: 0.9666 F1: 0.9822\n",
      "Epoch 3/14\n",
      "----------\n",
      "train loss 0.0011975162891369408\n",
      "train Loss: 0.0012 Acc: 0.9967 Precision: 0.9984 Recall: 0.9951 F1: 0.9968\n",
      "val loss 0.0076108408650920265\n",
      "val_f1 tensor(0.9839, device='cuda:0')\n",
      "val Loss: 0.0076 Acc: 0.9708 Precision: 0.9979 Recall: 0.9703 F1: 0.9839\n",
      "Epoch 4/14\n",
      "----------\n",
      "train loss 0.0009271216430150722\n",
      "train Loss: 0.0009 Acc: 0.9973 Precision: 0.9987 Recall: 0.9959 F1: 0.9973\n",
      "val loss 0.0074547526952985785\n",
      "val_f1 tensor(0.9848, device='cuda:0')\n",
      "val Loss: 0.0075 Acc: 0.9723 Precision: 0.9974 Recall: 0.9725 F1: 0.9848\n",
      "Epoch 5/14\n",
      "----------\n",
      "train loss 0.0008049511445782136\n",
      "train Loss: 0.0008 Acc: 0.9980 Precision: 0.9992 Recall: 0.9968 F1: 0.9980\n",
      "val loss 0.008073009919923262\n",
      "val_f1 tensor(0.9848, device='cuda:0')\n",
      "val Loss: 0.0081 Acc: 0.9723 Precision: 0.9981 Recall: 0.9719 F1: 0.9848\n",
      "Epoch 6/14\n",
      "----------\n",
      "train loss 0.0008132830333479375\n",
      "train Loss: 0.0008 Acc: 0.9978 Precision: 0.9991 Recall: 0.9965 F1: 0.9978\n",
      "val loss 0.006461086937156678\n",
      "val_f1 tensor(0.9871, device='cuda:0')\n",
      "val Loss: 0.0065 Acc: 0.9764 Precision: 0.9972 Recall: 0.9771 F1: 0.9871\n",
      "Epoch 7/14\n",
      "----------\n",
      "train loss 0.0005315440159061127\n",
      "train Loss: 0.0005 Acc: 0.9985 Precision: 0.9989 Recall: 0.9981 F1: 0.9985\n",
      "val loss 0.00620830438739564\n",
      "val_f1 tensor(0.9878, device='cuda:0')\n",
      "val Loss: 0.0062 Acc: 0.9777 Precision: 0.9970 Recall: 0.9787 F1: 0.9878\n",
      "Epoch 8/14\n",
      "----------\n",
      "train loss 0.0005546787460923997\n",
      "train Loss: 0.0006 Acc: 0.9982 Precision: 0.9995 Recall: 0.9968 F1: 0.9982\n",
      "val loss 0.006726786870568189\n",
      "val_f1 tensor(0.9865, device='cuda:0')\n",
      "val Loss: 0.0067 Acc: 0.9753 Precision: 0.9976 Recall: 0.9756 F1: 0.9865\n",
      "Epoch 9/14\n",
      "----------\n",
      "train loss 0.0004931779084295187\n",
      "train Loss: 0.0005 Acc: 0.9986 Precision: 0.9995 Recall: 0.9977 F1: 0.9986\n",
      "val loss 0.006122219685254492\n",
      "val_f1 tensor(0.9880, device='cuda:0')\n",
      "val Loss: 0.0061 Acc: 0.9781 Precision: 0.9972 Recall: 0.9790 F1: 0.9880\n",
      "Epoch 10/14\n",
      "----------\n",
      "train loss 0.0006192455147396708\n",
      "train Loss: 0.0006 Acc: 0.9985 Precision: 0.9994 Recall: 0.9977 F1: 0.9985\n",
      "val loss 0.006537433801802994\n",
      "val_f1 tensor(0.9877, device='cuda:0')\n",
      "val Loss: 0.0065 Acc: 0.9775 Precision: 0.9977 Recall: 0.9778 F1: 0.9877\n",
      "Epoch 11/14\n",
      "----------\n",
      "train loss 0.0005518877094629098\n",
      "train Loss: 0.0006 Acc: 0.9986 Precision: 0.9996 Recall: 0.9976 F1: 0.9986\n",
      "val loss 0.005523268754099753\n",
      "val_f1 tensor(0.9893, device='cuda:0')\n",
      "val Loss: 0.0055 Acc: 0.9805 Precision: 0.9971 Recall: 0.9818 F1: 0.9893\n",
      "Epoch 12/14\n",
      "----------\n",
      "train loss 0.0004234357970293008\n",
      "train Loss: 0.0004 Acc: 0.9988 Precision: 0.9995 Recall: 0.9982 F1: 0.9988\n",
      "val loss 0.006711104886210553\n",
      "val_f1 tensor(0.9865, device='cuda:0')\n",
      "val Loss: 0.0067 Acc: 0.9755 Precision: 0.9979 Recall: 0.9754 F1: 0.9865\n",
      "Epoch 13/14\n",
      "----------\n",
      "train loss 0.0005490386764223852\n",
      "train Loss: 0.0005 Acc: 0.9986 Precision: 0.9994 Recall: 0.9977 F1: 0.9986\n",
      "val loss 0.005917474162814102\n",
      "val_f1 tensor(0.9886, device='cuda:0')\n",
      "val Loss: 0.0059 Acc: 0.9792 Precision: 0.9974 Recall: 0.9800 F1: 0.9886\n",
      "Epoch 14/14\n",
      "----------\n",
      "train loss 0.0005336943683075373\n",
      "train Loss: 0.0005 Acc: 0.9987 Precision: 0.9995 Recall: 0.9979 F1: 0.9987\n",
      "val loss 0.005687439767794386\n",
      "val_f1 tensor(0.9890, device='cuda:0')\n",
      "val Loss: 0.0057 Acc: 0.9799 Precision: 0.9974 Recall: 0.9807 F1: 0.9890\n",
      "Training complete in 91m 6s\n",
      "Best val Acc: 0.989345\n"
     ]
    },
    {
     "data": {
      "text/html": [
       "<br/>Waiting for W&B process to finish, PID 9117... <strong style=\"color:green\">(success).</strong>"
      ],
      "text/plain": [
       "<IPython.core.display.HTML object>"
      ]
     },
     "metadata": {},
     "output_type": "display_data"
    },
    {
     "data": {
      "application/vnd.jupyter.widget-view+json": {
       "model_id": "28df41a7d52a44518968a596091f1d08",
       "version_major": 2,
       "version_minor": 0
      },
      "text/plain": [
       "VBox(children=(Label(value=' 0.22MB of 0.22MB uploaded (0.00MB deduped)\\r'), FloatProgress(value=1.0, max=1.0)…"
      ]
     },
     "metadata": {},
     "output_type": "display_data"
    },
    {
     "data": {
      "text/html": [
       "<style>\n",
       "    table.wandb td:nth-child(1) { padding: 0 10px; text-align: right }\n",
       "    .wandb-row { display: flex; flex-direction: row; flex-wrap: wrap; width: 100% }\n",
       "    .wandb-col { display: flex; flex-direction: column; flex-basis: 100%; flex: 1; padding: 10px; }\n",
       "    </style>\n",
       "<div class=\"wandb-row\"><div class=\"wandb-col\">\n",
       "<h3>Run history:</h3><br/><table class=\"wandb\"><tr><td>train loss</td><td>█▃▂▂▁▁▁▁▁▁▁▁▁▁▁</td></tr><tr><td>val loss</td><td>▇█▄▃▃▃▂▂▂▂▂▁▂▁▁</td></tr><tr><td>val_f1</td><td>▁▁▅▆▆▆▇▇▇▇▇█▇██</td></tr></table><br/></div><div class=\"wandb-col\">\n",
       "<h3>Run summary:</h3><br/><table class=\"wandb\"><tr><td>train loss</td><td>0.00053</td></tr><tr><td>val loss</td><td>0.00569</td></tr><tr><td>val_f1</td><td>0.98899</td></tr></table>\n",
       "</div></div>\n",
       "Synced 6 W&B file(s), 0 media file(s), 0 artifact file(s) and 1 other file(s)\n",
       "<br/>Synced <strong style=\"color:#cdcd00\">sparkling-salad-29</strong>: <a href=\"https://wandb.ai/voxel-wandb/attention_ppe_classification/runs/1d8a9qiw\" target=\"_blank\">https://wandb.ai/voxel-wandb/attention_ppe_classification/runs/1d8a9qiw</a><br/>\n",
       "Find logs at: <code>./wandb/run-20220301_050255-1d8a9qiw/logs</code><br/>\n"
      ],
      "text/plain": [
       "<IPython.core.display.HTML object>"
      ]
     },
     "metadata": {},
     "output_type": "display_data"
    },
    {
     "data": {
      "text/plain": [
       "AttentionResnet50(\n",
       "  (resnet): ResNet(\n",
       "    (conv1): Conv2d(3, 64, kernel_size=(7, 7), stride=(2, 2), padding=(3, 3), bias=False)\n",
       "    (bn1): BatchNorm2d(64, eps=1e-05, momentum=0.1, affine=True, track_running_stats=True)\n",
       "    (relu): ReLU(inplace=True)\n",
       "    (maxpool): MaxPool2d(kernel_size=3, stride=2, padding=1, dilation=1, ceil_mode=False)\n",
       "    (layer1): Sequential(\n",
       "      (0): Bottleneck(\n",
       "        (conv1): Conv2d(64, 64, kernel_size=(1, 1), stride=(1, 1), bias=False)\n",
       "        (bn1): BatchNorm2d(64, eps=1e-05, momentum=0.1, affine=True, track_running_stats=True)\n",
       "        (conv2): Conv2d(64, 64, kernel_size=(3, 3), stride=(1, 1), padding=(1, 1), bias=False)\n",
       "        (bn2): BatchNorm2d(64, eps=1e-05, momentum=0.1, affine=True, track_running_stats=True)\n",
       "        (conv3): Conv2d(64, 256, kernel_size=(1, 1), stride=(1, 1), bias=False)\n",
       "        (bn3): BatchNorm2d(256, eps=1e-05, momentum=0.1, affine=True, track_running_stats=True)\n",
       "        (relu): ReLU(inplace=True)\n",
       "        (downsample): Sequential(\n",
       "          (0): Conv2d(64, 256, kernel_size=(1, 1), stride=(1, 1), bias=False)\n",
       "          (1): BatchNorm2d(256, eps=1e-05, momentum=0.1, affine=True, track_running_stats=True)\n",
       "        )\n",
       "      )\n",
       "      (1): Bottleneck(\n",
       "        (conv1): Conv2d(256, 64, kernel_size=(1, 1), stride=(1, 1), bias=False)\n",
       "        (bn1): BatchNorm2d(64, eps=1e-05, momentum=0.1, affine=True, track_running_stats=True)\n",
       "        (conv2): Conv2d(64, 64, kernel_size=(3, 3), stride=(1, 1), padding=(1, 1), bias=False)\n",
       "        (bn2): BatchNorm2d(64, eps=1e-05, momentum=0.1, affine=True, track_running_stats=True)\n",
       "        (conv3): Conv2d(64, 256, kernel_size=(1, 1), stride=(1, 1), bias=False)\n",
       "        (bn3): BatchNorm2d(256, eps=1e-05, momentum=0.1, affine=True, track_running_stats=True)\n",
       "        (relu): ReLU(inplace=True)\n",
       "      )\n",
       "      (2): Bottleneck(\n",
       "        (conv1): Conv2d(256, 64, kernel_size=(1, 1), stride=(1, 1), bias=False)\n",
       "        (bn1): BatchNorm2d(64, eps=1e-05, momentum=0.1, affine=True, track_running_stats=True)\n",
       "        (conv2): Conv2d(64, 64, kernel_size=(3, 3), stride=(1, 1), padding=(1, 1), bias=False)\n",
       "        (bn2): BatchNorm2d(64, eps=1e-05, momentum=0.1, affine=True, track_running_stats=True)\n",
       "        (conv3): Conv2d(64, 256, kernel_size=(1, 1), stride=(1, 1), bias=False)\n",
       "        (bn3): BatchNorm2d(256, eps=1e-05, momentum=0.1, affine=True, track_running_stats=True)\n",
       "        (relu): ReLU(inplace=True)\n",
       "      )\n",
       "    )\n",
       "    (layer2): Sequential(\n",
       "      (0): Bottleneck(\n",
       "        (conv1): Conv2d(256, 128, kernel_size=(1, 1), stride=(1, 1), bias=False)\n",
       "        (bn1): BatchNorm2d(128, eps=1e-05, momentum=0.1, affine=True, track_running_stats=True)\n",
       "        (conv2): Conv2d(128, 128, kernel_size=(3, 3), stride=(2, 2), padding=(1, 1), bias=False)\n",
       "        (bn2): BatchNorm2d(128, eps=1e-05, momentum=0.1, affine=True, track_running_stats=True)\n",
       "        (conv3): Conv2d(128, 512, kernel_size=(1, 1), stride=(1, 1), bias=False)\n",
       "        (bn3): BatchNorm2d(512, eps=1e-05, momentum=0.1, affine=True, track_running_stats=True)\n",
       "        (relu): ReLU(inplace=True)\n",
       "        (downsample): Sequential(\n",
       "          (0): Conv2d(256, 512, kernel_size=(1, 1), stride=(2, 2), bias=False)\n",
       "          (1): BatchNorm2d(512, eps=1e-05, momentum=0.1, affine=True, track_running_stats=True)\n",
       "        )\n",
       "      )\n",
       "      (1): Bottleneck(\n",
       "        (conv1): Conv2d(512, 128, kernel_size=(1, 1), stride=(1, 1), bias=False)\n",
       "        (bn1): BatchNorm2d(128, eps=1e-05, momentum=0.1, affine=True, track_running_stats=True)\n",
       "        (conv2): Conv2d(128, 128, kernel_size=(3, 3), stride=(1, 1), padding=(1, 1), bias=False)\n",
       "        (bn2): BatchNorm2d(128, eps=1e-05, momentum=0.1, affine=True, track_running_stats=True)\n",
       "        (conv3): Conv2d(128, 512, kernel_size=(1, 1), stride=(1, 1), bias=False)\n",
       "        (bn3): BatchNorm2d(512, eps=1e-05, momentum=0.1, affine=True, track_running_stats=True)\n",
       "        (relu): ReLU(inplace=True)\n",
       "      )\n",
       "      (2): Bottleneck(\n",
       "        (conv1): Conv2d(512, 128, kernel_size=(1, 1), stride=(1, 1), bias=False)\n",
       "        (bn1): BatchNorm2d(128, eps=1e-05, momentum=0.1, affine=True, track_running_stats=True)\n",
       "        (conv2): Conv2d(128, 128, kernel_size=(3, 3), stride=(1, 1), padding=(1, 1), bias=False)\n",
       "        (bn2): BatchNorm2d(128, eps=1e-05, momentum=0.1, affine=True, track_running_stats=True)\n",
       "        (conv3): Conv2d(128, 512, kernel_size=(1, 1), stride=(1, 1), bias=False)\n",
       "        (bn3): BatchNorm2d(512, eps=1e-05, momentum=0.1, affine=True, track_running_stats=True)\n",
       "        (relu): ReLU(inplace=True)\n",
       "      )\n",
       "      (3): Bottleneck(\n",
       "        (conv1): Conv2d(512, 128, kernel_size=(1, 1), stride=(1, 1), bias=False)\n",
       "        (bn1): BatchNorm2d(128, eps=1e-05, momentum=0.1, affine=True, track_running_stats=True)\n",
       "        (conv2): Conv2d(128, 128, kernel_size=(3, 3), stride=(1, 1), padding=(1, 1), bias=False)\n",
       "        (bn2): BatchNorm2d(128, eps=1e-05, momentum=0.1, affine=True, track_running_stats=True)\n",
       "        (conv3): Conv2d(128, 512, kernel_size=(1, 1), stride=(1, 1), bias=False)\n",
       "        (bn3): BatchNorm2d(512, eps=1e-05, momentum=0.1, affine=True, track_running_stats=True)\n",
       "        (relu): ReLU(inplace=True)\n",
       "      )\n",
       "    )\n",
       "    (layer3): Sequential(\n",
       "      (0): Bottleneck(\n",
       "        (conv1): Conv2d(512, 256, kernel_size=(1, 1), stride=(1, 1), bias=False)\n",
       "        (bn1): BatchNorm2d(256, eps=1e-05, momentum=0.1, affine=True, track_running_stats=True)\n",
       "        (conv2): Conv2d(256, 256, kernel_size=(3, 3), stride=(2, 2), padding=(1, 1), bias=False)\n",
       "        (bn2): BatchNorm2d(256, eps=1e-05, momentum=0.1, affine=True, track_running_stats=True)\n",
       "        (conv3): Conv2d(256, 1024, kernel_size=(1, 1), stride=(1, 1), bias=False)\n",
       "        (bn3): BatchNorm2d(1024, eps=1e-05, momentum=0.1, affine=True, track_running_stats=True)\n",
       "        (relu): ReLU(inplace=True)\n",
       "        (downsample): Sequential(\n",
       "          (0): Conv2d(512, 1024, kernel_size=(1, 1), stride=(2, 2), bias=False)\n",
       "          (1): BatchNorm2d(1024, eps=1e-05, momentum=0.1, affine=True, track_running_stats=True)\n",
       "        )\n",
       "      )\n",
       "      (1): Bottleneck(\n",
       "        (conv1): Conv2d(1024, 256, kernel_size=(1, 1), stride=(1, 1), bias=False)\n",
       "        (bn1): BatchNorm2d(256, eps=1e-05, momentum=0.1, affine=True, track_running_stats=True)\n",
       "        (conv2): Conv2d(256, 256, kernel_size=(3, 3), stride=(1, 1), padding=(1, 1), bias=False)\n",
       "        (bn2): BatchNorm2d(256, eps=1e-05, momentum=0.1, affine=True, track_running_stats=True)\n",
       "        (conv3): Conv2d(256, 1024, kernel_size=(1, 1), stride=(1, 1), bias=False)\n",
       "        (bn3): BatchNorm2d(1024, eps=1e-05, momentum=0.1, affine=True, track_running_stats=True)\n",
       "        (relu): ReLU(inplace=True)\n",
       "      )\n",
       "      (2): Bottleneck(\n",
       "        (conv1): Conv2d(1024, 256, kernel_size=(1, 1), stride=(1, 1), bias=False)\n",
       "        (bn1): BatchNorm2d(256, eps=1e-05, momentum=0.1, affine=True, track_running_stats=True)\n",
       "        (conv2): Conv2d(256, 256, kernel_size=(3, 3), stride=(1, 1), padding=(1, 1), bias=False)\n",
       "        (bn2): BatchNorm2d(256, eps=1e-05, momentum=0.1, affine=True, track_running_stats=True)\n",
       "        (conv3): Conv2d(256, 1024, kernel_size=(1, 1), stride=(1, 1), bias=False)\n",
       "        (bn3): BatchNorm2d(1024, eps=1e-05, momentum=0.1, affine=True, track_running_stats=True)\n",
       "        (relu): ReLU(inplace=True)\n",
       "      )\n",
       "      (3): Bottleneck(\n",
       "        (conv1): Conv2d(1024, 256, kernel_size=(1, 1), stride=(1, 1), bias=False)\n",
       "        (bn1): BatchNorm2d(256, eps=1e-05, momentum=0.1, affine=True, track_running_stats=True)\n",
       "        (conv2): Conv2d(256, 256, kernel_size=(3, 3), stride=(1, 1), padding=(1, 1), bias=False)\n",
       "        (bn2): BatchNorm2d(256, eps=1e-05, momentum=0.1, affine=True, track_running_stats=True)\n",
       "        (conv3): Conv2d(256, 1024, kernel_size=(1, 1), stride=(1, 1), bias=False)\n",
       "        (bn3): BatchNorm2d(1024, eps=1e-05, momentum=0.1, affine=True, track_running_stats=True)\n",
       "        (relu): ReLU(inplace=True)\n",
       "      )\n",
       "      (4): Bottleneck(\n",
       "        (conv1): Conv2d(1024, 256, kernel_size=(1, 1), stride=(1, 1), bias=False)\n",
       "        (bn1): BatchNorm2d(256, eps=1e-05, momentum=0.1, affine=True, track_running_stats=True)\n",
       "        (conv2): Conv2d(256, 256, kernel_size=(3, 3), stride=(1, 1), padding=(1, 1), bias=False)\n",
       "        (bn2): BatchNorm2d(256, eps=1e-05, momentum=0.1, affine=True, track_running_stats=True)\n",
       "        (conv3): Conv2d(256, 1024, kernel_size=(1, 1), stride=(1, 1), bias=False)\n",
       "        (bn3): BatchNorm2d(1024, eps=1e-05, momentum=0.1, affine=True, track_running_stats=True)\n",
       "        (relu): ReLU(inplace=True)\n",
       "      )\n",
       "      (5): Bottleneck(\n",
       "        (conv1): Conv2d(1024, 256, kernel_size=(1, 1), stride=(1, 1), bias=False)\n",
       "        (bn1): BatchNorm2d(256, eps=1e-05, momentum=0.1, affine=True, track_running_stats=True)\n",
       "        (conv2): Conv2d(256, 256, kernel_size=(3, 3), stride=(1, 1), padding=(1, 1), bias=False)\n",
       "        (bn2): BatchNorm2d(256, eps=1e-05, momentum=0.1, affine=True, track_running_stats=True)\n",
       "        (conv3): Conv2d(256, 1024, kernel_size=(1, 1), stride=(1, 1), bias=False)\n",
       "        (bn3): BatchNorm2d(1024, eps=1e-05, momentum=0.1, affine=True, track_running_stats=True)\n",
       "        (relu): ReLU(inplace=True)\n",
       "      )\n",
       "    )\n",
       "    (layer4): Sequential(\n",
       "      (0): Bottleneck(\n",
       "        (conv1): Conv2d(1024, 512, kernel_size=(1, 1), stride=(1, 1), bias=False)\n",
       "        (bn1): BatchNorm2d(512, eps=1e-05, momentum=0.1, affine=True, track_running_stats=True)\n",
       "        (conv2): Conv2d(512, 512, kernel_size=(3, 3), stride=(2, 2), padding=(1, 1), bias=False)\n",
       "        (bn2): BatchNorm2d(512, eps=1e-05, momentum=0.1, affine=True, track_running_stats=True)\n",
       "        (conv3): Conv2d(512, 2048, kernel_size=(1, 1), stride=(1, 1), bias=False)\n",
       "        (bn3): BatchNorm2d(2048, eps=1e-05, momentum=0.1, affine=True, track_running_stats=True)\n",
       "        (relu): ReLU(inplace=True)\n",
       "        (downsample): Sequential(\n",
       "          (0): Conv2d(1024, 2048, kernel_size=(1, 1), stride=(2, 2), bias=False)\n",
       "          (1): BatchNorm2d(2048, eps=1e-05, momentum=0.1, affine=True, track_running_stats=True)\n",
       "        )\n",
       "      )\n",
       "      (1): Bottleneck(\n",
       "        (conv1): Conv2d(2048, 512, kernel_size=(1, 1), stride=(1, 1), bias=False)\n",
       "        (bn1): BatchNorm2d(512, eps=1e-05, momentum=0.1, affine=True, track_running_stats=True)\n",
       "        (conv2): Conv2d(512, 512, kernel_size=(3, 3), stride=(1, 1), padding=(1, 1), bias=False)\n",
       "        (bn2): BatchNorm2d(512, eps=1e-05, momentum=0.1, affine=True, track_running_stats=True)\n",
       "        (conv3): Conv2d(512, 2048, kernel_size=(1, 1), stride=(1, 1), bias=False)\n",
       "        (bn3): BatchNorm2d(2048, eps=1e-05, momentum=0.1, affine=True, track_running_stats=True)\n",
       "        (relu): ReLU(inplace=True)\n",
       "      )\n",
       "      (2): Bottleneck(\n",
       "        (conv1): Conv2d(2048, 512, kernel_size=(1, 1), stride=(1, 1), bias=False)\n",
       "        (bn1): BatchNorm2d(512, eps=1e-05, momentum=0.1, affine=True, track_running_stats=True)\n",
       "        (conv2): Conv2d(512, 512, kernel_size=(3, 3), stride=(1, 1), padding=(1, 1), bias=False)\n",
       "        (bn2): BatchNorm2d(512, eps=1e-05, momentum=0.1, affine=True, track_running_stats=True)\n",
       "        (conv3): Conv2d(512, 2048, kernel_size=(1, 1), stride=(1, 1), bias=False)\n",
       "        (bn3): BatchNorm2d(2048, eps=1e-05, momentum=0.1, affine=True, track_running_stats=True)\n",
       "        (relu): ReLU(inplace=True)\n",
       "      )\n",
       "    )\n",
       "    (avgpool): AdaptiveAvgPool2d(output_size=(1, 1))\n",
       "    (fc): Linear(in_features=2048, out_features=2, bias=True)\n",
       "  )\n",
       "  (att_1): SelfAttention(\n",
       "    (to_query): Conv2d(512, 64, kernel_size=(1, 1), stride=(1, 1))\n",
       "    (to_key): Conv2d(512, 64, kernel_size=(1, 1), stride=(1, 1))\n",
       "    (to_value): Conv2d(512, 512, kernel_size=(1, 1), stride=(1, 1))\n",
       "    (softmax): Softmax(dim=-1)\n",
       "  )\n",
       "  (att_2): SelfAttention(\n",
       "    (to_query): Conv2d(1024, 128, kernel_size=(1, 1), stride=(1, 1))\n",
       "    (to_key): Conv2d(1024, 128, kernel_size=(1, 1), stride=(1, 1))\n",
       "    (to_value): Conv2d(1024, 1024, kernel_size=(1, 1), stride=(1, 1))\n",
       "    (softmax): Softmax(dim=-1)\n",
       "  )\n",
       "  (att_3): SelfAttention(\n",
       "    (to_query): Conv2d(2048, 256, kernel_size=(1, 1), stride=(1, 1))\n",
       "    (to_key): Conv2d(2048, 256, kernel_size=(1, 1), stride=(1, 1))\n",
       "    (to_value): Conv2d(2048, 2048, kernel_size=(1, 1), stride=(1, 1))\n",
       "    (softmax): Softmax(dim=-1)\n",
       "  )\n",
       "  (dropout): Dropout(p=0.2, inplace=False)\n",
       ")"
      ]
     },
     "execution_count": 20,
     "metadata": {},
     "output_type": "execute_result"
    }
   ],
   "source": [
    "model = AttentionResnet50(2)\n",
    "config = {\n",
    "        'num_epochs': 15,\n",
    "        'learning_rate': 1e-2,\n",
    "        'step':7,\n",
    "        'tags': \"AttentionV2SamplerFocalLossWithoutFormFitnessGamma1point5\"\n",
    "}\n",
    "\n",
    "optimizer = torch.optim.SGD(model.parameters(), lr=config['learning_rate'], momentum=0.9)\n",
    "train_model(model, config, dataloaders, dataset_sizes, optimizer)"
   ]
  },
  {
   "cell_type": "markdown",
   "id": "6af5adba",
   "metadata": {},
   "source": [
    "## HH Classifier"
   ]
  },
  {
   "cell_type": "code",
   "execution_count": 14,
   "id": "1e667c68",
   "metadata": {},
   "outputs": [],
   "source": [
    "np.random.seed(0)\n",
    "data_transforms = {\n",
    "            'train': transforms.Compose([\n",
    "                transforms.Resize((224, 224)),\n",
    "                transforms.RandomHorizontalFlip(),\n",
    "                ImageNetPolicy(),\n",
    "                transforms.ToTensor(),\n",
    "                transforms.Normalize([0.485, 0.456, 0.406], [0.229, 0.224, 0.225])\n",
    "            ]),\n",
    "            'val': transforms.Compose([\n",
    "                transforms.Resize((224, 224)),\n",
    "                transforms.ToTensor(),\n",
    "                transforms.Normalize([0.485, 0.456, 0.406], [0.229, 0.224, 0.225])\n",
    "            ]),\n",
    "        }\n",
    "\n",
    "dataset = datasets.ImageFolder('/home/reza_voxelsafety_com/experiments/ppe_classifaction/data/v2/hatdataset')\n",
    "class_names = dataset.classes\n",
    "num_train = len(dataset)\n",
    "indices = list(range(num_train))\n",
    "np.random.shuffle(indices)\n",
    "split = int(np.floor(0.2 * num_train))\n",
    "train_idx, valid_idx = indices[split:], indices[:split]\n",
    "train = torch.utils.data.Subset(dataset, train_idx)\n",
    "val = torch.utils.data.Subset(dataset, valid_idx)\n",
    "train = MapDataset(train, data_transforms['train'])\n",
    "val =  MapDataset(val, data_transforms['val'])\n",
    "dataloaders = {\n",
    "    'train': DataLoader(train, batch_size=1, shuffle=False, num_workers=8),\n",
    "    'val': DataLoader(val, batch_size=1, shuffle=False, num_workers=8),\n",
    "}"
   ]
  },
  {
   "cell_type": "code",
   "execution_count": 15,
   "id": "707b199e",
   "metadata": {},
   "outputs": [
    {
     "name": "stdout",
     "output_type": "stream",
     "text": [
      "{0: 'hat', 1: 'no_hat'}\n"
     ]
    },
    {
     "data": {
      "text/plain": [
       "Text(0.5, 1.0, 'Val')"
      ]
     },
     "execution_count": 15,
     "metadata": {},
     "output_type": "execute_result"
    },
    {
     "data": {
      "image/png": "[encoded data removed]",
      "text/plain": [
       "<Figure size 1080x216 with 3 Axes>"
      ]
     },
     "metadata": {
      "needs_background": "light"
     },
     "output_type": "display_data"
    }
   ],
   "source": [
    "dataset.class_to_idx\n",
    "idx2class = {v: k for k, v in dataset.class_to_idx.items()}\n",
    "print(idx2class)\n",
    "class_count =  get_class_distribution(dataset)\n",
    "val_count = get_class_distribution_loaders(dataloaders['val'], dataset)\n",
    "train_count = get_class_distribution_loaders(dataloaders['train'], dataset)\n",
    "f = plt.figure(figsize=(15,3))\n",
    "ax0 = f.add_subplot(131)\n",
    "ax1 = f.add_subplot(132)\n",
    "ax2 = f.add_subplot(133)\n",
    "ax0.bar(class_count.keys(), class_count.values(), width = 0.2, color=['purple', 'yellow'])\n",
    "ax0.set_title(\"All\")\n",
    "ax1.bar(train_count.keys(), train_count.values(), width = 0.2, color=['purple', 'yellow'])\n",
    "ax1.set_title(\"Train\")\n",
    "ax2.bar(val_count.keys(), val_count.values(), width = 0.2, color=['purple', 'yellow'])\n",
    "ax2.set_title(\"Val\")"
   ]
  },
  {
   "cell_type": "code",
   "execution_count": 16,
   "id": "afb6df1c",
   "metadata": {},
   "outputs": [
    {
     "name": "stdout",
     "output_type": "stream",
     "text": [
      "tensor([4.4837e-05, 1.3768e-04])\n",
      "29566\n"
     ]
    },
    {
     "data": {
      "image/png": "[encoded data removed]",
      "text/plain": [
       "<Figure size 432x288 with 1 Axes>"
      ]
     },
     "metadata": {
      "needs_background": "light"
     },
     "output_type": "display_data"
    }
   ],
   "source": [
    "target_list_train = torch.tensor(get_class_target_list_loaders(dataloaders['train'], dataset))\n",
    "class_count_train = [i for i in get_class_distribution_loaders(dataloaders['train'], dataset).values()]\n",
    "class_weights_train = 1./torch.tensor(class_count_train, dtype=torch.float) \n",
    "print(class_weights_train)\n",
    "class_weights_train_all = class_weights_train[target_list_train]\n",
    "print(len(class_weights_train_all))\n",
    "weighted_sampler_train = WeightedRandomSampler(\n",
    "    weights=class_weights_train_all,\n",
    "    num_samples=len(class_weights_train_all),\n",
    "    replacement=True\n",
    ")\n",
    "batch_size = 128\n",
    "dataloaders = {\n",
    "    'train': DataLoader(train, batch_size=batch_size, num_workers=8, sampler=weighted_sampler_train),\n",
    "    'val': DataLoader(val, batch_size=batch_size, num_workers=8),\n",
    "}\n",
    "inputs, classes = next(iter(dataloaders['train']))\n",
    "out = torchvision.utils.make_grid(inputs[0:16])\n",
    "imshow(out, title=[class_names[x] for x in classes[0:16]])"
   ]
  },
  {
   "cell_type": "code",
   "execution_count": 17,
   "id": "246fca63",
   "metadata": {},
   "outputs": [
    {
     "data": {
      "text/plain": [
       "{'train': 29566, 'val': 7391}"
      ]
     },
     "execution_count": 17,
     "metadata": {},
     "output_type": "execute_result"
    }
   ],
   "source": [
    "dataset_sizes = {}\n",
    "dataset_sizes['train'] = len(train)\n",
    "dataset_sizes['val'] = len(val)\n",
    "dataset_sizes"
   ]
  },
  {
   "cell_type": "code",
   "execution_count": 18,
   "id": "2e3233e4",
   "metadata": {},
   "outputs": [
    {
     "name": "stderr",
     "output_type": "stream",
     "text": [
      "\u001b[34m\u001b[1mwandb\u001b[0m: Currently logged in as: \u001b[33mvoxel-wandb\u001b[0m (use `wandb login --relogin` to force relogin)\n",
      "\u001b[34m\u001b[1mwandb\u001b[0m: wandb version 0.12.11 is available!  To upgrade, please run:\n",
      "\u001b[34m\u001b[1mwandb\u001b[0m:  $ pip install wandb --upgrade\n"
     ]
    },
    {
     "data": {
      "text/html": [
       "\n",
       "                    Syncing run <strong><a href=\"https://wandb.ai/voxel-wandb/attention_ppe_classification/runs/2vohfxeh\" target=\"_blank\">brisk-bird-35</a></strong> to <a href=\"https://wandb.ai/voxel-wandb/attention_ppe_classification\" target=\"_blank\">Weights & Biases</a> (<a href=\"https://docs.wandb.com/integrations/jupyter.html\" target=\"_blank\">docs</a>).<br/>\n",
       "\n",
       "                "
      ],
      "text/plain": [
       "<IPython.core.display.HTML object>"
      ]
     },
     "metadata": {},
     "output_type": "display_data"
    },
    {
     "name": "stdout",
     "output_type": "stream",
     "text": [
      "Epoch 0/14\n",
      "----------\n"
     ]
    },
    {
     "name": "stderr",
     "output_type": "stream",
     "text": [
      "/home/reza_voxelsafety_com/.cache/bazel/_bazel_reza_voxelsafety_com/d620f0b6d4b41da06538aa48e57dfab6/execroot/voxel/bazel-out/k8-fastbuild/bin/third_party/jupyter/jupyter.runfiles/pip_deps_torch/torch/nn/functional.py:718: UserWarning: Named tensors and all their associated APIs are an experimental feature and subject to change. Please do not use them for anything important until they are released as stable. (Triggered internally at  /pytorch/c10/core/TensorImpl.h:1156.)\n",
      "  return torch.max_pool2d(input, kernel_size, stride, padding, dilation, ceil_mode)\n"
     ]
    },
    {
     "name": "stdout",
     "output_type": "stream",
     "text": [
      "train loss 0.005487439661299812\n",
      "train Loss: 0.0055 Acc: 0.9724 Precision: 0.9793 Recall: 0.9654 F1: 0.9723\n",
      "val loss 0.0023485152346340724\n",
      "val_f1 tensor(0.9811, device='cuda:0')\n",
      "val Loss: 0.0023 Acc: 0.9907 Precision: 0.9776 Recall: 0.9846 F1: 0.9811\n",
      "Epoch 1/14\n",
      "----------\n",
      "train loss 0.002911824761549803\n",
      "train Loss: 0.0029 Acc: 0.9882 Precision: 0.9898 Recall: 0.9865 F1: 0.9882\n",
      "val loss 0.0022622573178033697\n",
      "val_f1 tensor(0.9858, device='cuda:0')\n",
      "val Loss: 0.0023 Acc: 0.9930 Precision: 0.9794 Recall: 0.9923 F1: 0.9858\n",
      "Epoch 2/14\n",
      "----------\n",
      "train loss 0.0029505082195732312\n",
      "train Loss: 0.0030 Acc: 0.9886 Precision: 0.9894 Recall: 0.9879 F1: 0.9887\n",
      "val loss 0.0023788242537413355\n",
      "val_f1 tensor(0.9847, device='cuda:0')\n",
      "val Loss: 0.0024 Acc: 0.9924 Precision: 0.9773 Recall: 0.9923 F1: 0.9847\n",
      "Epoch 3/14\n",
      "----------\n",
      "train loss 0.002442280257775042\n",
      "train Loss: 0.0024 Acc: 0.9908 Precision: 0.9925 Recall: 0.9892 F1: 0.9908\n",
      "val loss 0.002304098028346882\n",
      "val_f1 tensor(0.9850, device='cuda:0')\n",
      "val Loss: 0.0023 Acc: 0.9926 Precision: 0.9783 Recall: 0.9918 F1: 0.9850\n",
      "Epoch 4/14\n",
      "----------\n",
      "train loss 0.002523431747042105\n",
      "train Loss: 0.0025 Acc: 0.9910 Precision: 0.9917 Recall: 0.9903 F1: 0.9910\n",
      "val loss 0.0020400328243053273\n",
      "val_f1 tensor(0.9863, device='cuda:0')\n",
      "val Loss: 0.0020 Acc: 0.9932 Precision: 0.9815 Recall: 0.9912 F1: 0.9863\n",
      "Epoch 5/14\n",
      "----------\n",
      "train loss 0.0023737406511652767\n",
      "train Loss: 0.0024 Acc: 0.9911 Precision: 0.9915 Recall: 0.9907 F1: 0.9911\n",
      "val loss 0.002345588577983334\n",
      "val_f1 tensor(0.9847, device='cuda:0')\n",
      "val Loss: 0.0023 Acc: 0.9924 Precision: 0.9762 Recall: 0.9934 F1: 0.9847\n",
      "Epoch 6/14\n",
      "----------\n",
      "train loss 0.002409792303495819\n",
      "train Loss: 0.0024 Acc: 0.9914 Precision: 0.9915 Recall: 0.9915 F1: 0.9915\n",
      "val loss 0.001704445437793061\n",
      "val_f1 tensor(0.9876, device='cuda:0')\n",
      "val Loss: 0.0017 Acc: 0.9939 Precision: 0.9874 Recall: 0.9879 F1: 0.9876\n",
      "Epoch 7/14\n",
      "----------\n",
      "train loss 0.002193789350689526\n",
      "train Loss: 0.0022 Acc: 0.9916 Precision: 0.9917 Recall: 0.9912 F1: 0.9914\n",
      "val loss 0.001954348992709811\n",
      "val_f1 tensor(0.9863, device='cuda:0')\n",
      "val Loss: 0.0020 Acc: 0.9932 Precision: 0.9805 Recall: 0.9923 F1: 0.9863\n",
      "Epoch 8/14\n",
      "----------\n",
      "train loss 0.0022635666468153437\n",
      "train Loss: 0.0023 Acc: 0.9914 Precision: 0.9919 Recall: 0.9911 F1: 0.9915\n",
      "val loss 0.0019467589226473858\n",
      "val_f1 tensor(0.9864, device='cuda:0')\n",
      "val Loss: 0.0019 Acc: 0.9932 Precision: 0.9799 Recall: 0.9929 F1: 0.9864\n",
      "Epoch 9/14\n",
      "----------\n",
      "train loss 0.0024608646675154063\n",
      "train Loss: 0.0025 Acc: 0.9908 Precision: 0.9919 Recall: 0.9898 F1: 0.9909\n",
      "val loss 0.0019885221305606326\n",
      "val_f1 tensor(0.9861, device='cuda:0')\n",
      "val Loss: 0.0020 Acc: 0.9931 Precision: 0.9799 Recall: 0.9923 F1: 0.9861\n",
      "Epoch 10/14\n",
      "----------\n",
      "train loss 0.002232562196268376\n",
      "train Loss: 0.0022 Acc: 0.9915 Precision: 0.9915 Recall: 0.9916 F1: 0.9915\n",
      "val loss 0.0019255545784117854\n",
      "val_f1 tensor(0.9858, device='cuda:0')\n",
      "val Loss: 0.0019 Acc: 0.9930 Precision: 0.9799 Recall: 0.9918 F1: 0.9858\n",
      "Epoch 11/14\n",
      "----------\n",
      "train loss 0.0021918402474922242\n",
      "train Loss: 0.0022 Acc: 0.9914 Precision: 0.9923 Recall: 0.9904 F1: 0.9914\n",
      "val loss 0.002029827417348509\n",
      "val_f1 tensor(0.9855, device='cuda:0')\n",
      "val Loss: 0.0020 Acc: 0.9928 Precision: 0.9789 Recall: 0.9923 F1: 0.9855\n",
      "Epoch 12/14\n",
      "----------\n",
      "train loss 0.0023780429235500215\n",
      "train Loss: 0.0024 Acc: 0.9913 Precision: 0.9918 Recall: 0.9908 F1: 0.9913\n",
      "val loss 0.0019179707205267287\n",
      "val_f1 tensor(0.9858, device='cuda:0')\n",
      "val Loss: 0.0019 Acc: 0.9930 Precision: 0.9799 Recall: 0.9918 F1: 0.9858\n",
      "Epoch 13/14\n",
      "----------\n",
      "train loss 0.002192141746555683\n",
      "train Loss: 0.0022 Acc: 0.9916 Precision: 0.9919 Recall: 0.9914 F1: 0.9917\n",
      "val loss 0.0019371054165378797\n",
      "val_f1 tensor(0.9861, device='cuda:0')\n",
      "val Loss: 0.0019 Acc: 0.9931 Precision: 0.9799 Recall: 0.9923 F1: 0.9861\n",
      "Epoch 14/14\n",
      "----------\n",
      "train loss 0.002173343136497631\n",
      "train Loss: 0.0022 Acc: 0.9911 Precision: 0.9918 Recall: 0.9903 F1: 0.9910\n",
      "val loss 0.0018812032200233764\n",
      "val_f1 tensor(0.9869, device='cuda:0')\n",
      "val Loss: 0.0019 Acc: 0.9935 Precision: 0.9820 Recall: 0.9918 F1: 0.9869\n",
      "Training complete in 30m 36s\n",
      "Best val Acc: 0.987641\n"
     ]
    },
    {
     "data": {
      "text/html": [
       "<br/>Waiting for W&B process to finish, PID 27280... <strong style=\"color:green\">(success).</strong>"
      ],
      "text/plain": [
       "<IPython.core.display.HTML object>"
      ]
     },
     "metadata": {},
     "output_type": "display_data"
    },
    {
     "data": {
      "application/vnd.jupyter.widget-view+json": {
       "model_id": "cfd470f113934a0ab5e3bc737cc51ad1",
       "version_major": 2,
       "version_minor": 0
      },
      "text/plain": [
       "VBox(children=(Label(value=' 0.35MB of 0.35MB uploaded (0.00MB deduped)\\r'), FloatProgress(value=1.0, max=1.0)…"
      ]
     },
     "metadata": {},
     "output_type": "display_data"
    },
    {
     "data": {
      "text/html": [
       "<style>\n",
       "    table.wandb td:nth-child(1) { padding: 0 10px; text-align: right }\n",
       "    .wandb-row { display: flex; flex-direction: row; flex-wrap: wrap; width: 100% }\n",
       "    .wandb-col { display: flex; flex-direction: column; flex-basis: 100%; flex: 1; padding: 10px; }\n",
       "    </style>\n",
       "<div class=\"wandb-row\"><div class=\"wandb-col\">\n",
       "<h3>Run history:</h3><br/><table class=\"wandb\"><tr><td>train loss</td><td>█▃▃▂▂▁▁▁▁▂▁▁▁▁▁</td></tr><tr><td>val loss</td><td>█▇█▇▄█▁▄▄▄▃▄▃▃▃</td></tr><tr><td>val_f1</td><td>▁▆▅▅▇▅█▇▇▆▆▆▆▆▇</td></tr></table><br/></div><div class=\"wandb-col\">\n",
       "<h3>Run summary:</h3><br/><table class=\"wandb\"><tr><td>train loss</td><td>0.00217</td></tr><tr><td>val loss</td><td>0.00188</td></tr><tr><td>val_f1</td><td>0.98688</td></tr></table>\n",
       "</div></div>\n",
       "Synced 6 W&B file(s), 0 media file(s), 0 artifact file(s) and 2 other file(s)\n",
       "<br/>Synced <strong style=\"color:#cdcd00\">brisk-bird-35</strong>: <a href=\"https://wandb.ai/voxel-wandb/attention_ppe_classification/runs/2vohfxeh\" target=\"_blank\">https://wandb.ai/voxel-wandb/attention_ppe_classification/runs/2vohfxeh</a><br/>\n",
       "Find logs at: <code>./wandb/run-20220302_072543-2vohfxeh/logs</code><br/>\n"
      ],
      "text/plain": [
       "<IPython.core.display.HTML object>"
      ]
     },
     "metadata": {},
     "output_type": "display_data"
    },
    {
     "data": {
      "text/plain": [
       "ResNet(\n",
       "  (conv1): Conv2d(3, 64, kernel_size=(7, 7), stride=(2, 2), padding=(3, 3), bias=False)\n",
       "  (bn1): BatchNorm2d(64, eps=1e-05, momentum=0.1, affine=True, track_running_stats=True)\n",
       "  (relu): ReLU(inplace=True)\n",
       "  (maxpool): MaxPool2d(kernel_size=3, stride=2, padding=1, dilation=1, ceil_mode=False)\n",
       "  (layer1): Sequential(\n",
       "    (0): Bottleneck(\n",
       "      (conv1): Conv2d(64, 64, kernel_size=(1, 1), stride=(1, 1), bias=False)\n",
       "      (bn1): BatchNorm2d(64, eps=1e-05, momentum=0.1, affine=True, track_running_stats=True)\n",
       "      (conv2): Conv2d(64, 64, kernel_size=(3, 3), stride=(1, 1), padding=(1, 1), bias=False)\n",
       "      (bn2): BatchNorm2d(64, eps=1e-05, momentum=0.1, affine=True, track_running_stats=True)\n",
       "      (conv3): Conv2d(64, 256, kernel_size=(1, 1), stride=(1, 1), bias=False)\n",
       "      (bn3): BatchNorm2d(256, eps=1e-05, momentum=0.1, affine=True, track_running_stats=True)\n",
       "      (relu): ReLU(inplace=True)\n",
       "      (downsample): Sequential(\n",
       "        (0): Conv2d(64, 256, kernel_size=(1, 1), stride=(1, 1), bias=False)\n",
       "        (1): BatchNorm2d(256, eps=1e-05, momentum=0.1, affine=True, track_running_stats=True)\n",
       "      )\n",
       "    )\n",
       "    (1): Bottleneck(\n",
       "      (conv1): Conv2d(256, 64, kernel_size=(1, 1), stride=(1, 1), bias=False)\n",
       "      (bn1): BatchNorm2d(64, eps=1e-05, momentum=0.1, affine=True, track_running_stats=True)\n",
       "      (conv2): Conv2d(64, 64, kernel_size=(3, 3), stride=(1, 1), padding=(1, 1), bias=False)\n",
       "      (bn2): BatchNorm2d(64, eps=1e-05, momentum=0.1, affine=True, track_running_stats=True)\n",
       "      (conv3): Conv2d(64, 256, kernel_size=(1, 1), stride=(1, 1), bias=False)\n",
       "      (bn3): BatchNorm2d(256, eps=1e-05, momentum=0.1, affine=True, track_running_stats=True)\n",
       "      (relu): ReLU(inplace=True)\n",
       "    )\n",
       "    (2): Bottleneck(\n",
       "      (conv1): Conv2d(256, 64, kernel_size=(1, 1), stride=(1, 1), bias=False)\n",
       "      (bn1): BatchNorm2d(64, eps=1e-05, momentum=0.1, affine=True, track_running_stats=True)\n",
       "      (conv2): Conv2d(64, 64, kernel_size=(3, 3), stride=(1, 1), padding=(1, 1), bias=False)\n",
       "      (bn2): BatchNorm2d(64, eps=1e-05, momentum=0.1, affine=True, track_running_stats=True)\n",
       "      (conv3): Conv2d(64, 256, kernel_size=(1, 1), stride=(1, 1), bias=False)\n",
       "      (bn3): BatchNorm2d(256, eps=1e-05, momentum=0.1, affine=True, track_running_stats=True)\n",
       "      (relu): ReLU(inplace=True)\n",
       "    )\n",
       "  )\n",
       "  (layer2): Sequential(\n",
       "    (0): Bottleneck(\n",
       "      (conv1): Conv2d(256, 128, kernel_size=(1, 1), stride=(1, 1), bias=False)\n",
       "      (bn1): BatchNorm2d(128, eps=1e-05, momentum=0.1, affine=True, track_running_stats=True)\n",
       "      (conv2): Conv2d(128, 128, kernel_size=(3, 3), stride=(2, 2), padding=(1, 1), bias=False)\n",
       "      (bn2): BatchNorm2d(128, eps=1e-05, momentum=0.1, affine=True, track_running_stats=True)\n",
       "      (conv3): Conv2d(128, 512, kernel_size=(1, 1), stride=(1, 1), bias=False)\n",
       "      (bn3): BatchNorm2d(512, eps=1e-05, momentum=0.1, affine=True, track_running_stats=True)\n",
       "      (relu): ReLU(inplace=True)\n",
       "      (downsample): Sequential(\n",
       "        (0): Conv2d(256, 512, kernel_size=(1, 1), stride=(2, 2), bias=False)\n",
       "        (1): BatchNorm2d(512, eps=1e-05, momentum=0.1, affine=True, track_running_stats=True)\n",
       "      )\n",
       "    )\n",
       "    (1): Bottleneck(\n",
       "      (conv1): Conv2d(512, 128, kernel_size=(1, 1), stride=(1, 1), bias=False)\n",
       "      (bn1): BatchNorm2d(128, eps=1e-05, momentum=0.1, affine=True, track_running_stats=True)\n",
       "      (conv2): Conv2d(128, 128, kernel_size=(3, 3), stride=(1, 1), padding=(1, 1), bias=False)\n",
       "      (bn2): BatchNorm2d(128, eps=1e-05, momentum=0.1, affine=True, track_running_stats=True)\n",
       "      (conv3): Conv2d(128, 512, kernel_size=(1, 1), stride=(1, 1), bias=False)\n",
       "      (bn3): BatchNorm2d(512, eps=1e-05, momentum=0.1, affine=True, track_running_stats=True)\n",
       "      (relu): ReLU(inplace=True)\n",
       "    )\n",
       "    (2): Bottleneck(\n",
       "      (conv1): Conv2d(512, 128, kernel_size=(1, 1), stride=(1, 1), bias=False)\n",
       "      (bn1): BatchNorm2d(128, eps=1e-05, momentum=0.1, affine=True, track_running_stats=True)\n",
       "      (conv2): Conv2d(128, 128, kernel_size=(3, 3), stride=(1, 1), padding=(1, 1), bias=False)\n",
       "      (bn2): BatchNorm2d(128, eps=1e-05, momentum=0.1, affine=True, track_running_stats=True)\n",
       "      (conv3): Conv2d(128, 512, kernel_size=(1, 1), stride=(1, 1), bias=False)\n",
       "      (bn3): BatchNorm2d(512, eps=1e-05, momentum=0.1, affine=True, track_running_stats=True)\n",
       "      (relu): ReLU(inplace=True)\n",
       "    )\n",
       "    (3): Bottleneck(\n",
       "      (conv1): Conv2d(512, 128, kernel_size=(1, 1), stride=(1, 1), bias=False)\n",
       "      (bn1): BatchNorm2d(128, eps=1e-05, momentum=0.1, affine=True, track_running_stats=True)\n",
       "      (conv2): Conv2d(128, 128, kernel_size=(3, 3), stride=(1, 1), padding=(1, 1), bias=False)\n",
       "      (bn2): BatchNorm2d(128, eps=1e-05, momentum=0.1, affine=True, track_running_stats=True)\n",
       "      (conv3): Conv2d(128, 512, kernel_size=(1, 1), stride=(1, 1), bias=False)\n",
       "      (bn3): BatchNorm2d(512, eps=1e-05, momentum=0.1, affine=True, track_running_stats=True)\n",
       "      (relu): ReLU(inplace=True)\n",
       "    )\n",
       "  )\n",
       "  (layer3): Sequential(\n",
       "    (0): Bottleneck(\n",
       "      (conv1): Conv2d(512, 256, kernel_size=(1, 1), stride=(1, 1), bias=False)\n",
       "      (bn1): BatchNorm2d(256, eps=1e-05, momentum=0.1, affine=True, track_running_stats=True)\n",
       "      (conv2): Conv2d(256, 256, kernel_size=(3, 3), stride=(2, 2), padding=(1, 1), bias=False)\n",
       "      (bn2): BatchNorm2d(256, eps=1e-05, momentum=0.1, affine=True, track_running_stats=True)\n",
       "      (conv3): Conv2d(256, 1024, kernel_size=(1, 1), stride=(1, 1), bias=False)\n",
       "      (bn3): BatchNorm2d(1024, eps=1e-05, momentum=0.1, affine=True, track_running_stats=True)\n",
       "      (relu): ReLU(inplace=True)\n",
       "      (downsample): Sequential(\n",
       "        (0): Conv2d(512, 1024, kernel_size=(1, 1), stride=(2, 2), bias=False)\n",
       "        (1): BatchNorm2d(1024, eps=1e-05, momentum=0.1, affine=True, track_running_stats=True)\n",
       "      )\n",
       "    )\n",
       "    (1): Bottleneck(\n",
       "      (conv1): Conv2d(1024, 256, kernel_size=(1, 1), stride=(1, 1), bias=False)\n",
       "      (bn1): BatchNorm2d(256, eps=1e-05, momentum=0.1, affine=True, track_running_stats=True)\n",
       "      (conv2): Conv2d(256, 256, kernel_size=(3, 3), stride=(1, 1), padding=(1, 1), bias=False)\n",
       "      (bn2): BatchNorm2d(256, eps=1e-05, momentum=0.1, affine=True, track_running_stats=True)\n",
       "      (conv3): Conv2d(256, 1024, kernel_size=(1, 1), stride=(1, 1), bias=False)\n",
       "      (bn3): BatchNorm2d(1024, eps=1e-05, momentum=0.1, affine=True, track_running_stats=True)\n",
       "      (relu): ReLU(inplace=True)\n",
       "    )\n",
       "    (2): Bottleneck(\n",
       "      (conv1): Conv2d(1024, 256, kernel_size=(1, 1), stride=(1, 1), bias=False)\n",
       "      (bn1): BatchNorm2d(256, eps=1e-05, momentum=0.1, affine=True, track_running_stats=True)\n",
       "      (conv2): Conv2d(256, 256, kernel_size=(3, 3), stride=(1, 1), padding=(1, 1), bias=False)\n",
       "      (bn2): BatchNorm2d(256, eps=1e-05, momentum=0.1, affine=True, track_running_stats=True)\n",
       "      (conv3): Conv2d(256, 1024, kernel_size=(1, 1), stride=(1, 1), bias=False)\n",
       "      (bn3): BatchNorm2d(1024, eps=1e-05, momentum=0.1, affine=True, track_running_stats=True)\n",
       "      (relu): ReLU(inplace=True)\n",
       "    )\n",
       "    (3): Bottleneck(\n",
       "      (conv1): Conv2d(1024, 256, kernel_size=(1, 1), stride=(1, 1), bias=False)\n",
       "      (bn1): BatchNorm2d(256, eps=1e-05, momentum=0.1, affine=True, track_running_stats=True)\n",
       "      (conv2): Conv2d(256, 256, kernel_size=(3, 3), stride=(1, 1), padding=(1, 1), bias=False)\n",
       "      (bn2): BatchNorm2d(256, eps=1e-05, momentum=0.1, affine=True, track_running_stats=True)\n",
       "      (conv3): Conv2d(256, 1024, kernel_size=(1, 1), stride=(1, 1), bias=False)\n",
       "      (bn3): BatchNorm2d(1024, eps=1e-05, momentum=0.1, affine=True, track_running_stats=True)\n",
       "      (relu): ReLU(inplace=True)\n",
       "    )\n",
       "    (4): Bottleneck(\n",
       "      (conv1): Conv2d(1024, 256, kernel_size=(1, 1), stride=(1, 1), bias=False)\n",
       "      (bn1): BatchNorm2d(256, eps=1e-05, momentum=0.1, affine=True, track_running_stats=True)\n",
       "      (conv2): Conv2d(256, 256, kernel_size=(3, 3), stride=(1, 1), padding=(1, 1), bias=False)\n",
       "      (bn2): BatchNorm2d(256, eps=1e-05, momentum=0.1, affine=True, track_running_stats=True)\n",
       "      (conv3): Conv2d(256, 1024, kernel_size=(1, 1), stride=(1, 1), bias=False)\n",
       "      (bn3): BatchNorm2d(1024, eps=1e-05, momentum=0.1, affine=True, track_running_stats=True)\n",
       "      (relu): ReLU(inplace=True)\n",
       "    )\n",
       "    (5): Bottleneck(\n",
       "      (conv1): Conv2d(1024, 256, kernel_size=(1, 1), stride=(1, 1), bias=False)\n",
       "      (bn1): BatchNorm2d(256, eps=1e-05, momentum=0.1, affine=True, track_running_stats=True)\n",
       "      (conv2): Conv2d(256, 256, kernel_size=(3, 3), stride=(1, 1), padding=(1, 1), bias=False)\n",
       "      (bn2): BatchNorm2d(256, eps=1e-05, momentum=0.1, affine=True, track_running_stats=True)\n",
       "      (conv3): Conv2d(256, 1024, kernel_size=(1, 1), stride=(1, 1), bias=False)\n",
       "      (bn3): BatchNorm2d(1024, eps=1e-05, momentum=0.1, affine=True, track_running_stats=True)\n",
       "      (relu): ReLU(inplace=True)\n",
       "    )\n",
       "  )\n",
       "  (layer4): Sequential(\n",
       "    (0): Bottleneck(\n",
       "      (conv1): Conv2d(1024, 512, kernel_size=(1, 1), stride=(1, 1), bias=False)\n",
       "      (bn1): BatchNorm2d(512, eps=1e-05, momentum=0.1, affine=True, track_running_stats=True)\n",
       "      (conv2): Conv2d(512, 512, kernel_size=(3, 3), stride=(2, 2), padding=(1, 1), bias=False)\n",
       "      (bn2): BatchNorm2d(512, eps=1e-05, momentum=0.1, affine=True, track_running_stats=True)\n",
       "      (conv3): Conv2d(512, 2048, kernel_size=(1, 1), stride=(1, 1), bias=False)\n",
       "      (bn3): BatchNorm2d(2048, eps=1e-05, momentum=0.1, affine=True, track_running_stats=True)\n",
       "      (relu): ReLU(inplace=True)\n",
       "      (downsample): Sequential(\n",
       "        (0): Conv2d(1024, 2048, kernel_size=(1, 1), stride=(2, 2), bias=False)\n",
       "        (1): BatchNorm2d(2048, eps=1e-05, momentum=0.1, affine=True, track_running_stats=True)\n",
       "      )\n",
       "    )\n",
       "    (1): Bottleneck(\n",
       "      (conv1): Conv2d(2048, 512, kernel_size=(1, 1), stride=(1, 1), bias=False)\n",
       "      (bn1): BatchNorm2d(512, eps=1e-05, momentum=0.1, affine=True, track_running_stats=True)\n",
       "      (conv2): Conv2d(512, 512, kernel_size=(3, 3), stride=(1, 1), padding=(1, 1), bias=False)\n",
       "      (bn2): BatchNorm2d(512, eps=1e-05, momentum=0.1, affine=True, track_running_stats=True)\n",
       "      (conv3): Conv2d(512, 2048, kernel_size=(1, 1), stride=(1, 1), bias=False)\n",
       "      (bn3): BatchNorm2d(2048, eps=1e-05, momentum=0.1, affine=True, track_running_stats=True)\n",
       "      (relu): ReLU(inplace=True)\n",
       "    )\n",
       "    (2): Bottleneck(\n",
       "      (conv1): Conv2d(2048, 512, kernel_size=(1, 1), stride=(1, 1), bias=False)\n",
       "      (bn1): BatchNorm2d(512, eps=1e-05, momentum=0.1, affine=True, track_running_stats=True)\n",
       "      (conv2): Conv2d(512, 512, kernel_size=(3, 3), stride=(1, 1), padding=(1, 1), bias=False)\n",
       "      (bn2): BatchNorm2d(512, eps=1e-05, momentum=0.1, affine=True, track_running_stats=True)\n",
       "      (conv3): Conv2d(512, 2048, kernel_size=(1, 1), stride=(1, 1), bias=False)\n",
       "      (bn3): BatchNorm2d(2048, eps=1e-05, momentum=0.1, affine=True, track_running_stats=True)\n",
       "      (relu): ReLU(inplace=True)\n",
       "    )\n",
       "  )\n",
       "  (avgpool): AdaptiveAvgPool2d(output_size=(1, 1))\n",
       "  (fc): Linear(in_features=2048, out_features=2, bias=True)\n",
       ")"
      ]
     },
     "execution_count": 18,
     "metadata": {},
     "output_type": "execute_result"
    }
   ],
   "source": [
    "#model = AttentionResnet50(2)\n",
    "\n",
    "model = torchvision.models.resnet50(pretrained=True)\n",
    "\n",
    "for param in model.parameters():\n",
    "    param.requires_grad = False\n",
    "\n",
    "# Parameters of newly constructed modules have requires_grad=True by default\n",
    "num_ftrs = model.fc.in_features\n",
    "model.fc = nn.Linear(num_ftrs, 2)\n",
    "config = {\n",
    "        'num_epochs': 15,\n",
    "        'learning_rate': 1e-2,\n",
    "        'step':7,\n",
    "        'tags': \"HHVanilaV2SamplerFLGamma2\"\n",
    "}\n",
    "\n",
    "optimizer = torch.optim.SGD(model.fc.parameters(), lr=config['learning_rate'], momentum=0.9)\n",
    "train_model(model, config, dataloaders, dataset_sizes, optimizer)"
   ]
  },
  {
   "cell_type": "code",
   "execution_count": 21,
   "id": "636244ce",
   "metadata": {},
   "outputs": [
    {
     "name": "stdout",
     "output_type": "stream",
     "text": [
      "0.1.25\n"
     ]
    },
    {
     "ename": "AttributeError",
     "evalue": "'Slice' object has no attribute 'export_raw_items'",
     "output_type": "error",
     "traceback": [
      "\u001b[0;31m---------------------------------------------------------------------------\u001b[0m",
      "\u001b[0;31mAttributeError\u001b[0m                            Traceback (most recent call last)",
      "\u001b[0;32m/tmp/ipykernel_10151/4095980854.py\u001b[0m in \u001b[0;36m<module>\u001b[0;34m\u001b[0m\n\u001b[1;32m     59\u001b[0m \u001b[0;34m\u001b[0m\u001b[0m\n\u001b[1;32m     60\u001b[0m \u001b[0;31m# Download\u001b[0m\u001b[0;34m\u001b[0m\u001b[0;34m\u001b[0m\u001b[0;34m\u001b[0m\u001b[0m\n\u001b[0;32m---> 61\u001b[0;31m \u001b[0mresults\u001b[0m \u001b[0;34m=\u001b[0m \u001b[0mdata_slice\u001b[0m\u001b[0;34m.\u001b[0m\u001b[0mexport_raw_items\u001b[0m\u001b[0;34m(\u001b[0m\u001b[0;34m)\u001b[0m\u001b[0;34m\u001b[0m\u001b[0;34m\u001b[0m\u001b[0m\n\u001b[0m\u001b[1;32m     62\u001b[0m \u001b[0;34m\u001b[0m\u001b[0m\n\u001b[1;32m     63\u001b[0m \u001b[0;32mfor\u001b[0m \u001b[0mresult\u001b[0m \u001b[0;32min\u001b[0m \u001b[0mresults\u001b[0m\u001b[0;34m[\u001b[0m\u001b[0;34m'raw_dataset_items'\u001b[0m\u001b[0;34m]\u001b[0m\u001b[0;34m:\u001b[0m\u001b[0;34m\u001b[0m\u001b[0;34m\u001b[0m\u001b[0m\n",
      "\u001b[0;31mAttributeError\u001b[0m: 'Slice' object has no attribute 'export_raw_items'"
     ]
    }
   ],
   "source": [
    "#\n",
    "# Copyright 2020-2021 Voxel Labs, Inc.\n",
    "# All rights reserved.\n",
    "#\n",
    "# This document may not be reproduced, republished, distributed, transmitted,\n",
    "# displayed, broadcast or otherwise exploited in any manner without the express\n",
    "# prior written permission of Voxel Labs, Inc. The receipt or possession of this\n",
    "# document does not convey any rights to reproduce, disclose, or distribute its\n",
    "# contents, or to manufacture, use, or sell anything that it may describe, in\n",
    "# whole or in part.\n",
    "#\n",
    "\n",
    "import os\n",
    "import nucleus\n",
    "import random\n",
    "import urllib.request\n",
    "\n",
    "print(nucleus.__version__)\n",
    "\n",
    "# constants\n",
    "API_KEY = \"test_5e1c456d97854e39915291f2b809a34a\"\n",
    "DATASET_ID = \"ds_c7gxa10da6sg0asdn9bg\"\n",
    "\n",
    "'''\n",
    "SLICE IDS:\n",
    "    VALIDATION\n",
    "        HAT: slc_c7h061gmvh9g05rzk82g\n",
    "        NO_HAT: slc_c7h05qengdr005r7cqyg\n",
    "    TRAIN\n",
    "        HAT: slc_c7h0s8nedg7g0780d6mg\n",
    "        NO_HAT: slc_c7h0sfxprz9g05rs0pcg\n",
    "'''\n",
    "SLICE_ID = \"slc_c7h05qengdr005r7cqyg\"\n",
    "\n",
    "STATE_METADATA = [\"hat\", \"no_hat\"]\n",
    "STATE_METADATA = [\"hat\"]\n",
    "SITE_METADATA = [\"americold\", \"meijer\", \"uscold\", \"formfitness\"]\n",
    "SITE_METADATA = [\"uscold\",]\n",
    "ROOT_DIR = \"/data/hh/\"\n",
    "\n",
    "\n",
    "# Create Nucleus client and connect to dataset\n",
    "client = nucleus.NucleusClient(API_KEY)\n",
    "dataset = client.get_dataset(DATASET_ID)\n",
    "\n",
    "# Train / Test / Val Split\n",
    "train_split = 8\n",
    "test_split = 1\n",
    "val_split = 1\n",
    "split_distribution = ['train'] * train_split + ['test'] * test_split + ['val'] * val_split\n",
    "\n",
    "\n",
    "# slice & directory\n",
    "data_slice = client.get_slice(SLICE_ID)\n",
    "split = 'val'\n",
    "state = 'hat'\n",
    "\n",
    "dir = os.path.join(ROOT_DIR, split, state)\n",
    "\n",
    "# Download\n",
    "results = data_slice.export_raw_items()\n",
    "\n",
    "for result in results['raw_dataset_items']:\n",
    "    ref_id = result['ref_id']\n",
    "    img_url = result['scale_url']\n",
    "    \n",
    "    full_path = os.path.join(dir, ref_id)+'.jpg'\n",
    "    urllib.request.urlretrieve(img_url, full_path)\n",
    "\n",
    "    print(\"full path: \", full_path)"
   ]
  },
  {
   "cell_type": "code",
   "execution_count": 4,
   "id": "d46f5792",
   "metadata": {},
   "outputs": [],
   "source": [
    "loss = FocalLoss(0.25,2, 'mean')"
   ]
  },
  {
   "cell_type": "code",
   "execution_count": 5,
   "id": "514c2583",
   "metadata": {},
   "outputs": [
    {
     "name": "stdout",
     "output_type": "stream",
     "text": [
      "FocalLoss()\n"
     ]
    }
   ],
   "source": [
    "print(loss)"
   ]
  },
  {
   "cell_type": "code",
   "execution_count": 6,
   "id": "c732c74e",
   "metadata": {},
   "outputs": [],
   "source": [
    "data_transforms = {\n",
    "            'train': transforms.Compose([\n",
    "                transforms.RandomResizedCrop((224,224),scale=(0.7,1.0)),\n",
    "                transforms.RandomHorizontalFlip(),\n",
    "                transforms.ToTensor(),\n",
    "                transforms.Normalize([0.485, 0.456, 0.406], [0.229, 0.224, 0.225])\n",
    "            ]),\n",
    "            'val': transforms.Compose([\n",
    "                transforms.Resize(256),\n",
    "                transforms.CenterCrop(224),\n",
    "                transforms.ToTensor(),\n",
    "                transforms.Normalize([0.485, 0.456, 0.406], [0.229, 0.224, 0.225])\n",
    "            ]),\n",
    "        }"
   ]
  },
  {
   "cell_type": "code",
   "execution_count": 8,
   "id": "26969201",
   "metadata": {},
   "outputs": [
    {
     "name": "stdout",
     "output_type": "stream",
     "text": [
      "{'train': Compose(\n",
      "    RandomResizedCrop(size=(224, 224), scale=(0.7, 1.0), ratio=(0.75, 1.3333), interpolation=bilinear)\n",
      "    RandomHorizontalFlip(p=0.5)\n",
      "    ToTensor()\n",
      "    Normalize(mean=[0.485, 0.456, 0.406], std=[0.229, 0.224, 0.225])\n",
      "), 'val': Compose(\n",
      "    Resize(size=256, interpolation=bilinear, max_size=None, antialias=None)\n",
      "    CenterCrop(size=(224, 224))\n",
      "    ToTensor()\n",
      "    Normalize(mean=[0.485, 0.456, 0.406], std=[0.229, 0.224, 0.225])\n",
      ")}\n"
     ]
    }
   ],
   "source": [
    "print(data_transforms)"
   ]
  },
  {
   "cell_type": "code",
   "execution_count": null,
   "id": "128bfcbd",
   "metadata": {},
   "outputs": [],
   "source": []
  }
 ],
 "metadata": {
  "kernelspec": {
   "display_name": "Python 3 (ipykernel)",
   "language": "python",
   "name": "python3"
  },
  "language_info": {
   "codemirror_mode": {
    "name": "ipython",
    "version": 3
   },
   "file_extension": ".py",
   "mimetype": "text/x-python",
   "name": "python",
   "nbconvert_exporter": "python",
   "pygments_lexer": "ipython3",
   "version": "3.8.10"
  }
 },
 "nbformat": 4,
 "nbformat_minor": 5
}
