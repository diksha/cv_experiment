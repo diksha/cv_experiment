{
 "cells": [
  {
   "cell_type": "code",
   "execution_count": 7,
   "id": "296be4ef",
   "metadata": {},
   "outputs": [
    {
     "name": "stdout",
     "output_type": "stream",
     "text": [
      "['/home/reza_voxelsafety_com/experiments/ergonomic/ergo_syntheticdata_downsample/_americold-savannah-bloomingdale-0002', '/home/reza_voxelsafety_com/experiments/ergonomic/ergo_syntheticdata_downsample/_americold-savannah-bloomingdale-0005', '/home/reza_voxelsafety_com/experiments/ergonomic/ergo_syntheticdata_downsample/_americold-savannah-pooler-0004', '/home/reza_voxelsafety_com/experiments/ergonomic/ergo_syntheticdata_downsample/_uscold-laredo-dock01', '/home/reza_voxelsafety_com/experiments/ergonomic/ergo_syntheticdata_downsample/_americold-savannah-pooler-0008', '/home/reza_voxelsafety_com/experiments/ergonomic/ergo_syntheticdata_downsample/_americold-savannah-pooler-0007', '/home/reza_voxelsafety_com/experiments/ergonomic/ergo_syntheticdata_downsample/_americold-savannah-bloomingdale-0007', '/home/reza_voxelsafety_com/experiments/ergonomic/ergo_syntheticdata_downsample/_americold-savannah-bloomingdale-0006', '/home/reza_voxelsafety_com/experiments/ergonomic/ergo_syntheticdata_downsample/_americold-savannah-bloomingdale-0004', '/home/reza_voxelsafety_com/experiments/ergonomic/ergo_syntheticdata_downsample/_americold-savannah-pooler-0005', '/home/reza_voxelsafety_com/experiments/ergonomic/ergo_syntheticdata_downsample/_americold-savannah-pooler-0006', '/home/reza_voxelsafety_com/experiments/ergonomic/ergo_syntheticdata_downsample/_americold-savannah-pooler-0009']\n"
     ]
    }
   ],
   "source": [
    "import sys\n",
    "sys.path.append(os.environ[\"BUILD_WORKSPACE_DIRECTORY\"])\n",
    "import json\n",
    "import os\n",
    "import matplotlib.pyplot as plt\n",
    "from PIL import Image\n",
    "root_dir = '/home/reza_voxelsafety_com/experiments/ergonomic/ergo_syntheticdata_downsample/'\n",
    "data_dirs = [x[0] for x in os.walk(root_dir)][1:]\n",
    "print(data_dirs)\n",
    "from core.infra.cloud.gcs_cv2_utils import upload_cv2_image_to_gcs\n",
    "from core.infra.cloud.gcs_utils import dump_to_gcs, get_storage_client\n",
    "output_path = \"gs://voxel-users/reza/ergo_syntheticdata_downsample\"\n",
    "storage_client = get_storage_client()"
   ]
  },
  {
   "cell_type": "code",
   "execution_count": 8,
   "id": "7dd23a21",
   "metadata": {},
   "outputs": [],
   "source": [
    "import os\n",
    "\n",
    "from core.perception.pose.api import FastPose, PoseModel\n",
    "\n",
    "class PoseModelSyn(PoseModel):\n",
    "    def __call__(self, frame, annotation):\n",
    "        box = [annotation['bbox'][0],\n",
    "        annotation['bbox'][1],\n",
    "        annotation['bbox'][0] + annotation['bbox'][2], \n",
    "        annotation['bbox'][1] + annotation['bbox'][3]]\n",
    "        boxes = []\n",
    "        boxes.append(box)\n",
    "        boxes = torch.from_numpy(np.asarray(boxes))\n",
    "        scores = []\n",
    "        scores.append(1)\n",
    "        scores = torch.from_numpy(np.asarray(scores))\n",
    "        results = (\n",
    "            self._process(frame, boxes, scores) if boxes is not None else []\n",
    "        )\n",
    "        pose = None\n",
    "        for result in results:\n",
    "            pose = self._get_pose_from_result(result)\n",
    "        \n",
    "        return pose\n",
    "\n"
   ]
  },
  {
   "cell_type": "code",
   "execution_count": 9,
   "id": "6af20325",
   "metadata": {},
   "outputs": [],
   "source": [
    "keypoints = [\n",
    "            \"nose\",\n",
    "            \"left_eye\",\n",
    "            \"right_eye\",\n",
    "            \"left_ear\",\n",
    "            \"right_ear\",\n",
    "            \"left_shoulder\",\n",
    "            \"right_shoulder\",\n",
    "            \"left_elbow\",\n",
    "            \"right_elbow\",\n",
    "            \"left_wrist\",\n",
    "            \"right_wrist\",\n",
    "            \"left_hip\",\n",
    "            \"right_hip\",\n",
    "            \"left_knee\",\n",
    "            \"right_knee\",\n",
    "            \"left_ankle\",\n",
    "            \"right_ankle\"\n",
    "            ]"
   ]
  },
  {
   "cell_type": "code",
   "execution_count": null,
   "id": "1edebe01",
   "metadata": {},
   "outputs": [
    {
     "name": "stdout",
     "output_type": "stream",
     "text": [
      "/home/reza_voxelsafety_com/experiments/ergonomic/ergo_syntheticdata_downsample/_americold-savannah-bloomingdale-0002\n",
      "/home/reza_voxelsafety_com/experiments/ergonomic/ergo_syntheticdata_downsample/_americold-savannah-bloomingdale-0005\n",
      "/home/reza_voxelsafety_com/experiments/ergonomic/ergo_syntheticdata_downsample/_americold-savannah-pooler-0004\n",
      "/home/reza_voxelsafety_com/experiments/ergonomic/ergo_syntheticdata_downsample/_uscold-laredo-dock01\n",
      "/home/reza_voxelsafety_com/experiments/ergonomic/ergo_syntheticdata_downsample/_americold-savannah-pooler-0008\n",
      "/home/reza_voxelsafety_com/experiments/ergonomic/ergo_syntheticdata_downsample/_americold-savannah-pooler-0007\n",
      "/home/reza_voxelsafety_com/experiments/ergonomic/ergo_syntheticdata_downsample/_americold-savannah-bloomingdale-0007\n",
      "/home/reza_voxelsafety_com/experiments/ergonomic/ergo_syntheticdata_downsample/_americold-savannah-bloomingdale-0006\n",
      "/home/reza_voxelsafety_com/experiments/ergonomic/ergo_syntheticdata_downsample/_americold-savannah-bloomingdale-0004\n",
      "/home/reza_voxelsafety_com/experiments/ergonomic/ergo_syntheticdata_downsample/_americold-savannah-pooler-0005\n"
     ]
    }
   ],
   "source": [
    "import numpy as np\n",
    "import torch\n",
    "import cv2\n",
    "pose_model = PoseModelSyn('/home/reza_voxelsafety_com/experiments/ergonomic/model/fast_res50_256x192.pth')\n",
    "for i in range(len(data_dirs)):\n",
    "    print(data_dirs[i])\n",
    "    data = json.load(open(f\"{data_dirs[i]}/annotations.json\"))\n",
    "    save_subfolder = data_dirs[i].split('/')[-1]\n",
    "    img_dict = {}\n",
    "    for name in data['images']:\n",
    "        img_dict[name['id']] = name['file_name']\n",
    "    annotations = data['annotations']\n",
    "    annotations_new = []\n",
    "    for anno in annotations:\n",
    "        keypoints_model = []\n",
    "        img_name = img_dict[anno['image_id']]\n",
    "        sample_image = Image.open(os.path.join(data_dirs[i], img_name))\n",
    "        \n",
    "        if anno['category_id'] == 0:\n",
    "#             print(f\"keypoints: {anno['keypoints']}\")\n",
    "            box = anno['bbox']\n",
    "            img_array = np.asarray(sample_image)[...,:3]\n",
    "            #temp = cv2.cvtColor(np.ascontiguousarray(temp), cv2.COLOR_RGB2BGR)\n",
    "            pose = pose_model(img_array, anno)\n",
    "            if pose is not None:\n",
    "            #img_draw = pose.draw(np.ascontiguousarray(img_array))\n",
    "#             plt.imshow(img_draw)\n",
    "#             plt.show()\n",
    "                model_output = pose.to_dict()\n",
    "                for keyp in keypoints:\n",
    "                    keypoints_model.append(model_output[keyp]['x'])\n",
    "                    keypoints_model.append(model_output[keyp]['y'])\n",
    "                    keypoints_model.append(model_output[keyp]['confidence'])\n",
    "                actor_img = sample_image.crop((box[0], box[1], box[0] + box[2], box[1] + box[3]))\n",
    "                anno['keypoints'] = keypoints_model\n",
    "    #             print(f\"keypoints of alphapose: {keypoints_model}\")\n",
    "                annotations_new.append(anno)\n",
    "            else:\n",
    "                anno['keypoints'] = []\n",
    "                annotations_new.append(anno)\n",
    "    data['annotations'] = annotations_new\n",
    "    gcs_label_path = f\"{output_path}/{save_subfolder}/annotations_model.json\"\n",
    "    dump_to_gcs(\n",
    "            gcs_label_path,\n",
    "            json.dumps(data),\n",
    "            content_type=\"application/json\",\n",
    "    )"
   ]
  },
  {
   "cell_type": "code",
   "execution_count": null,
   "id": "bb48df52",
   "metadata": {},
   "outputs": [],
   "source": []
  }
 ],
 "metadata": {
  "kernelspec": {
   "display_name": "Python 3 (ipykernel)",
   "language": "python",
   "name": "python3"
  },
  "language_info": {
   "codemirror_mode": {
    "name": "ipython",
    "version": 3
   },
   "file_extension": ".py",
   "mimetype": "text/x-python",
   "name": "python",
   "nbconvert_exporter": "python",
   "pygments_lexer": "ipython3",
   "version": "3.8.10"
  }
 },
 "nbformat": 4,
 "nbformat_minor": 5
}
