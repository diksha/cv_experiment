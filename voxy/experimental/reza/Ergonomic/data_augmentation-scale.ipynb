{
 "cells": [
  {
   "cell_type": "code",
   "execution_count": 26,
   "id": "54c207b7",
   "metadata": {},
   "outputs": [],
   "source": [
    "import json\n",
    "import sys\n",
    "import os\n",
    "sys.path.append(os.environ[\"BUILD_WORKSPACE_DIRECTORY\"])\n"
   ]
  },
  {
   "cell_type": "code",
   "execution_count": 27,
   "id": "fbb7c9fb",
   "metadata": {},
   "outputs": [],
   "source": [
    "from core.infra.cloud.gcs_cv2_utils import upload_cv2_image_to_gcs\n",
    "from core.infra.cloud.gcs_utils import dump_to_gcs, get_storage_client\n",
    "output_path = \"gs://voxel-users/reza/ergo_syntheticdata_downsample\"\n",
    "storage_client = get_storage_client()"
   ]
  },
  {
   "cell_type": "code",
   "execution_count": 28,
   "id": "b2e88f41",
   "metadata": {},
   "outputs": [],
   "source": [
    "import numpy as np\n",
    "import torch\n",
    "import cv2\n",
    "from PIL import Image\n",
    "import os\n",
    "import matplotlib.pyplot as plt\n",
    "from torchvision import transforms\n",
    "transform = transforms.ColorJitter(brightness=(0.3,1.2))\n",
    "def get_downsample(data, dict_sample, max_id, root_dir):\n",
    "    annotations = data['annotations'].copy()\n",
    "    annotations_new = []\n",
    "    annotations_new.extend(annotations)\n",
    "    save_subfolder = root_dir.split('/')[-1]\n",
    "    for img_name, annos in dict_sample.items():\n",
    "        sample_image = Image.open(os.path.join(root_dir, img_name))\n",
    "        img_array = np.asarray(sample_image)[...,:3]\n",
    "        sample_image = Image.fromarray(img_array.astype('uint8'), 'RGB')\n",
    "        upload_cv2_image_to_gcs(\n",
    "                     cv2.cvtColor(np.asarray(sample_image), cv2.COLOR_BGR2RGB),\n",
    "                     f\"{output_path}/{save_subfolder}/{img_name}\",\n",
    "                    storage_client=storage_client,\n",
    "                )\n",
    "        for i in [0.75, 0.5, 0.25]:\n",
    "            max_id = max_id + 1\n",
    "            new_width = int(sample_image.width * i)\n",
    "            new_height = int(sample_image.height * i)\n",
    "            Image1copy = sample_image.resize((new_width, new_height), Image.ANTIALIAS)\n",
    "            image_name1 = f\"scale_{i}_{img_name}\"\n",
    "            occlude_key1 = {'id': max_id, 'file_name': image_name1, 'width': Image1copy.width, 'height': Image1copy.height}\n",
    "            data['images'].append(occlude_key1)\n",
    "            for anno in annos:\n",
    "                if anno['category_id'] == 0:\n",
    "                    anno_new = anno.copy()\n",
    "                    anno_new['bbox'] = [int(x * i) for x in anno_new['bbox']]\n",
    "                    anno_new['image_id'] = occlude_key1['id']\n",
    "                    annotations_new.append(anno_new)\n",
    "            upload_cv2_image_to_gcs(\n",
    "                     cv2.cvtColor(np.asarray(Image1copy), cv2.COLOR_BGR2RGB),\n",
    "                     f\"{output_path}/{save_subfolder}/{image_name1}\",\n",
    "                    storage_client=storage_client,\n",
    "                )\n",
    "    data['annotations'] = annotations_new\n",
    "    gcs_label_path = f\"{output_path}/{save_subfolder}/annotations.json\"\n",
    "    dump_to_gcs(\n",
    "            gcs_label_path,\n",
    "            json.dumps(data),\n",
    "            content_type=\"application/json\",\n",
    "    )\n",
    "    "
   ]
  },
  {
   "cell_type": "code",
   "execution_count": 29,
   "id": "23876cdb",
   "metadata": {},
   "outputs": [
    {
     "name": "stdout",
     "output_type": "stream",
     "text": [
      "['/home/reza_voxelsafety_com/experiments/ergonomic/ergonomic-Infinity/_americold-savannah-bloomingdale-0002', '/home/reza_voxelsafety_com/experiments/ergonomic/ergonomic-Infinity/_americold-savannah-bloomingdale-0005', '/home/reza_voxelsafety_com/experiments/ergonomic/ergonomic-Infinity/_americold-savannah-pooler-0004', '/home/reza_voxelsafety_com/experiments/ergonomic/ergonomic-Infinity/_uscold-laredo-dock01', '/home/reza_voxelsafety_com/experiments/ergonomic/ergonomic-Infinity/_americold-savannah-pooler-0008', '/home/reza_voxelsafety_com/experiments/ergonomic/ergonomic-Infinity/_americold-savannah-pooler-0007', '/home/reza_voxelsafety_com/experiments/ergonomic/ergonomic-Infinity/_americold-savannah-bloomingdale-0007', '/home/reza_voxelsafety_com/experiments/ergonomic/ergonomic-Infinity/_americold-savannah-bloomingdale-0006', '/home/reza_voxelsafety_com/experiments/ergonomic/ergonomic-Infinity/_americold-savannah-bloomingdale-0004', '/home/reza_voxelsafety_com/experiments/ergonomic/ergonomic-Infinity/_americold-savannah-pooler-0005', '/home/reza_voxelsafety_com/experiments/ergonomic/ergonomic-Infinity/_americold-savannah-pooler-0006', '/home/reza_voxelsafety_com/experiments/ergonomic/ergonomic-Infinity/_americold-savannah-pooler-0009']\n"
     ]
    }
   ],
   "source": [
    "root_dir = '/home/reza_voxelsafety_com/experiments/ergonomic/ergonomic-Infinity/'\n",
    "data_dirs = [x[0] for x in os.walk(root_dir)][1:]\n",
    "print(data_dirs)"
   ]
  },
  {
   "cell_type": "code",
   "execution_count": 30,
   "id": "45818ade",
   "metadata": {},
   "outputs": [
    {
     "name": "stdout",
     "output_type": "stream",
     "text": [
      "/home/reza_voxelsafety_com/experiments/ergonomic/ergonomic-Infinity/_americold-savannah-bloomingdale-0002\n",
      "/home/reza_voxelsafety_com/experiments/ergonomic/ergonomic-Infinity/_americold-savannah-bloomingdale-0005\n",
      "/home/reza_voxelsafety_com/experiments/ergonomic/ergonomic-Infinity/_americold-savannah-pooler-0004\n",
      "/home/reza_voxelsafety_com/experiments/ergonomic/ergonomic-Infinity/_uscold-laredo-dock01\n",
      "/home/reza_voxelsafety_com/experiments/ergonomic/ergonomic-Infinity/_americold-savannah-pooler-0008\n",
      "/home/reza_voxelsafety_com/experiments/ergonomic/ergonomic-Infinity/_americold-savannah-pooler-0007\n",
      "/home/reza_voxelsafety_com/experiments/ergonomic/ergonomic-Infinity/_americold-savannah-bloomingdale-0007\n",
      "/home/reza_voxelsafety_com/experiments/ergonomic/ergonomic-Infinity/_americold-savannah-bloomingdale-0006\n",
      "/home/reza_voxelsafety_com/experiments/ergonomic/ergonomic-Infinity/_americold-savannah-bloomingdale-0004\n",
      "/home/reza_voxelsafety_com/experiments/ergonomic/ergonomic-Infinity/_americold-savannah-pooler-0005\n",
      "/home/reza_voxelsafety_com/experiments/ergonomic/ergonomic-Infinity/_americold-savannah-pooler-0006\n",
      "/home/reza_voxelsafety_com/experiments/ergonomic/ergonomic-Infinity/_americold-savannah-pooler-0009\n"
     ]
    }
   ],
   "source": [
    "for i in range(len(data_dirs)):\n",
    "    print(data_dirs[i])\n",
    "    data = json.load(open(f\"{data_dirs[i]}/annotations.json\"))\n",
    "    dict_sample = {}\n",
    "    for name in data['images']:\n",
    "        sample = [anno for anno in data['annotations'] if anno['image_id'] == name['id']]\n",
    "        dict_sample[name['file_name']] = sample\n",
    "    ids = [imgdata['id'] for imgdata in data['images']]\n",
    "    max_id = max(ids)\n",
    "    get_downsample(data, dict_sample, max_id, data_dirs[i])\n",
    "    "
   ]
  },
  {
   "cell_type": "code",
   "execution_count": 8,
   "id": "3c42fbb7",
   "metadata": {},
   "outputs": [],
   "source": [
    "A = [1, 2, 3, 4]"
   ]
  },
  {
   "cell_type": "code",
   "execution_count": 9,
   "id": "bee8dc41",
   "metadata": {},
   "outputs": [
    {
     "name": "stdout",
     "output_type": "stream",
     "text": [
      "[0.1, 0.2, 0.3, 0.4]\n"
     ]
    }
   ],
   "source": [
    "A = [x / 10 for x in A]\n",
    "print(A)"
   ]
  },
  {
   "cell_type": "code",
   "execution_count": null,
   "id": "23f75b53",
   "metadata": {},
   "outputs": [],
   "source": []
  }
 ],
 "metadata": {
  "kernelspec": {
   "display_name": "Python 3 (ipykernel)",
   "language": "python",
   "name": "python3"
  },
  "language_info": {
   "codemirror_mode": {
    "name": "ipython",
    "version": 3
   },
   "file_extension": ".py",
   "mimetype": "text/x-python",
   "name": "python",
   "nbconvert_exporter": "python",
   "pygments_lexer": "ipython3",
   "version": "3.8.10"
  }
 },
 "nbformat": 4,
 "nbformat_minor": 5
}
