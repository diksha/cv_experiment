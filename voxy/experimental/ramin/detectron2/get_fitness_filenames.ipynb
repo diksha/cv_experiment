{
 "cells": [
  {
   "cell_type": "code",
   "execution_count": 4,
   "id": "b0f484b5",
   "metadata": {},
   "outputs": [],
   "source": [
    "from os import listdir\n",
    "from os.path import isfile, join\n"
   ]
  },
  {
   "cell_type": "code",
   "execution_count": 14,
   "id": "707f7eee",
   "metadata": {},
   "outputs": [],
   "source": [
    "mypath = '/home/ramin_voxelsafety_com/deleteMe/'\n",
    "prefix = 'formfitness/paloalto/gopro/march2020/'\n",
    "onlyfiles = [prefix + f.split('.')[0] for f in listdir(mypath) if isfile(join(mypath, f))]"
   ]
  },
  {
   "cell_type": "code",
   "execution_count": 15,
   "id": "317b9131",
   "metadata": {},
   "outputs": [
    {
     "name": "stdout",
     "output_type": "stream",
     "text": [
      "formfitness/paloalto/gopro/march2020/f04b23c2-5129-4a7b-80e9-02c6d5aef473\n",
      "formfitness/paloalto/gopro/march2020/47ce9f7c-c9f0-4544-9cbe-a73cc449ad33\n",
      "formfitness/paloalto/gopro/march2020/8b539f7d-a813-43e6-b15c-1477fdf39036\n",
      "formfitness/paloalto/gopro/march2020/614a03b0-5f46-4771-8bd8-64470e7d0e6c\n",
      "formfitness/paloalto/gopro/march2020/d269a90f-fd6e-4bae-815c-ac811da55802\n",
      "formfitness/paloalto/gopro/march2020/259ef507-405f-4b2d-982b-b16f4bab6cf2\n",
      "formfitness/paloalto/gopro/march2020/a60b9a55-9634-466d-9bf9-61da8781af3c\n",
      "formfitness/paloalto/gopro/march2020/a21ed4ed-c7c7-4bbb-9854-a4c05ec319f7\n",
      "formfitness/paloalto/gopro/march2020/12eefb0c-4ac4-4220-a8e3-561b04fb413a\n",
      "formfitness/paloalto/gopro/march2020/830cdadb-9599-48ff-b5fd-857daa3d1d39\n",
      "formfitness/paloalto/gopro/march2020/f5fe8d32-adb8-44ca-ac30-e3a9736a0233\n",
      "formfitness/paloalto/gopro/march2020/481ccc3a-1abe-4fa5-bb2f-84a78ec2260d\n",
      "formfitness/paloalto/gopro/march2020/b18adbae-a809-474b-9d85-5a561c984efa\n",
      "formfitness/paloalto/gopro/march2020/4bffb263-0d80-4ea8-bb42-173bdf0b73d9\n",
      "formfitness/paloalto/gopro/march2020/00c507e2-b347-402a-83c3-0e5d79725695\n",
      "formfitness/paloalto/gopro/march2020/4256a219-9fd5-4ba0-912c-72fb7b47770e\n",
      "formfitness/paloalto/gopro/march2020/4d841df7-16c8-4664-93ea-6a22dc1100a7\n",
      "formfitness/paloalto/gopro/march2020/9b1b2764-2623-4ef8-8ee6-0d8cd5d9a73d\n",
      "formfitness/paloalto/gopro/march2020/554a7851-951b-4b0a-9052-7b7e36453b75\n",
      "formfitness/paloalto/gopro/march2020/b9414612-3e71-41e1-8728-8d9c6249f782\n",
      "formfitness/paloalto/gopro/march2020/e7a69dbe-3bcd-4402-8a18-19e251cfd79d\n",
      "formfitness/paloalto/gopro/march2020/d8917dc7-aa05-4525-832a-469d86ab95d8\n",
      "formfitness/paloalto/gopro/march2020/1419173b-30de-42b5-b190-f39dd2af1c59\n",
      "formfitness/paloalto/gopro/march2020/35b36c52-a7e2-403a-acb6-ee51a4119e51\n",
      "formfitness/paloalto/gopro/march2020/d35d7c83-3b30-4462-80f8-ea4058484bc8\n",
      "formfitness/paloalto/gopro/march2020/85c30928-eff8-403c-ae6d-754c9d1ecb90\n",
      "formfitness/paloalto/gopro/march2020/41616291-b67b-4b2c-8728-5ba8113b6c66\n",
      "formfitness/paloalto/gopro/march2020/26506dae-3ecb-4aa9-9842-22bef855bd56\n",
      "formfitness/paloalto/gopro/march2020/0d273426-f5d4-4c6d-8044-750989b22107\n",
      "formfitness/paloalto/gopro/march2020/0c558f2f-2ed5-4df3-a757-4e39367bf2cf\n",
      "formfitness/paloalto/gopro/march2020/087d3545-62ac-419b-b323-f98894f6be89\n",
      "formfitness/paloalto/gopro/march2020/e7b24963-d56c-4597-8bf7-dc09bc73afe1\n",
      "formfitness/paloalto/gopro/march2020/d5e6d7e4-f55f-4a26-bfcb-3e3d5bc9e4a2\n",
      "formfitness/paloalto/gopro/march2020/2e986e9d-c9e6-4dda-be2f-b690dfd599a5\n",
      "formfitness/paloalto/gopro/march2020/ed185bf8-0694-4b38-8b1f-f79b85783bd6\n",
      "formfitness/paloalto/gopro/march2020/d12edf7b-a5ce-4abf-a970-54315638ceed\n",
      "formfitness/paloalto/gopro/march2020/b7f044fd-9eb8-4f62-91d3-8fc3858d2f8d\n",
      "formfitness/paloalto/gopro/march2020/e2745558-7d5e-4fb2-a9a7-03da1b522381\n",
      "formfitness/paloalto/gopro/march2020/9d1b30c6-6071-4db4-a6c0-710debfd8015\n",
      "formfitness/paloalto/gopro/march2020/671c56db-60d2-46c6-a6a7-85d05761f95f\n",
      "formfitness/paloalto/gopro/march2020/71141bfa-8a93-478c-97f3-92c6270ed912\n",
      "formfitness/paloalto/gopro/march2020/0fad7463-547f-4ab8-a1cf-edd4ee518e3f\n",
      "formfitness/paloalto/gopro/march2020/a0f41cc3-3a75-498d-b8ae-47c871cb922a\n",
      "formfitness/paloalto/gopro/march2020/8d10d83c-0b68-4e37-b31b-5e716ec94c30\n",
      "formfitness/paloalto/gopro/march2020/ba677f80-7d29-452d-8a76-81ed010dc1ab\n",
      "formfitness/paloalto/gopro/march2020/27018f27-19fd-4fd1-a39c-35368bd04434\n",
      "formfitness/paloalto/gopro/march2020/d9b89a50-ade6-4a57-806e-f7625b339c20\n",
      "formfitness/paloalto/gopro/march2020/acbe1d91-cc2a-4dd7-a1fa-c3e60144ee62\n",
      "formfitness/paloalto/gopro/march2020/8784f623-54bc-4b62-9695-9e8227790a54\n",
      "formfitness/paloalto/gopro/march2020/43167cc0-71fc-4904-accf-46b8817a4ca5\n",
      "formfitness/paloalto/gopro/march2020/3db06380-48fe-4a9a-b229-8bfaf4af5c29\n",
      "formfitness/paloalto/gopro/march2020/c89e3beb-cbbf-4502-b67f-d23b580926dd\n",
      "formfitness/paloalto/gopro/march2020/a2523d46-f54e-48d5-9d4a-ab285217a0d4\n",
      "formfitness/paloalto/gopro/march2020/5d43767e-1a04-4b06-959f-4df01258a620\n",
      "formfitness/paloalto/gopro/march2020/63fd85f8-d8d9-421e-bd87-f057dbe16dbd\n",
      "formfitness/paloalto/gopro/march2020/98ea5cdf-c681-40a2-8c5c-c1abb6e127db\n",
      "formfitness/paloalto/gopro/march2020/bbedd5cb-a32d-48ad-9111-ceaeaac0c31b\n",
      "formfitness/paloalto/gopro/march2020/c91052fb-fb50-4409-bf00-5c5ade6642f2\n",
      "formfitness/paloalto/gopro/march2020/f4782db1-3f27-4d63-9ab9-9a72b416e98e\n",
      "formfitness/paloalto/gopro/march2020/9b27f223-1776-407a-aca6-495dea8f8c97\n",
      "formfitness/paloalto/gopro/march2020/e98fcb5c-aa20-4caa-a909-a5f21ba4f281\n",
      "formfitness/paloalto/gopro/march2020/ac329729-0457-425b-8720-daa929eb9efa\n",
      "formfitness/paloalto/gopro/march2020/55cc59c8-b6c1-451a-95d3-2d05d6c0315a\n",
      "formfitness/paloalto/gopro/march2020/2d9acbb9-1676-41b6-bf71-bad257043809\n",
      "formfitness/paloalto/gopro/march2020/f020ad4e-fa5d-4bb1-ad77-0b6002d9547b\n",
      "formfitness/paloalto/gopro/march2020/e5ae0adf-b17d-4046-a384-6c8edace5790\n",
      "formfitness/paloalto/gopro/march2020/fab526f1-8535-4bde-a057-03f8c8ae9b3b\n",
      "formfitness/paloalto/gopro/march2020/5e5f3fa5-3368-478b-9d23-f341f125e773\n",
      "formfitness/paloalto/gopro/march2020/4e3e03a2-03ed-441e-bf80-95eafd9708dc\n",
      "formfitness/paloalto/gopro/march2020/1a6a75b2-f2aa-43e7-adf8-c4fdb63325bc\n"
     ]
    }
   ],
   "source": [
    "for o in onlyfiles:\n",
    "    print(o)"
   ]
  },
  {
   "cell_type": "code",
   "execution_count": null,
   "id": "da692fe7",
   "metadata": {},
   "outputs": [],
   "source": [
    "gsu"
   ]
  }
 ],
 "metadata": {
  "kernelspec": {
   "display_name": "Python 3 (ipykernel)",
   "language": "python",
   "name": "python3"
  },
  "language_info": {
   "codemirror_mode": {
    "name": "ipython",
    "version": 3
   },
   "file_extension": ".py",
   "mimetype": "text/x-python",
   "name": "python",
   "nbconvert_exporter": "python",
   "pygments_lexer": "ipython3",
   "version": "3.8.10"
  }
 },
 "nbformat": 4,
 "nbformat_minor": 5
}
